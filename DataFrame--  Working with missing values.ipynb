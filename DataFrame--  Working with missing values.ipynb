{
 "cells": [
  {
   "cell_type": "markdown",
   "id": "b0f0a580-ce72-42e2-8a3b-3e0cd321cc84",
   "metadata": {},
   "source": [
    "# Finding and working with missing values"
   ]
  },
  {
   "cell_type": "code",
   "execution_count": 1,
   "id": "8f662db1-fb15-489a-a961-b63e586a5852",
   "metadata": {},
   "outputs": [
    {
     "name": "stdout",
     "output_type": "stream",
     "text": [
      "   First Score  Second Score  Third Score\n",
      "0        100.0          30.0          NaN\n",
      "1         90.0          45.0         40.0\n",
      "2          NaN          56.0         80.0\n",
      "3         95.0           NaN         98.0\n"
     ]
    }
   ],
   "source": [
    "import pandas as pd\n",
    "import numpy as np\n",
    "dict = {'First Score':[100, 90, np.nan, 95],\n",
    "        'Second Score': [30, 45, 56, np.nan],\n",
    "        'Third Score':[np.nan, 40, 80, 98]}\n",
    "df = pd.DataFrame(dict)\n",
    "print(df)"
   ]
  },
  {
   "cell_type": "code",
   "execution_count": 2,
   "id": "1063de5d-b37f-40ae-95d1-a35420980d92",
   "metadata": {},
   "outputs": [
    {
     "data": {
      "text/html": [
       "<div>\n",
       "<style scoped>\n",
       "    .dataframe tbody tr th:only-of-type {\n",
       "        vertical-align: middle;\n",
       "    }\n",
       "\n",
       "    .dataframe tbody tr th {\n",
       "        vertical-align: top;\n",
       "    }\n",
       "\n",
       "    .dataframe thead th {\n",
       "        text-align: right;\n",
       "    }\n",
       "</style>\n",
       "<table border=\"1\" class=\"dataframe\">\n",
       "  <thead>\n",
       "    <tr style=\"text-align: right;\">\n",
       "      <th></th>\n",
       "      <th>First Score</th>\n",
       "      <th>Second Score</th>\n",
       "      <th>Third Score</th>\n",
       "    </tr>\n",
       "  </thead>\n",
       "  <tbody>\n",
       "    <tr>\n",
       "      <th>0</th>\n",
       "      <td>False</td>\n",
       "      <td>False</td>\n",
       "      <td>True</td>\n",
       "    </tr>\n",
       "    <tr>\n",
       "      <th>1</th>\n",
       "      <td>False</td>\n",
       "      <td>False</td>\n",
       "      <td>False</td>\n",
       "    </tr>\n",
       "    <tr>\n",
       "      <th>2</th>\n",
       "      <td>True</td>\n",
       "      <td>False</td>\n",
       "      <td>False</td>\n",
       "    </tr>\n",
       "    <tr>\n",
       "      <th>3</th>\n",
       "      <td>False</td>\n",
       "      <td>True</td>\n",
       "      <td>False</td>\n",
       "    </tr>\n",
       "  </tbody>\n",
       "</table>\n",
       "</div>"
      ],
      "text/plain": [
       "   First Score  Second Score  Third Score\n",
       "0        False         False         True\n",
       "1        False         False        False\n",
       "2         True         False        False\n",
       "3        False          True        False"
      ]
     },
     "execution_count": 2,
     "metadata": {},
     "output_type": "execute_result"
    }
   ],
   "source": [
    "# finding the missing values in dataframe\n",
    "df.isna()"
   ]
  },
  {
   "cell_type": "code",
   "execution_count": 3,
   "id": "18f079c1-3fb0-4a0e-9b20-39502618bdaf",
   "metadata": {},
   "outputs": [
    {
     "data": {
      "text/html": [
       "<div>\n",
       "<style scoped>\n",
       "    .dataframe tbody tr th:only-of-type {\n",
       "        vertical-align: middle;\n",
       "    }\n",
       "\n",
       "    .dataframe tbody tr th {\n",
       "        vertical-align: top;\n",
       "    }\n",
       "\n",
       "    .dataframe thead th {\n",
       "        text-align: right;\n",
       "    }\n",
       "</style>\n",
       "<table border=\"1\" class=\"dataframe\">\n",
       "  <thead>\n",
       "    <tr style=\"text-align: right;\">\n",
       "      <th></th>\n",
       "      <th>First Score</th>\n",
       "      <th>Second Score</th>\n",
       "      <th>Third Score</th>\n",
       "    </tr>\n",
       "  </thead>\n",
       "  <tbody>\n",
       "    <tr>\n",
       "      <th>0</th>\n",
       "      <td>False</td>\n",
       "      <td>False</td>\n",
       "      <td>True</td>\n",
       "    </tr>\n",
       "    <tr>\n",
       "      <th>1</th>\n",
       "      <td>False</td>\n",
       "      <td>False</td>\n",
       "      <td>False</td>\n",
       "    </tr>\n",
       "    <tr>\n",
       "      <th>2</th>\n",
       "      <td>True</td>\n",
       "      <td>False</td>\n",
       "      <td>False</td>\n",
       "    </tr>\n",
       "    <tr>\n",
       "      <th>3</th>\n",
       "      <td>False</td>\n",
       "      <td>True</td>\n",
       "      <td>False</td>\n",
       "    </tr>\n",
       "  </tbody>\n",
       "</table>\n",
       "</div>"
      ],
      "text/plain": [
       "   First Score  Second Score  Third Score\n",
       "0        False         False         True\n",
       "1        False         False        False\n",
       "2         True         False        False\n",
       "3        False          True        False"
      ]
     },
     "execution_count": 3,
     "metadata": {},
     "output_type": "execute_result"
    }
   ],
   "source": [
    "df.isnull()"
   ]
  },
  {
   "cell_type": "code",
   "execution_count": 4,
   "id": "1fff976c-f94b-4827-a31d-5309d44ee68b",
   "metadata": {},
   "outputs": [
    {
     "data": {
      "text/plain": [
       "First Score     1\n",
       "Second Score    1\n",
       "Third Score     1\n",
       "dtype: int64"
      ]
     },
     "execution_count": 4,
     "metadata": {},
     "output_type": "execute_result"
    }
   ],
   "source": [
    "df.isna().sum()"
   ]
  },
  {
   "cell_type": "code",
   "execution_count": 5,
   "id": "d53372f6-960e-4548-b4a3-a0e70f682f5f",
   "metadata": {},
   "outputs": [
    {
     "data": {
      "text/plain": [
       "First Score     1\n",
       "Second Score    1\n",
       "Third Score     1\n",
       "dtype: int64"
      ]
     },
     "execution_count": 5,
     "metadata": {},
     "output_type": "execute_result"
    }
   ],
   "source": [
    "df.isnull().sum()"
   ]
  },
  {
   "cell_type": "code",
   "execution_count": 6,
   "id": "fea6745e-4055-4d93-8b51-b9b15d0cd284",
   "metadata": {},
   "outputs": [
    {
     "name": "stdout",
     "output_type": "stream",
     "text": [
      "   First Score  Second Score  Third Score\n",
      "0        100.0          30.0          NaN\n",
      "1         90.0          45.0         40.0\n",
      "2          NaN          56.0         80.0\n",
      "3         95.0           NaN         98.0\n"
     ]
    }
   ],
   "source": [
    "print(df)"
   ]
  },
  {
   "cell_type": "code",
   "execution_count": 7,
   "id": "3bbf4c9e-9ced-4ded-9e6f-c366d79116e0",
   "metadata": {},
   "outputs": [
    {
     "data": {
      "text/plain": [
       "np.int64(1)"
      ]
     },
     "execution_count": 7,
     "metadata": {},
     "output_type": "execute_result"
    }
   ],
   "source": [
    "df[\"First Score\"].isna().sum()"
   ]
  },
  {
   "cell_type": "code",
   "execution_count": 8,
   "id": "b40c5234-e4c8-4c7a-b37a-3d4ffd593517",
   "metadata": {},
   "outputs": [
    {
     "data": {
      "text/html": [
       "<div>\n",
       "<style scoped>\n",
       "    .dataframe tbody tr th:only-of-type {\n",
       "        vertical-align: middle;\n",
       "    }\n",
       "\n",
       "    .dataframe tbody tr th {\n",
       "        vertical-align: top;\n",
       "    }\n",
       "\n",
       "    .dataframe thead th {\n",
       "        text-align: right;\n",
       "    }\n",
       "</style>\n",
       "<table border=\"1\" class=\"dataframe\">\n",
       "  <thead>\n",
       "    <tr style=\"text-align: right;\">\n",
       "      <th></th>\n",
       "      <th>First Score</th>\n",
       "      <th>Second Score</th>\n",
       "      <th>Third Score</th>\n",
       "    </tr>\n",
       "  </thead>\n",
       "  <tbody>\n",
       "    <tr>\n",
       "      <th>0</th>\n",
       "      <td>True</td>\n",
       "      <td>True</td>\n",
       "      <td>False</td>\n",
       "    </tr>\n",
       "    <tr>\n",
       "      <th>1</th>\n",
       "      <td>True</td>\n",
       "      <td>True</td>\n",
       "      <td>True</td>\n",
       "    </tr>\n",
       "    <tr>\n",
       "      <th>2</th>\n",
       "      <td>False</td>\n",
       "      <td>True</td>\n",
       "      <td>True</td>\n",
       "    </tr>\n",
       "    <tr>\n",
       "      <th>3</th>\n",
       "      <td>True</td>\n",
       "      <td>False</td>\n",
       "      <td>True</td>\n",
       "    </tr>\n",
       "  </tbody>\n",
       "</table>\n",
       "</div>"
      ],
      "text/plain": [
       "   First Score  Second Score  Third Score\n",
       "0         True          True        False\n",
       "1         True          True         True\n",
       "2        False          True         True\n",
       "3         True         False         True"
      ]
     },
     "execution_count": 8,
     "metadata": {},
     "output_type": "execute_result"
    }
   ],
   "source": [
    "# Find Boolean array with Non-NAN Values\n",
    "df.notnull()"
   ]
  },
  {
   "cell_type": "code",
   "execution_count": 9,
   "id": "8cf8eccf-8983-4196-baa9-19e26acfa8b0",
   "metadata": {},
   "outputs": [
    {
     "data": {
      "text/html": [
       "<div>\n",
       "<style scoped>\n",
       "    .dataframe tbody tr th:only-of-type {\n",
       "        vertical-align: middle;\n",
       "    }\n",
       "\n",
       "    .dataframe tbody tr th {\n",
       "        vertical-align: top;\n",
       "    }\n",
       "\n",
       "    .dataframe thead th {\n",
       "        text-align: right;\n",
       "    }\n",
       "</style>\n",
       "<table border=\"1\" class=\"dataframe\">\n",
       "  <thead>\n",
       "    <tr style=\"text-align: right;\">\n",
       "      <th></th>\n",
       "      <th>First Score</th>\n",
       "      <th>Second Score</th>\n",
       "      <th>Third Score</th>\n",
       "    </tr>\n",
       "  </thead>\n",
       "  <tbody>\n",
       "    <tr>\n",
       "      <th>0</th>\n",
       "      <td>True</td>\n",
       "      <td>True</td>\n",
       "      <td>False</td>\n",
       "    </tr>\n",
       "    <tr>\n",
       "      <th>1</th>\n",
       "      <td>True</td>\n",
       "      <td>True</td>\n",
       "      <td>True</td>\n",
       "    </tr>\n",
       "    <tr>\n",
       "      <th>2</th>\n",
       "      <td>False</td>\n",
       "      <td>True</td>\n",
       "      <td>True</td>\n",
       "    </tr>\n",
       "    <tr>\n",
       "      <th>3</th>\n",
       "      <td>True</td>\n",
       "      <td>False</td>\n",
       "      <td>True</td>\n",
       "    </tr>\n",
       "  </tbody>\n",
       "</table>\n",
       "</div>"
      ],
      "text/plain": [
       "   First Score  Second Score  Third Score\n",
       "0         True          True        False\n",
       "1         True          True         True\n",
       "2        False          True         True\n",
       "3         True         False         True"
      ]
     },
     "execution_count": 9,
     "metadata": {},
     "output_type": "execute_result"
    }
   ],
   "source": [
    "# same like this\n",
    "df.notna()"
   ]
  },
  {
   "cell_type": "code",
   "execution_count": 10,
   "id": "b8b1b39f-ffeb-40e8-898b-d500baae3e77",
   "metadata": {},
   "outputs": [
    {
     "data": {
      "text/plain": [
       "First Score     3\n",
       "Second Score    3\n",
       "Third Score     3\n",
       "dtype: int64"
      ]
     },
     "execution_count": 10,
     "metadata": {},
     "output_type": "execute_result"
    }
   ],
   "source": [
    "# finding the number of non-nan values\n",
    "df.notnull().sum()"
   ]
  },
  {
   "cell_type": "code",
   "execution_count": 11,
   "id": "cf976fca-937e-4ffa-ac99-4199a236c3e4",
   "metadata": {},
   "outputs": [
    {
     "data": {
      "text/plain": [
       "First Score     3\n",
       "Second Score    3\n",
       "Third Score     3\n",
       "dtype: int64"
      ]
     },
     "execution_count": 11,
     "metadata": {},
     "output_type": "execute_result"
    }
   ],
   "source": [
    "df.notna().sum()"
   ]
  },
  {
   "cell_type": "code",
   "execution_count": 12,
   "id": "310d6517-b3fb-4331-9a88-96bb57144fd9",
   "metadata": {},
   "outputs": [
    {
     "name": "stdout",
     "output_type": "stream",
     "text": [
      "   First Score  Second Score  Third Score\n",
      "0        100.0          30.0          NaN\n",
      "1         90.0          45.0         40.0\n",
      "2          NaN          56.0         80.0\n",
      "3         95.0           NaN         98.0\n"
     ]
    }
   ],
   "source": [
    "print(df)"
   ]
  },
  {
   "cell_type": "code",
   "execution_count": 13,
   "id": "6ce8a78b-c094-4f6f-8a22-48e19c7fbc4e",
   "metadata": {},
   "outputs": [
    {
     "data": {
      "text/html": [
       "<div>\n",
       "<style scoped>\n",
       "    .dataframe tbody tr th:only-of-type {\n",
       "        vertical-align: middle;\n",
       "    }\n",
       "\n",
       "    .dataframe tbody tr th {\n",
       "        vertical-align: top;\n",
       "    }\n",
       "\n",
       "    .dataframe thead th {\n",
       "        text-align: right;\n",
       "    }\n",
       "</style>\n",
       "<table border=\"1\" class=\"dataframe\">\n",
       "  <thead>\n",
       "    <tr style=\"text-align: right;\">\n",
       "      <th></th>\n",
       "      <th>First Score</th>\n",
       "      <th>Second Score</th>\n",
       "      <th>Third Score</th>\n",
       "    </tr>\n",
       "  </thead>\n",
       "  <tbody>\n",
       "    <tr>\n",
       "      <th>0</th>\n",
       "      <td>100.0</td>\n",
       "      <td>30.0</td>\n",
       "      <td>0.0</td>\n",
       "    </tr>\n",
       "    <tr>\n",
       "      <th>1</th>\n",
       "      <td>90.0</td>\n",
       "      <td>45.0</td>\n",
       "      <td>40.0</td>\n",
       "    </tr>\n",
       "    <tr>\n",
       "      <th>2</th>\n",
       "      <td>0.0</td>\n",
       "      <td>56.0</td>\n",
       "      <td>80.0</td>\n",
       "    </tr>\n",
       "    <tr>\n",
       "      <th>3</th>\n",
       "      <td>95.0</td>\n",
       "      <td>0.0</td>\n",
       "      <td>98.0</td>\n",
       "    </tr>\n",
       "  </tbody>\n",
       "</table>\n",
       "</div>"
      ],
      "text/plain": [
       "   First Score  Second Score  Third Score\n",
       "0        100.0          30.0          0.0\n",
       "1         90.0          45.0         40.0\n",
       "2          0.0          56.0         80.0\n",
       "3         95.0           0.0         98.0"
      ]
     },
     "execution_count": 13,
     "metadata": {},
     "output_type": "execute_result"
    }
   ],
   "source": [
    "# To fill NAN values with Our Values, we use fillna()\n",
    "df.fillna(0)"
   ]
  },
  {
   "cell_type": "code",
   "execution_count": 14,
   "id": "d30bcce1-60ce-4f2b-ab2e-554277d86518",
   "metadata": {},
   "outputs": [
    {
     "name": "stdout",
     "output_type": "stream",
     "text": [
      "   First Score  Second Score  Third Score\n",
      "0        100.0          30.0          NaN\n",
      "1         90.0          45.0         40.0\n",
      "2          NaN          56.0         80.0\n",
      "3         95.0           NaN         98.0\n"
     ]
    }
   ],
   "source": [
    "print(df)"
   ]
  },
  {
   "cell_type": "code",
   "execution_count": 15,
   "id": "3dab6059-1428-45fb-a6a0-a1f9abb44f9e",
   "metadata": {},
   "outputs": [
    {
     "data": {
      "text/plain": [
       "0    100.0\n",
       "1     90.0\n",
       "2      1.0\n",
       "3     95.0\n",
       "Name: First Score, dtype: float64"
      ]
     },
     "execution_count": 15,
     "metadata": {},
     "output_type": "execute_result"
    }
   ],
   "source": [
    "df[\"First Score\"].fillna(1)"
   ]
  },
  {
   "cell_type": "code",
   "execution_count": 16,
   "id": "49e1cd88-c106-4447-8d05-470a739ae82f",
   "metadata": {},
   "outputs": [
    {
     "data": {
      "text/html": [
       "<div>\n",
       "<style scoped>\n",
       "    .dataframe tbody tr th:only-of-type {\n",
       "        vertical-align: middle;\n",
       "    }\n",
       "\n",
       "    .dataframe tbody tr th {\n",
       "        vertical-align: top;\n",
       "    }\n",
       "\n",
       "    .dataframe thead th {\n",
       "        text-align: right;\n",
       "    }\n",
       "</style>\n",
       "<table border=\"1\" class=\"dataframe\">\n",
       "  <thead>\n",
       "    <tr style=\"text-align: right;\">\n",
       "      <th></th>\n",
       "      <th>First Score</th>\n",
       "      <th>Second Score</th>\n",
       "      <th>Third Score</th>\n",
       "    </tr>\n",
       "  </thead>\n",
       "  <tbody>\n",
       "    <tr>\n",
       "      <th>0</th>\n",
       "      <td>100.0</td>\n",
       "      <td>30.0</td>\n",
       "      <td>0.0</td>\n",
       "    </tr>\n",
       "    <tr>\n",
       "      <th>1</th>\n",
       "      <td>90.0</td>\n",
       "      <td>45.0</td>\n",
       "      <td>40.0</td>\n",
       "    </tr>\n",
       "    <tr>\n",
       "      <th>2</th>\n",
       "      <td>0.0</td>\n",
       "      <td>56.0</td>\n",
       "      <td>80.0</td>\n",
       "    </tr>\n",
       "    <tr>\n",
       "      <th>3</th>\n",
       "      <td>95.0</td>\n",
       "      <td>0.0</td>\n",
       "      <td>98.0</td>\n",
       "    </tr>\n",
       "  </tbody>\n",
       "</table>\n",
       "</div>"
      ],
      "text/plain": [
       "   First Score  Second Score  Third Score\n",
       "0        100.0          30.0          0.0\n",
       "1         90.0          45.0         40.0\n",
       "2          0.0          56.0         80.0\n",
       "3         95.0           0.0         98.0"
      ]
     },
     "execution_count": 16,
     "metadata": {},
     "output_type": "execute_result"
    }
   ],
   "source": [
    "df.replace(to_replace=np.nan, value=0)"
   ]
  },
  {
   "cell_type": "code",
   "execution_count": 37,
   "id": "b478b151-50ee-4e27-bfe2-8dce3460df21",
   "metadata": {},
   "outputs": [
    {
     "name": "stdout",
     "output_type": "stream",
     "text": [
      "  Courses      Fee Duration  Discount\n",
      "0   Spark  20000.0   30days    1000.0\n",
      "1    Java      NaN   40days       NaN\n",
      "2   Scala  26000.0     <NA>    2500.0\n",
      "3  Python  24000.0   40days       NaN\n"
     ]
    }
   ],
   "source": [
    "# Second Examples\n",
    "# Create DataFrame\n",
    "import pandas as pd\n",
    "import numpy as np\n",
    "df = pd.DataFrame(({\n",
    "     'Courses':[\"Spark\",'Java',\"Scala\",'Python'],\n",
    "     'Fee' :[20000,np.nan,26000,24000],\n",
    "     'Duration':['30days','40days', pd.NA,'40days'],\n",
    "     'Discount':[1000,np.nan,2500,None]\n",
    "               }))\n",
    "print(df)"
   ]
  },
  {
   "cell_type": "code",
   "execution_count": 38,
   "id": "0eb4ea40-7a1c-41ee-b125-1692e17c7068",
   "metadata": {},
   "outputs": [
    {
     "name": "stdout",
     "output_type": "stream",
     "text": [
      "  Courses      Fee Duration Discount\n",
      "0   Spark  20000.0   30days   1000.0\n",
      "1    Java     None   40days     None\n",
      "2   Scala  26000.0     None   2500.0\n",
      "3  Python  24000.0   40days     None\n"
     ]
    }
   ],
   "source": [
    "# Fillna to replace all NaN\n",
    "df2 = df.fillna(\"None\")\n",
    "print(df2)"
   ]
  },
  {
   "cell_type": "code",
   "execution_count": 39,
   "id": "49beae47-0885-43d7-98c5-b8cc14510824",
   "metadata": {},
   "outputs": [
    {
     "name": "stdout",
     "output_type": "stream",
     "text": [
      "  Courses      Fee Duration  Discount\n",
      "0   Spark  20000.0   30days    1000.0\n",
      "1    Java      NaN   40days       NaN\n",
      "2   Scala  26000.0     <NA>    2500.0\n",
      "3  Python  24000.0   40days       NaN\n"
     ]
    }
   ],
   "source": [
    "print(df)"
   ]
  },
  {
   "cell_type": "code",
   "execution_count": 40,
   "id": "f48460e5-30e0-4fee-91b3-eea5f64e7d3c",
   "metadata": {},
   "outputs": [
    {
     "name": "stdout",
     "output_type": "stream",
     "text": [
      "  Courses      Fee Duration Discount\n",
      "0   Spark  20000.0   30days   1000.0\n",
      "1    Java     None   40days        0\n",
      "2   Scala  26000.0     None   2500.0\n",
      "3  Python  24000.0   40days        0\n"
     ]
    }
   ],
   "source": [
    "# Fillna on one column--Discount--Series Object\n",
    "df2[\"Discount\"] = df[\"Discount\"].fillna('0')\n",
    "print(df2)"
   ]
  },
  {
   "cell_type": "code",
   "execution_count": 43,
   "id": "c3b6ed49-e90f-498d-b654-fa2a792ceeb8",
   "metadata": {},
   "outputs": [
    {
     "name": "stdout",
     "output_type": "stream",
     "text": [
      "  Courses      Fee Duration Discount\n",
      "0   Spark  20000.0   30days   1000.0\n",
      "1    Java      0.0   40days        0\n",
      "2   Scala  26000.0        0   2500.0\n",
      "3  Python  24000.0   40days        0\n"
     ]
    }
   ],
   "source": [
    "# Fillna() on multiple columns\n",
    "df2[[\"Fee\",\"Duration\"]] = df[[\"Fee\",\"Duration\"]].fillna(0)\n",
    "print(df2)"
   ]
  },
  {
   "cell_type": "code",
   "execution_count": 44,
   "id": "bf460337-6864-4a16-a009-f01cd8397dfa",
   "metadata": {},
   "outputs": [
    {
     "name": "stdout",
     "output_type": "stream",
     "text": [
      "  Courses      Fee Duration Discount\n",
      "0   Spark  20000.0   30days   1000.0\n",
      "1    Java  10000.0   40days        0\n",
      "2   Scala  26000.0     <NA>   2500.0\n",
      "3  Python  24000.0   40days        0\n"
     ]
    }
   ],
   "source": [
    "# Fillna() on multiple columns with Different Values\n",
    "df2 = df.fillna(value = {\"Discount\": '0', \"Fee\":10000})\n",
    "print(df2)"
   ]
  },
  {
   "cell_type": "code",
   "execution_count": 45,
   "id": "2477ec8b-cd57-4720-8a18-4c5a414c4d02",
   "metadata": {},
   "outputs": [
    {
     "name": "stdout",
     "output_type": "stream",
     "text": [
      "  Courses      Fee Duration  Discount\n",
      "0   Spark  20000.0   30days    1000.0\n",
      "1    Java      NaN   40days       NaN\n",
      "2   Scala  26000.0     <NA>    2500.0\n",
      "3  Python  24000.0   40days       NaN\n"
     ]
    }
   ],
   "source": [
    "print(df)"
   ]
  },
  {
   "cell_type": "code",
   "execution_count": 46,
   "id": "50523dfc-0fcb-42fe-93e2-57db6a2bf7ac",
   "metadata": {},
   "outputs": [
    {
     "data": {
      "text/plain": [
       "0    False\n",
       "1     True\n",
       "2    False\n",
       "3     True\n",
       "Name: Discount, dtype: bool"
      ]
     },
     "execution_count": 46,
     "metadata": {},
     "output_type": "execute_result"
    }
   ],
   "source": [
    "df[\"Discount\"].isna()"
   ]
  },
  {
   "cell_type": "code",
   "execution_count": 47,
   "id": "f3469cf6-2840-4925-9fb6-34cc2873e084",
   "metadata": {},
   "outputs": [
    {
     "data": {
      "text/html": [
       "<div>\n",
       "<style scoped>\n",
       "    .dataframe tbody tr th:only-of-type {\n",
       "        vertical-align: middle;\n",
       "    }\n",
       "\n",
       "    .dataframe tbody tr th {\n",
       "        vertical-align: top;\n",
       "    }\n",
       "\n",
       "    .dataframe thead th {\n",
       "        text-align: right;\n",
       "    }\n",
       "</style>\n",
       "<table border=\"1\" class=\"dataframe\">\n",
       "  <thead>\n",
       "    <tr style=\"text-align: right;\">\n",
       "      <th></th>\n",
       "      <th>Discount</th>\n",
       "    </tr>\n",
       "  </thead>\n",
       "  <tbody>\n",
       "    <tr>\n",
       "      <th>1</th>\n",
       "      <td>NaN</td>\n",
       "    </tr>\n",
       "    <tr>\n",
       "      <th>3</th>\n",
       "      <td>NaN</td>\n",
       "    </tr>\n",
       "  </tbody>\n",
       "</table>\n",
       "</div>"
      ],
      "text/plain": [
       "   Discount\n",
       "1       NaN\n",
       "3       NaN"
      ]
     },
     "execution_count": 47,
     "metadata": {},
     "output_type": "execute_result"
    }
   ],
   "source": [
    "df.loc[df[\"Discount\"].isna(),[\"Discount\"]]"
   ]
  },
  {
   "cell_type": "code",
   "execution_count": 48,
   "id": "b9941e40-3042-4483-9077-4f68ca895bf5",
   "metadata": {},
   "outputs": [],
   "source": [
    "df.loc[df[\"Discount\"].isna(),[\"Discount\"]] = 0"
   ]
  },
  {
   "cell_type": "code",
   "execution_count": 49,
   "id": "3bcad4af-06cc-4bd2-8af2-6b087d093f57",
   "metadata": {},
   "outputs": [
    {
     "name": "stdout",
     "output_type": "stream",
     "text": [
      "  Courses      Fee Duration  Discount\n",
      "0   Spark  20000.0   30days    1000.0\n",
      "1    Java      NaN   40days       0.0\n",
      "2   Scala  26000.0     <NA>    2500.0\n",
      "3  Python  24000.0   40days       0.0\n"
     ]
    }
   ],
   "source": [
    "print(df)"
   ]
  },
  {
   "cell_type": "code",
   "execution_count": 53,
   "id": "0b665250-76c2-48cd-ba7b-ed7230d8ec3b",
   "metadata": {},
   "outputs": [],
   "source": [
    "df.loc[1:1,[\"Fee\"]] = 50000"
   ]
  },
  {
   "cell_type": "code",
   "execution_count": 58,
   "id": "8bb7cf2c-1f2f-4b5d-9a6e-0a6c28e131f6",
   "metadata": {},
   "outputs": [
    {
     "name": "stdout",
     "output_type": "stream",
     "text": [
      "  Courses      Fee Duration  Discount\n",
      "0   Spark  20000.0   30days    1000.0\n",
      "1    Java  50000.0   40days       0.0\n",
      "2   Scala  26000.0   25days    2500.0\n",
      "3  Python  24000.0   40days       0.0\n"
     ]
    }
   ],
   "source": [
    "print(df)"
   ]
  },
  {
   "cell_type": "code",
   "execution_count": 59,
   "id": "5fac7a48-a479-4aa0-a2c5-510dc4428d5d",
   "metadata": {},
   "outputs": [],
   "source": [
    "df.iloc[2:3,2] = \"30days\""
   ]
  },
  {
   "cell_type": "code",
   "execution_count": 60,
   "id": "08be2fd6-d149-4d4b-8376-57d23ea01219",
   "metadata": {},
   "outputs": [
    {
     "name": "stdout",
     "output_type": "stream",
     "text": [
      "  Courses      Fee Duration  Discount\n",
      "0   Spark  20000.0   30days    1000.0\n",
      "1    Java  50000.0   40days       0.0\n",
      "2   Scala  26000.0   30days    2500.0\n",
      "3  Python  24000.0   40days       0.0\n"
     ]
    }
   ],
   "source": [
    "print(df)"
   ]
  },
  {
   "cell_type": "code",
   "execution_count": 62,
   "id": "4bd9b778-44fb-4c25-9609-bc0f319cc73b",
   "metadata": {},
   "outputs": [],
   "source": [
    "df.loc[2:2,[\"Duration\"]] = \"25days\""
   ]
  },
  {
   "cell_type": "code",
   "execution_count": 63,
   "id": "ebf7d3a6-14a5-4cf2-92b6-f0ed63d5397e",
   "metadata": {},
   "outputs": [
    {
     "name": "stdout",
     "output_type": "stream",
     "text": [
      "  Courses      Fee Duration  Discount\n",
      "0   Spark  20000.0   30days    1000.0\n",
      "1    Java  50000.0   40days       0.0\n",
      "2   Scala  26000.0   25days    2500.0\n",
      "3  Python  24000.0   40days       0.0\n"
     ]
    }
   ],
   "source": [
    "print(df)"
   ]
  },
  {
   "cell_type": "code",
   "execution_count": 65,
   "id": "915cf455-5688-4f82-a1cf-9851c8fadb0e",
   "metadata": {},
   "outputs": [],
   "source": [
    "df.iloc[1:2,3] = 3000"
   ]
  },
  {
   "cell_type": "code",
   "execution_count": 66,
   "id": "9d78474b-72b1-4360-ab16-b1d138aa7251",
   "metadata": {},
   "outputs": [
    {
     "name": "stdout",
     "output_type": "stream",
     "text": [
      "  Courses      Fee Duration  Discount\n",
      "0   Spark  20000.0   30days    1000.0\n",
      "1    Java  50000.0   40days    3000.0\n",
      "2   Scala  26000.0   25days    2500.0\n",
      "3  Python  24000.0   40days       0.0\n"
     ]
    }
   ],
   "source": [
    "print(df)"
   ]
  },
  {
   "cell_type": "code",
   "execution_count": 68,
   "id": "ab809884-2035-4257-8309-fa26e08cd6db",
   "metadata": {},
   "outputs": [],
   "source": [
    "df.iloc[3::,3] = 6000"
   ]
  },
  {
   "cell_type": "code",
   "execution_count": 69,
   "id": "7c122e79-3b1d-486b-aba2-1c6a414ca596",
   "metadata": {},
   "outputs": [
    {
     "name": "stdout",
     "output_type": "stream",
     "text": [
      "  Courses      Fee Duration  Discount\n",
      "0   Spark  20000.0   30days    1000.0\n",
      "1    Java  50000.0   40days    3000.0\n",
      "2   Scala  26000.0   25days    2500.0\n",
      "3  Python  24000.0   40days    6000.0\n"
     ]
    }
   ],
   "source": [
    "print(df)"
   ]
  },
  {
   "cell_type": "code",
   "execution_count": 70,
   "id": "bbf6f60c-86a7-49d0-aa08-a58f3c3a32e9",
   "metadata": {},
   "outputs": [
    {
     "name": "stdout",
     "output_type": "stream",
     "text": [
      "   First Score  Second Score  Third Score Fourth Score\n",
      "0        100.0          30.0           52          NaN\n",
      "1         90.0           NaN           40         <NA>\n",
      "2          NaN          45.0           80          NaN\n",
      "3         95.0          56.0           98           65\n"
     ]
    }
   ],
   "source": [
    "#Droping the Values from DataFrame\n",
    "dict = {'First Score':[100, 90, np.nan, 95],\n",
    "        'Second Score': [30, np.nan, 45, 56],\n",
    "        'Third Score':[52, 40, 80, 98],\n",
    "        'Fourth Score':[np.nan, pd.NA, np.nan, 65]}\n",
    "df=pd.DataFrame(dict)\n",
    "print(df)"
   ]
  },
  {
   "cell_type": "code",
   "execution_count": 71,
   "id": "04536978-68a0-4253-b614-b89a49a05dac",
   "metadata": {},
   "outputs": [
    {
     "data": {
      "text/html": [
       "<div>\n",
       "<style scoped>\n",
       "    .dataframe tbody tr th:only-of-type {\n",
       "        vertical-align: middle;\n",
       "    }\n",
       "\n",
       "    .dataframe tbody tr th {\n",
       "        vertical-align: top;\n",
       "    }\n",
       "\n",
       "    .dataframe thead th {\n",
       "        text-align: right;\n",
       "    }\n",
       "</style>\n",
       "<table border=\"1\" class=\"dataframe\">\n",
       "  <thead>\n",
       "    <tr style=\"text-align: right;\">\n",
       "      <th></th>\n",
       "      <th>First Score</th>\n",
       "      <th>Second Score</th>\n",
       "      <th>Third Score</th>\n",
       "      <th>Fourth Score</th>\n",
       "    </tr>\n",
       "  </thead>\n",
       "  <tbody>\n",
       "    <tr>\n",
       "      <th>3</th>\n",
       "      <td>95.0</td>\n",
       "      <td>56.0</td>\n",
       "      <td>98</td>\n",
       "      <td>65</td>\n",
       "    </tr>\n",
       "  </tbody>\n",
       "</table>\n",
       "</div>"
      ],
      "text/plain": [
       "   First Score  Second Score  Third Score Fourth Score\n",
       "3         95.0          56.0           98           65"
      ]
     },
     "execution_count": 71,
     "metadata": {},
     "output_type": "execute_result"
    }
   ],
   "source": [
    "df.dropna() # here default axis is 0 (Row) and how is \"any\" "
   ]
  },
  {
   "cell_type": "code",
   "execution_count": 72,
   "id": "1c1c1698-cb6f-490f-a30c-f5f3199a40c0",
   "metadata": {},
   "outputs": [
    {
     "name": "stdout",
     "output_type": "stream",
     "text": [
      "   First Score  Second Score  Third Score Fourth Score\n",
      "0        100.0          30.0           52          NaN\n",
      "1         90.0           NaN           40         <NA>\n",
      "2          NaN          45.0           80          NaN\n",
      "3         95.0          56.0           98           65\n"
     ]
    }
   ],
   "source": [
    "print(df)"
   ]
  },
  {
   "cell_type": "code",
   "execution_count": 73,
   "id": "ec72e714-bf11-49e7-8023-71ad2ffa5233",
   "metadata": {},
   "outputs": [
    {
     "data": {
      "text/html": [
       "<div>\n",
       "<style scoped>\n",
       "    .dataframe tbody tr th:only-of-type {\n",
       "        vertical-align: middle;\n",
       "    }\n",
       "\n",
       "    .dataframe tbody tr th {\n",
       "        vertical-align: top;\n",
       "    }\n",
       "\n",
       "    .dataframe thead th {\n",
       "        text-align: right;\n",
       "    }\n",
       "</style>\n",
       "<table border=\"1\" class=\"dataframe\">\n",
       "  <thead>\n",
       "    <tr style=\"text-align: right;\">\n",
       "      <th></th>\n",
       "      <th>Third Score</th>\n",
       "    </tr>\n",
       "  </thead>\n",
       "  <tbody>\n",
       "    <tr>\n",
       "      <th>0</th>\n",
       "      <td>52</td>\n",
       "    </tr>\n",
       "    <tr>\n",
       "      <th>1</th>\n",
       "      <td>40</td>\n",
       "    </tr>\n",
       "    <tr>\n",
       "      <th>2</th>\n",
       "      <td>80</td>\n",
       "    </tr>\n",
       "    <tr>\n",
       "      <th>3</th>\n",
       "      <td>98</td>\n",
       "    </tr>\n",
       "  </tbody>\n",
       "</table>\n",
       "</div>"
      ],
      "text/plain": [
       "   Third Score\n",
       "0           52\n",
       "1           40\n",
       "2           80\n",
       "3           98"
      ]
     },
     "execution_count": 73,
     "metadata": {},
     "output_type": "execute_result"
    }
   ],
   "source": [
    "df.dropna(axis=1,how=\"any\")"
   ]
  },
  {
   "cell_type": "code",
   "execution_count": 74,
   "id": "d659a652-7425-4687-bd48-ea8376abc4b1",
   "metadata": {},
   "outputs": [
    {
     "name": "stdout",
     "output_type": "stream",
     "text": [
      "   First Score  Second Score  Third Score Fourth Score\n",
      "0        100.0          30.0           52          NaN\n",
      "1         90.0           NaN           40         <NA>\n",
      "2          NaN          45.0           80          NaN\n",
      "3         95.0          56.0           98           65\n"
     ]
    }
   ],
   "source": [
    "print(df)"
   ]
  },
  {
   "cell_type": "code",
   "execution_count": 75,
   "id": "eadf7973-f2ef-4fd4-87f6-b11123ce4547",
   "metadata": {},
   "outputs": [
    {
     "data": {
      "text/html": [
       "<div>\n",
       "<style scoped>\n",
       "    .dataframe tbody tr th:only-of-type {\n",
       "        vertical-align: middle;\n",
       "    }\n",
       "\n",
       "    .dataframe tbody tr th {\n",
       "        vertical-align: top;\n",
       "    }\n",
       "\n",
       "    .dataframe thead th {\n",
       "        text-align: right;\n",
       "    }\n",
       "</style>\n",
       "<table border=\"1\" class=\"dataframe\">\n",
       "  <thead>\n",
       "    <tr style=\"text-align: right;\">\n",
       "      <th></th>\n",
       "      <th>First Score</th>\n",
       "      <th>Second Score</th>\n",
       "      <th>Third Score</th>\n",
       "      <th>Fourth Score</th>\n",
       "    </tr>\n",
       "  </thead>\n",
       "  <tbody>\n",
       "    <tr>\n",
       "      <th>3</th>\n",
       "      <td>95.0</td>\n",
       "      <td>56.0</td>\n",
       "      <td>98</td>\n",
       "      <td>65</td>\n",
       "    </tr>\n",
       "  </tbody>\n",
       "</table>\n",
       "</div>"
      ],
      "text/plain": [
       "   First Score  Second Score  Third Score Fourth Score\n",
       "3         95.0          56.0           98           65"
      ]
     },
     "execution_count": 75,
     "metadata": {},
     "output_type": "execute_result"
    }
   ],
   "source": [
    "df.dropna(axis=0,how=\"any\")"
   ]
  },
  {
   "cell_type": "code",
   "execution_count": 76,
   "id": "6b4cf745-a326-49cf-a826-6349e3a3e763",
   "metadata": {},
   "outputs": [
    {
     "name": "stdout",
     "output_type": "stream",
     "text": [
      "   First Score  Second Score  Third Score Fourth Score\n",
      "0        100.0          30.0           52          NaN\n",
      "1         90.0           NaN           40         <NA>\n",
      "2          NaN          45.0           80          NaN\n",
      "3         95.0          56.0           98           65\n"
     ]
    }
   ],
   "source": [
    "print(df)"
   ]
  },
  {
   "cell_type": "code",
   "execution_count": null,
   "id": "a2d85fbc-e165-4b07-b354-7bbde077786e",
   "metadata": {},
   "outputs": [],
   "source": []
  }
 ],
 "metadata": {
  "kernelspec": {
   "display_name": "Python 3 (ipykernel)",
   "language": "python",
   "name": "python3"
  },
  "language_info": {
   "codemirror_mode": {
    "name": "ipython",
    "version": 3
   },
   "file_extension": ".py",
   "mimetype": "text/x-python",
   "name": "python",
   "nbconvert_exporter": "python",
   "pygments_lexer": "ipython3",
   "version": "3.12.6"
  }
 },
 "nbformat": 4,
 "nbformat_minor": 5
}
