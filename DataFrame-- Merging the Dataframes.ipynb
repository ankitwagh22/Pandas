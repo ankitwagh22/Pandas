{
 "cells": [
  {
   "cell_type": "markdown",
   "id": "8e8cafad-2aeb-4f88-bcee-40863ede512b",
   "metadata": {},
   "source": [
    "# Marging the Dataframe"
   ]
  },
  {
   "cell_type": "code",
   "execution_count": 26,
   "id": "e396d255-793a-49d2-a454-1b6347b95aa6",
   "metadata": {},
   "outputs": [
    {
     "name": "stdout",
     "output_type": "stream",
     "text": [
      "   Name  Age      City  Experience\n",
      "a  Jack   34    Sydney           5\n",
      "b  Riti   31     Delhi           7\n",
      "c  Aadi   46  New York          11\n"
     ]
    }
   ],
   "source": [
    "import pandas as pd\n",
    "data1= [('Jack', 34, 'Sydney', 5) ,\n",
    "        ('Riti', 31, 'Delhi' , 7) ,\n",
    "        ('Aadi', 46, 'New York', 11)]\n",
    "df1 = pd.DataFrame(data1,columns=['Name','Age','City','Experience'],index=['a','b','c'])\n",
    "print(df1)"
   ]
  },
  {
   "cell_type": "code",
   "execution_count": 27,
   "id": "b085d47d-c958-4069-8891-26c9dd910e3d",
   "metadata": {},
   "outputs": [
    {
     "name": "stdout",
     "output_type": "stream",
     "text": [
      "    Name  Age       City  Experience\n",
      "d  Mohit   34      Tokyo          11\n",
      "e  Veena   31     London          10\n",
      "f  Shaun   36  Las Vegas          12\n"
     ]
    }
   ],
   "source": [
    "data2= [('Mohit', 34, 'Tokyo', 11) ,\n",
    "        ('Veena', 31, 'London' , 10) ,\n",
    "        ('Shaun', 36, 'Las Vegas', 12)]\n",
    "\n",
    "df2 = pd.DataFrame(data2,columns=['Name','Age','City','Experience'],index=['d','e','f'])\n",
    "print(df2)"
   ]
  },
  {
   "cell_type": "code",
   "execution_count": 5,
   "id": "849d9cd8-087c-4c33-ab58-751ecbb78da3",
   "metadata": {},
   "outputs": [
    {
     "name": "stdout",
     "output_type": "stream",
     "text": [
      "   Name  Age      City  Experience\n",
      "g  Mark   47    Mumbai          13\n",
      "h  Jose   43  Yokohama          14\n",
      "i  Ramu   49     Paris          15\n"
     ]
    }
   ],
   "source": [
    "data3= [('Mark', 47, 'Mumbai',   13) ,\n",
    "        ('Jose', 43, 'Yokohama', 14) ,\n",
    "        ('Ramu', 49, 'Paris',    15)]\n",
    "df3 = pd.DataFrame(data3,columns=['Name','Age','City','Experience'],index=['g','h','i'])\n",
    "print(df3)"
   ]
  },
  {
   "cell_type": "code",
   "execution_count": 29,
   "id": "616e782e-5018-4ee2-bc41-1097853d98d3",
   "metadata": {},
   "outputs": [
    {
     "name": "stdout",
     "output_type": "stream",
     "text": [
      "      Name  Age       City  Experience  Course\n",
      "a     Jack   34     Sydney         5.0     NaN\n",
      "b     Riti   31      Delhi         7.0     NaN\n",
      "c     Aadi   46   New York        11.0     NaN\n",
      "d    Mohit   34      Tokyo        11.0     NaN\n",
      "e    Veena   31     London        10.0     NaN\n",
      "f    Shaun   36  Las Vegas        12.0     NaN\n",
      "3  Krishna   19        NaN         NaN  Python\n"
     ]
    }
   ],
   "source": [
    "# now combining the 3 dataframe in single one\n",
    "comb_df = pd.concat([df1,df2,df3],axis=0) # Rowwise marging\n",
    "print(comb_df)"
   ]
  },
  {
   "cell_type": "code",
   "execution_count": 9,
   "id": "53cc1353-f15a-4ca7-8ad5-864cb57e276e",
   "metadata": {},
   "outputs": [
    {
     "name": "stdout",
     "output_type": "stream",
     "text": [
      "    Name  Age       City  Experience\n",
      "g   Mark   47     Mumbai          13\n",
      "h   Jose   43   Yokohama          14\n",
      "i   Ramu   49      Paris          15\n",
      "d  Mohit   34      Tokyo          11\n",
      "e  Veena   31     London          10\n",
      "f  Shaun   36  Las Vegas          12\n",
      "a   Jack   34     Sydney           5\n",
      "b   Riti   31      Delhi           7\n",
      "c   Aadi   46   New York          11\n"
     ]
    }
   ],
   "source": [
    "# different order\n",
    "comb_df1 = pd.concat([df3,df2,df1],axis=0)\n",
    "print(comb_df1)"
   ]
  },
  {
   "cell_type": "code",
   "execution_count": 10,
   "id": "2ab0b042-9d23-4cb2-a9a8-4cbc9f76f9c2",
   "metadata": {},
   "outputs": [
    {
     "name": "stdout",
     "output_type": "stream",
     "text": [
      "   Name   Age      City  Experience   Name   Age       City  Experience  Name  \\\n",
      "a  Jack  34.0    Sydney         5.0    NaN   NaN        NaN         NaN   NaN   \n",
      "b  Riti  31.0     Delhi         7.0    NaN   NaN        NaN         NaN   NaN   \n",
      "c  Aadi  46.0  New York        11.0    NaN   NaN        NaN         NaN   NaN   \n",
      "d   NaN   NaN       NaN         NaN  Mohit  34.0      Tokyo        11.0   NaN   \n",
      "e   NaN   NaN       NaN         NaN  Veena  31.0     London        10.0   NaN   \n",
      "f   NaN   NaN       NaN         NaN  Shaun  36.0  Las Vegas        12.0   NaN   \n",
      "g   NaN   NaN       NaN         NaN    NaN   NaN        NaN         NaN  Mark   \n",
      "h   NaN   NaN       NaN         NaN    NaN   NaN        NaN         NaN  Jose   \n",
      "i   NaN   NaN       NaN         NaN    NaN   NaN        NaN         NaN  Ramu   \n",
      "\n",
      "    Age      City  Experience  \n",
      "a   NaN       NaN         NaN  \n",
      "b   NaN       NaN         NaN  \n",
      "c   NaN       NaN         NaN  \n",
      "d   NaN       NaN         NaN  \n",
      "e   NaN       NaN         NaN  \n",
      "f   NaN       NaN         NaN  \n",
      "g  47.0    Mumbai        13.0  \n",
      "h  43.0  Yokohama        14.0  \n",
      "i  49.0     Paris        15.0  \n"
     ]
    }
   ],
   "source": [
    "# By merging the columns wise --> axis=1\n",
    "comb_df2 = pd.concat([df1,df2,df3],axis=1)\n",
    "print(comb_df2)"
   ]
  },
  {
   "cell_type": "code",
   "execution_count": 13,
   "id": "e532b1c4-c1e3-487c-a971-33938fc294bd",
   "metadata": {},
   "outputs": [
    {
     "name": "stdout",
     "output_type": "stream",
     "text": [
      "    Name  Age Course\n",
      "1  Ankit   20   Java\n"
     ]
    }
   ],
   "source": [
    "# Another Example\n",
    "\n",
    "dic1 = {'Name':'Ankit','Age':20,'Course':'Java'}\n",
    "df1 = pd.DataFrame(dic1,index=[1])\n",
    "print(df1)"
   ]
  },
  {
   "cell_type": "code",
   "execution_count": 18,
   "id": "70fa047c-22c9-40cb-949a-0715acb4ce70",
   "metadata": {},
   "outputs": [
    {
     "name": "stdout",
     "output_type": "stream",
     "text": [
      "    Name  Age Course\n",
      "2  Suhas   23    Dsa\n"
     ]
    }
   ],
   "source": [
    "dic2 = {'Name':'Suhas','Age':23,'Course':'Dsa'}\n",
    "df2 = pd.DataFrame(dic2,index=[2])\n",
    "print(df2)"
   ]
  },
  {
   "cell_type": "code",
   "execution_count": 19,
   "id": "087ce274-9d19-4540-9798-51dccf0863cd",
   "metadata": {},
   "outputs": [
    {
     "name": "stdout",
     "output_type": "stream",
     "text": [
      "      Name  Age  Course\n",
      "3  Krishna   19  Python\n"
     ]
    }
   ],
   "source": [
    "dic3 = {'Name':'Krishna','Age':19,'Course':'Python'}\n",
    "df3 = pd.DataFrame(dic3,index=[3])\n",
    "print(df3)"
   ]
  },
  {
   "cell_type": "code",
   "execution_count": 21,
   "id": "b31af15c-491e-4cdc-a801-67a9dcedcef6",
   "metadata": {},
   "outputs": [
    {
     "name": "stdout",
     "output_type": "stream",
     "text": [
      "   Name  Age Course\n",
      "4  Ajay   26    sql\n"
     ]
    }
   ],
   "source": [
    "dic4 = {'Name':'Ajay','Age':26,'Course':'sql'}\n",
    "df4 = pd.DataFrame(dic4,index=[4])\n",
    "print(df4)"
   ]
  },
  {
   "cell_type": "code",
   "execution_count": 22,
   "id": "73cd63c4-7dc7-4fb2-8995-095a0a191d83",
   "metadata": {},
   "outputs": [
    {
     "name": "stdout",
     "output_type": "stream",
     "text": [
      "      Name  Age  Course\n",
      "1    Ankit   20    Java\n",
      "2    Suhas   23     Dsa\n",
      "3  Krishna   19  Python\n",
      "4     Ajay   26     sql\n"
     ]
    }
   ],
   "source": [
    "data = pd.concat([df1,df2,df3,df4],axis=0)\n",
    "print(data)"
   ]
  },
  {
   "cell_type": "code",
   "execution_count": 23,
   "id": "9ed4aff9-91bb-429b-ac16-747d817ee6bc",
   "metadata": {},
   "outputs": [
    {
     "data": {
      "text/plain": [
       "1      Ankit\n",
       "2      Suhas\n",
       "3    Krishna\n",
       "4       Ajay\n",
       "Name: Name, dtype: object"
      ]
     },
     "execution_count": 23,
     "metadata": {},
     "output_type": "execute_result"
    }
   ],
   "source": [
    "data['Name']"
   ]
  },
  {
   "cell_type": "code",
   "execution_count": 24,
   "id": "cadfd787-7ffc-47e4-89ee-e3afdc8f0fbf",
   "metadata": {},
   "outputs": [
    {
     "data": {
      "text/plain": [
       "1      Java\n",
       "2       Dsa\n",
       "3    Python\n",
       "4       sql\n",
       "Name: Course, dtype: object"
      ]
     },
     "execution_count": 24,
     "metadata": {},
     "output_type": "execute_result"
    }
   ],
   "source": [
    "data['Course']"
   ]
  },
  {
   "cell_type": "code",
   "execution_count": null,
   "id": "c30627e7-984e-4320-9ce3-7d816c563ecb",
   "metadata": {},
   "outputs": [],
   "source": []
  }
 ],
 "metadata": {
  "kernelspec": {
   "display_name": "Python 3 (ipykernel)",
   "language": "python",
   "name": "python3"
  },
  "language_info": {
   "codemirror_mode": {
    "name": "ipython",
    "version": 3
   },
   "file_extension": ".py",
   "mimetype": "text/x-python",
   "name": "python",
   "nbconvert_exporter": "python",
   "pygments_lexer": "ipython3",
   "version": "3.12.6"
  }
 },
 "nbformat": 4,
 "nbformat_minor": 5
}
