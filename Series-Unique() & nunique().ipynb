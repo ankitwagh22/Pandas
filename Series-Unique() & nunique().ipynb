{
 "cells": [
  {
   "cell_type": "markdown",
   "id": "97e143fe-83c6-4888-91b0-f86938ed12c2",
   "metadata": {},
   "source": [
    "# Finding the unique and number of unique values in Series object"
   ]
  },
  {
   "cell_type": "code",
   "execution_count": 2,
   "id": "fe3dda09-2b28-4847-8b71-7ddb24b4a67b",
   "metadata": {},
   "outputs": [
    {
     "name": "stdout",
     "output_type": "stream",
     "text": [
      "Values of Series =\n",
      "0     2\n",
      "1     4\n",
      "2     3\n",
      "3     1\n",
      "4     5\n",
      "5     2\n",
      "6     3\n",
      "7     2\n",
      "8     5\n",
      "9     1\n",
      "10    2\n",
      "dtype: int64\n"
     ]
    }
   ],
   "source": [
    "import pandas as pd\n",
    "import numpy as np\n",
    "\n",
    "sr = pd.Series([2,4,3,1,5,2,3,2,5,1,2])\n",
    "print(\"Values of Series =\")\n",
    "print(sr)"
   ]
  },
  {
   "cell_type": "code",
   "execution_count": 5,
   "id": "2086a3fa-9654-4ced-a2c3-2f97aba69712",
   "metadata": {},
   "outputs": [
    {
     "name": "stdout",
     "output_type": "stream",
     "text": [
      "Uniques values are = [2 4 3 1 5]\n",
      "<class 'numpy.ndarray'>\n",
      "2\n",
      "4\n",
      "3\n",
      "1\n",
      "5\n"
     ]
    }
   ],
   "source": [
    "# Obtain the Unique elements\n",
    "unq = sr.unique()\n",
    "print(\"Uniques values are =\", unq)\n",
    "print(type(unq))\n",
    "\n",
    "for u in unq:\n",
    "    print(u)"
   ]
  },
  {
   "cell_type": "code",
   "execution_count": 7,
   "id": "514676ea-3899-45c1-9b63-3455f063f08a",
   "metadata": {},
   "outputs": [
    {
     "name": "stdout",
     "output_type": "stream",
     "text": [
      "Number of unique values are = 5\n",
      "<class 'int'>\n"
     ]
    }
   ],
   "source": [
    "# obtain Number of unique values\n",
    "Nunq = sr.nunique()\n",
    "print(\"Number of unique values are =\", Nunq)\n",
    "print(type(Nunq))"
   ]
  },
  {
   "cell_type": "code",
   "execution_count": 8,
   "id": "7eb2b919-0501-4c95-b649-954511eae2ab",
   "metadata": {},
   "outputs": [
    {
     "name": "stdout",
     "output_type": "stream",
     "text": [
      "count    11.000000\n",
      "mean      2.727273\n",
      "std       1.420627\n",
      "min       1.000000\n",
      "25%       2.000000\n",
      "50%       2.000000\n",
      "75%       3.500000\n",
      "max       5.000000\n",
      "dtype: float64\n"
     ]
    }
   ],
   "source": [
    "# Obtain stastical Information on All the Numerical elements of \n",
    "desc = sr.describe()\n",
    "print(desc)"
   ]
  },
  {
   "cell_type": "code",
   "execution_count": 12,
   "id": "5b45cc3f-ba03-40d7-b51c-99f4f2f84103",
   "metadata": {},
   "outputs": [
    {
     "name": "stdout",
     "output_type": "stream",
     "text": [
      "0    python\n",
      "1      java\n",
      "2       C++\n",
      "3      Ruby\n",
      "4      Rust\n",
      "5    python\n",
      "dtype: object\n",
      "--------------------\n",
      "Summary of Data is=\n",
      "count          6\n",
      "unique         5\n",
      "top       python\n",
      "freq           2\n",
      "dtype: object\n"
     ]
    }
   ],
   "source": [
    "lang = pd.Series([\"python\", \"java\", \"C++\", \"Ruby\", \"Rust\", \"python\"])\n",
    "print(lang)\n",
    "print('--------------------')\n",
    "print(\"Summary of Data is=\")\n",
    "print(lang.describe())"
   ]
  },
  {
   "cell_type": "code",
   "execution_count": 14,
   "id": "163c3dcc-a3a8-4e0a-b564-6164144c498a",
   "metadata": {},
   "outputs": [
    {
     "name": "stdout",
     "output_type": "stream",
     "text": [
      "0    python\n",
      "1      java\n",
      "2       C++\n",
      "3      Ruby\n",
      "4      Rust\n",
      "5    python\n",
      "6      java\n",
      "7      java\n",
      "dtype: object\n",
      "--------------------\n",
      "Summary of Data is=\n",
      "count        8\n",
      "unique       5\n",
      "top       java\n",
      "freq         3\n",
      "dtype: object\n"
     ]
    }
   ],
   "source": [
    "lang = pd.Series([\"python\", \"java\", \"C++\", \"Ruby\", \"Rust\", \"python\", \"java\", \"java\"])\n",
    "print(lang)\n",
    "print('--------------------')\n",
    "print(\"Summary of Data is=\")\n",
    "print(lang.describe())"
   ]
  },
  {
   "cell_type": "code",
   "execution_count": 16,
   "id": "db62c4b6-a7ee-4f2f-88b7-c780f65f827c",
   "metadata": {},
   "outputs": [
    {
     "name": "stdout",
     "output_type": "stream",
     "text": [
      "0    Python\n",
      "1        10\n",
      "2        15\n",
      "3         C\n",
      "4       C++\n",
      "5    Python\n",
      "6      Java\n",
      "7        10\n",
      "8        13\n",
      "9        20\n",
      "dtype: object\n",
      "-------------------\n",
      "Summary of the data is =\n",
      "count         10\n",
      "unique         8\n",
      "top       Python\n",
      "freq           2\n",
      "dtype: object\n"
     ]
    }
   ],
   "source": [
    "sr = pd.Series([\"Python\",10,15,\"C\",\"C++\",\"Python\",\"Java\",10,13,20])\n",
    "print(sr)\n",
    "print('-------------------')\n",
    "\n",
    "print(\"Summary of the data is =\")\n",
    "print(sr.describe())"
   ]
  },
  {
   "cell_type": "code",
   "execution_count": 18,
   "id": "09be62f9-ba66-4114-b0b1-db32775471ac",
   "metadata": {},
   "outputs": [
    {
     "name": "stdout",
     "output_type": "stream",
     "text": [
      "10\n"
     ]
    }
   ],
   "source": [
    "print(sr.count())"
   ]
  },
  {
   "cell_type": "code",
   "execution_count": 20,
   "id": "a975bf82-d0fd-49fc-8fb4-10cf5a4b76cc",
   "metadata": {},
   "outputs": [
    {
     "name": "stdout",
     "output_type": "stream",
     "text": [
      "8\n"
     ]
    }
   ],
   "source": [
    "print(sr.nunique())"
   ]
  },
  {
   "cell_type": "code",
   "execution_count": null,
   "id": "2793544a-053f-4f2a-bfa2-4e9bc3d5f7c9",
   "metadata": {},
   "outputs": [],
   "source": []
  }
 ],
 "metadata": {
  "kernelspec": {
   "display_name": "Python 3 (ipykernel)",
   "language": "python",
   "name": "python3"
  },
  "language_info": {
   "codemirror_mode": {
    "name": "ipython",
    "version": 3
   },
   "file_extension": ".py",
   "mimetype": "text/x-python",
   "name": "python",
   "nbconvert_exporter": "python",
   "pygments_lexer": "ipython3",
   "version": "3.12.6"
  }
 },
 "nbformat": 4,
 "nbformat_minor": 5
}
