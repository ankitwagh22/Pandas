{
 "cells": [
  {
   "cell_type": "markdown",
   "id": "99593a40-d4fd-412f-b5ff-252ce30d2b6c",
   "metadata": {},
   "source": [
    "# Number of approaches to create an object of DataFrame"
   ]
  },
  {
   "cell_type": "code",
   "execution_count": 2,
   "id": "b53d1d4c-caef-4450-bab3-da526b0f5cea",
   "metadata": {},
   "outputs": [],
   "source": [
    "import pandas as pd\n",
    "import numpy as np"
   ]
  },
  {
   "cell_type": "code",
   "execution_count": 4,
   "id": "04d128cb-64f7-4d8e-b29e-a3c7f6743726",
   "metadata": {},
   "outputs": [
    {
     "name": "stdout",
     "output_type": "stream",
     "text": [
      "    0\n",
      "0  10\n"
     ]
    }
   ],
   "source": [
    "# Creating an object Fundamental Data Type Values into DataFrame--Directly Not Possible\n",
    "# We convert Fundamental Data Type Values into Iterable Objects and we can create DataFrame Object\n",
    "\n",
    "a = 10\n",
    "df = pd.DataFrame([a])\n",
    "print(df)"
   ]
  },
  {
   "cell_type": "code",
   "execution_count": 5,
   "id": "415431cc-f737-435a-895c-a2c009a28af3",
   "metadata": {},
   "outputs": [
    {
     "name": "stdout",
     "output_type": "stream",
     "text": [
      "        0\n",
      "0  PYTHON\n"
     ]
    }
   ],
   "source": [
    "st = \"PYTHON\"\n",
    "df = pd.DataFrame([st])\n",
    "print(df)"
   ]
  },
  {
   "cell_type": "code",
   "execution_count": 8,
   "id": "e87099c8-8e48-42f2-972e-25ab65f5633a",
   "metadata": {},
   "outputs": [
    {
     "name": "stdout",
     "output_type": "stream",
     "text": [
      "    0\n",
      "0  10\n",
      "1  12\n",
      "2  14\n",
      "3  16\n",
      "4  18\n",
      "5  20\n"
     ]
    }
   ],
   "source": [
    "# Creating an object of DataFrame by using range object\n",
    "rg = range(10,21,2)\n",
    "df = pd.DataFrame(rg)\n",
    "print(df)"
   ]
  },
  {
   "cell_type": "code",
   "execution_count": 10,
   "id": "7e5c0926-5e12-4b8a-a409-d41b3de9ed5f",
   "metadata": {},
   "outputs": [
    {
     "name": "stdout",
     "output_type": "stream",
     "text": [
      "     0\n",
      "0  100\n",
      "1  200\n",
      "2  300\n",
      "3  400\n",
      "4  500\n"
     ]
    }
   ],
   "source": [
    "lst = [100,200,300,400,500]\n",
    "df = pd.DataFrame(lst)\n",
    "print(df)"
   ]
  },
  {
   "cell_type": "code",
   "execution_count": 12,
   "id": "ef8ede87-710b-48c0-8412-a598a0219a64",
   "metadata": {},
   "outputs": [
    {
     "name": "stdout",
     "output_type": "stream",
     "text": [
      "       0\n",
      "0  100.0\n",
      "1  200.0\n",
      "2  300.0\n",
      "3  400.0\n",
      "4  500.0\n"
     ]
    }
   ],
   "source": [
    "# changing the data type of list object\n",
    "lst = [100,200,300,400,500]\n",
    "df = pd.DataFrame(lst,dtype=float)\n",
    "print(df)"
   ]
  },
  {
   "cell_type": "code",
   "execution_count": 13,
   "id": "d7a6e9d0-147a-4b79-a28d-659b7e73d487",
   "metadata": {},
   "outputs": [
    {
     "name": "stdout",
     "output_type": "stream",
     "text": [
      "      0     1     2     3     4\n",
      "0  1000  2000  3000  4000  5000\n"
     ]
    }
   ],
   "source": [
    "# converting into coloumn by givening inner list\n",
    "lst = [[1000,2000,3000,4000,5000]]\n",
    "df = pd.DataFrame(lst)\n",
    "print(df)"
   ]
  },
  {
   "cell_type": "code",
   "execution_count": 14,
   "id": "9978439b-de4b-4688-b885-84381041a940",
   "metadata": {},
   "outputs": [
    {
     "name": "stdout",
     "output_type": "stream",
     "text": [
      "         0\n",
      "0    ankit\n",
      "1     ajay\n",
      "2  krishna\n",
      "3   gaurav\n"
     ]
    }
   ],
   "source": [
    "# Creating an object of DataFrame by using list object\n",
    "names = ['ankit','ajay','krishna','gaurav']\n",
    "df = pd.DataFrame(names)\n",
    "print(df)"
   ]
  },
  {
   "cell_type": "code",
   "execution_count": 15,
   "id": "a7c0f9fa-68ac-4d3d-81ca-2a98cda6dc63",
   "metadata": {},
   "outputs": [
    {
     "name": "stdout",
     "output_type": "stream",
     "text": [
      "       0     1        2       3\n",
      "0  ankit  ajay  krishna  gaurav\n"
     ]
    }
   ],
   "source": [
    "# converting into columns\n",
    "names = [['ankit','ajay','krishna','gaurav']]\n",
    "df = pd.DataFrame(names)\n",
    "print(df)"
   ]
  },
  {
   "cell_type": "code",
   "execution_count": 18,
   "id": "7d729795-631d-40ec-9657-f0efec763298",
   "metadata": {},
   "outputs": [
    {
     "name": "stdout",
     "output_type": "stream",
     "text": [
      "       0        1     2       3\n",
      "0    100      200   300     400\n",
      "1  ankit  krishna  ajay  gaurav\n",
      "<class 'pandas.core.frame.DataFrame'>\n"
     ]
    }
   ],
   "source": [
    "# creating two columns in dataFrame\n",
    "lst = [[100,200,300,400],['ankit','krishna','ajay','gaurav']]\n",
    "df = pd.DataFrame(lst)\n",
    "print(df)\n",
    "print(type(df))"
   ]
  },
  {
   "cell_type": "code",
   "execution_count": 19,
   "id": "f21cf1ba-98e8-4b71-91a6-8f718cf6b820",
   "metadata": {},
   "outputs": [
    {
     "name": "stdout",
     "output_type": "stream",
     "text": [
      "     0        1\n",
      "0  100    ankit\n",
      "1  200     ajay\n",
      "2  300  krishna\n",
      "3  400   gaurav\n"
     ]
    }
   ],
   "source": [
    "names = [[100,'ankit'],[200,'ajay'],[300,'krishna'],[400,'gaurav']]\n",
    "df = pd.DataFrame(names)\n",
    "print(df)"
   ]
  },
  {
   "cell_type": "code",
   "execution_count": 28,
   "id": "a500ec68-ee55-4386-9c9e-c8d6ce1f4bc4",
   "metadata": {},
   "outputs": [
    {
     "name": "stdout",
     "output_type": "stream",
     "text": [
      "           0     1        2      3\n",
      "Id       100   200      300    400\n",
      "Names  ankit  ajay  krishna  kunal\n"
     ]
    }
   ],
   "source": [
    "# Creating an object of DataFrame by using List object \n",
    "# with Programmer-Defined Index (means Row Index)\n",
    "names = [[100,200,300,400],['ankit','ajay','krishna','kunal']]\n",
    "df = pd.DataFrame(names,index=['Id','Names'])\n",
    "print(df)"
   ]
  },
  {
   "cell_type": "code",
   "execution_count": 29,
   "id": "7efba11e-bf84-4fb7-a698-efce477b3e83",
   "metadata": {},
   "outputs": [
    {
     "name": "stdout",
     "output_type": "stream",
     "text": [
      "        Rec1  Rec2     Rec3   Rec4\n",
      "id       100   200      300    400\n",
      "Names  ankit  ajay  krishna  kunal\n"
     ]
    }
   ],
   "source": [
    "# Givening our own or userdefined column names\n",
    "df = pd.DataFrame(names,index=['id','Names'],columns=['Rec'+str(i) for i in range(1,5)])\n",
    "print(df)"
   ]
  },
  {
   "cell_type": "code",
   "execution_count": 33,
   "id": "f44347cb-4d79-4103-82a5-9def85494aa8",
   "metadata": {},
   "outputs": [
    {
     "name": "stdout",
     "output_type": "stream",
     "text": [
      "       ID Name\n",
      "Rec1  100   RS\n",
      "Rec2  200   TR\n",
      "Rec3  300   JH\n",
      "Rec4  400   DR\n"
     ]
    }
   ],
   "source": [
    "lst = [[100,\"RS\"],[200,\"TR\"],[300,\"JH\"],[400,\"DR\"]]\n",
    "df = pd.DataFrame(lst,index=['Rec1','Rec2','Rec3','Rec4'],columns=['ID','Name'])\n",
    "print(df)"
   ]
  },
  {
   "cell_type": "code",
   "execution_count": 35,
   "id": "6a17d8be-0e05-4700-be9d-f4a8c56fb301",
   "metadata": {},
   "outputs": [
    {
     "name": "stdout",
     "output_type": "stream",
     "text": [
      "      CARLOAN  HOMELOAN  PERSONALOAN\n",
      "SBI       8.9       7.8          9.0\n",
      "ICIC      7.8       7.2          9.5\n",
      "HDFC      7.7       7.9         10.4\n"
     ]
    }
   ],
   "source": [
    "# Create DataFrame for Banks VS Loans\n",
    "data = [[8.9,7.8,9.0],[7.8,7.2,9.5],[7.7,7.9,10.4]]\n",
    "df = pd.DataFrame(data,index=[\"SBI\",\"ICIC\",\"HDFC\"],columns=[\"CARLOAN\",\"HOMELOAN\",\"PERSONALOAN\"])\n",
    "print(df)"
   ]
  },
  {
   "cell_type": "code",
   "execution_count": 36,
   "id": "04253d6c-c539-4872-9a13-108446ab3310",
   "metadata": {},
   "outputs": [
    {
     "name": "stdout",
     "output_type": "stream",
     "text": [
      "      CARLOAN  HOMELOAN  PERSONALOAN\n",
      "SBI       8.9       7.8          9.0\n",
      "ICIC      7.8       7.2          9.5\n",
      "HDFC      7.7       7.9         10.4\n"
     ]
    }
   ],
   "source": [
    "# we can also taken as tuple format\n",
    "data = ((8.9,7.8,9.0),(7.8,7.2,9.5),(7.7,7.9,10.4))\n",
    "df = pd.DataFrame(data,index=[\"SBI\",\"ICIC\",\"HDFC\"],columns=[\"CARLOAN\",\"HOMELOAN\",\"PERSONALOAN\"])\n",
    "print(df)"
   ]
  },
  {
   "cell_type": "code",
   "execution_count": 40,
   "id": "fd0e49ea-db72-4dcd-91d7-07fb73dea4e4",
   "metadata": {},
   "outputs": [
    {
     "name": "stdout",
     "output_type": "stream",
     "text": [
      "    0\n",
      "0  50\n",
      "1  20\n",
      "2  40\n",
      "3  10\n",
      "4  60\n",
      "5  30 <class 'pandas.core.frame.DataFrame'>\n"
     ]
    }
   ],
   "source": [
    "# create an object of DataFrame by using set\n",
    "st = {10,20,30,40,50,10,60}\n",
    "df = pd.DataFrame(st)\n",
    "print(df,type(df))"
   ]
  },
  {
   "cell_type": "code",
   "execution_count": 41,
   "id": "c140f2ba-04ff-4d96-80bd-50708ad14f42",
   "metadata": {},
   "outputs": [
    {
     "name": "stdout",
     "output_type": "stream",
     "text": [
      "    0   1   2   3   4   5   6\n",
      "0  10  20  30  40  50  10  60\n"
     ]
    }
   ],
   "source": [
    "# converting into columns\n",
    "st = {(10,20,30,40,50,10,60)}\n",
    "df = pd.DataFrame(st)\n",
    "print(df)"
   ]
  },
  {
   "cell_type": "code",
   "execution_count": 43,
   "id": "0e621a2a-3c3f-48af-a6a4-b365eb4fb243",
   "metadata": {},
   "outputs": [
    {
     "name": "stdout",
     "output_type": "stream",
     "text": [
      "        1  2    3     4       5\n",
      "0  Python  C  C++  Java  Kotlin\n"
     ]
    }
   ],
   "source": [
    "# create an object of DataFrame by using Dict Object\n",
    "dic = {1:\"Python\",2:\"C\",3:\"C++\",4:\"Java\",5:\"Kotlin\"}\n",
    "df = pd.DataFrame(dic,index=['courses'])  # we must pass the index\n",
    "print(df)"
   ]
  },
  {
   "cell_type": "code",
   "execution_count": 48,
   "id": "89470f18-f433-4434-8855-e61b0c5e06c3",
   "metadata": {},
   "outputs": [
    {
     "name": "stdout",
     "output_type": "stream",
     "text": [
      "   Rank-1 Rank-2\n",
      "0  python   Java\n",
      "1     DCS    DSA\n"
     ]
    }
   ],
   "source": [
    "# create an object of DataFrame by using List in Dict\n",
    "dic = {\"Rank-1\":[\"python\",\"DCS\"],\"Rank-2\":[\"Java\",\"DSA\"]}\n",
    "df = pd.DataFrame(dic)\n",
    "print(df)"
   ]
  },
  {
   "cell_type": "code",
   "execution_count": 49,
   "id": "0a2f7ee8-32a2-483c-a052-19d8070ec420",
   "metadata": {},
   "outputs": [
    {
     "name": "stdout",
     "output_type": "stream",
     "text": [
      "        Rank-1 Rank-2\n",
      "Lang.   python   Java\n",
      "course     DCS    DSA\n"
     ]
    }
   ],
   "source": [
    "dic = {\"Rank-1\":[\"python\",\"DCS\"],\"Rank-2\":[\"Java\",\"DSA\"]}\n",
    "df = pd.DataFrame(dic,index=[\"Lang.\", \"course\"])\n",
    "print(df)"
   ]
  },
  {
   "cell_type": "code",
   "execution_count": 50,
   "id": "22581451-2928-438a-b2a4-c9622d9bad55",
   "metadata": {},
   "outputs": [
    {
     "name": "stdout",
     "output_type": "stream",
     "text": [
      "   SBI  ICICI  HDFC\n",
      "0  8.9    7.8   0.7\n",
      "1  7.8    7.2   7.9\n",
      "2  9.0    9.5  10.4\n"
     ]
    }
   ],
   "source": [
    "dic = {\"SBI\":(8.9,7.8,9.0),\"ICICI\":[7.8,7.2,9.5],\"HDFC\":(.7,7.9,10.4)}\n",
    "df = pd.DataFrame(dic)\n",
    "print(df)"
   ]
  },
  {
   "cell_type": "code",
   "execution_count": 51,
   "id": "5afa6061-f5f8-478a-93c9-8cf3beb05153",
   "metadata": {},
   "outputs": [
    {
     "name": "stdout",
     "output_type": "stream",
     "text": [
      "             SBI  ICICI  HDFC\n",
      "CARLOAN      8.9    7.8   0.7\n",
      "HOMELOAN     7.8    7.2   7.9\n",
      "PERSONALOAN  9.0    9.5  10.4\n"
     ]
    }
   ],
   "source": [
    "dic = {\"SBI\":(8.9,7.8,9.0),\"ICICI\":[7.8,7.2,9.5],\"HDFC\":(.7,7.9,10.4)}\n",
    "df = pd.DataFrame(dic,index=[\"CARLOAN\",\"HOMELOAN\",\"PERSONALOAN\"])\n",
    "print(df)"
   ]
  },
  {
   "cell_type": "code",
   "execution_count": 52,
   "id": "12e38f40-33ce-4bbc-8fc1-b39c75890a08",
   "metadata": {},
   "outputs": [
    {
     "name": "stdout",
     "output_type": "stream",
     "text": [
      "  sem-1       sem-2\n",
      "0     C         C++\n",
      "1   DSA  MICRO-PROC\n",
      "2    CS      PYTHON\n"
     ]
    }
   ],
   "source": [
    "dic = {\"sem-1\":[\"C\",\"DSA\",\"CS\"],\"sem-2\":[\"C++\",\"MICRO-PROC\",\"PYTHON\"]}\n",
    "df = pd.DataFrame(dic)\n",
    "print(df)"
   ]
  },
  {
   "cell_type": "code",
   "execution_count": 57,
   "id": "0fd9a1a4-088e-4109-9eff-1bf115fb5c43",
   "metadata": {},
   "outputs": [
    {
     "name": "stdout",
     "output_type": "stream",
     "text": [
      "       Rollno    Names\n",
      "Rec-1     100    ankit\n",
      "Rec-2     200     ajay\n",
      "Rec-3     300    kunal\n",
      "Rec-4     400  shubham\n",
      "------------------\n",
      "<class 'pandas.core.frame.DataFrame'>\n"
     ]
    }
   ],
   "source": [
    "data = {\"Rollno\":[100,200,300,400],\"Names\":['ankit','ajay','kunal','shubham']}\n",
    "df = pd.DataFrame(data,index=[\"Rec-\"+str(i) for i in range(1,5)])\n",
    "print(df)\n",
    "print('------------------')\n",
    "print(type(df))"
   ]
  },
  {
   "cell_type": "code",
   "execution_count": 60,
   "id": "bb63c40e-badc-41cc-8fbb-8da37adfb9d8",
   "metadata": {},
   "outputs": [
    {
     "ename": "KeyError",
     "evalue": "'Rec-2'",
     "output_type": "error",
     "traceback": [
      "\u001b[1;31m---------------------------------------------------------------------------\u001b[0m",
      "\u001b[1;31mKeyError\u001b[0m                                  Traceback (most recent call last)",
      "Cell \u001b[1;32mIn[60], line 1\u001b[0m\n\u001b[1;32m----> 1\u001b[0m \u001b[43mdata\u001b[49m\u001b[43m[\u001b[49m\u001b[38;5;124;43m\"\u001b[39;49m\u001b[38;5;124;43mRec-2\u001b[39;49m\u001b[38;5;124;43m\"\u001b[39;49m\u001b[43m]\u001b[49m\n",
      "\u001b[1;31mKeyError\u001b[0m: 'Rec-2'"
     ]
    }
   ],
   "source": [
    "data[\"Rollno\"]"
   ]
  },
  {
   "cell_type": "code",
   "execution_count": null,
   "id": "1a1b863c-f560-4c85-9c6d-49efd774d4a6",
   "metadata": {},
   "outputs": [],
   "source": []
  }
 ],
 "metadata": {
  "kernelspec": {
   "display_name": "Python 3 (ipykernel)",
   "language": "python",
   "name": "python3"
  },
  "language_info": {
   "codemirror_mode": {
    "name": "ipython",
    "version": 3
   },
   "file_extension": ".py",
   "mimetype": "text/x-python",
   "name": "python",
   "nbconvert_exporter": "python",
   "pygments_lexer": "ipython3",
   "version": "3.12.6"
  }
 },
 "nbformat": 4,
 "nbformat_minor": 5
}
