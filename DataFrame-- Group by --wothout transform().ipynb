{
 "cells": [
  {
   "cell_type": "markdown",
   "id": "8b6a6f71-748c-42a9-a855-498d221879a3",
   "metadata": {},
   "source": [
    "# group by --wothout transform()"
   ]
  },
  {
   "cell_type": "code",
   "execution_count": 3,
   "id": "5fca5b5b-0b64-478e-a172-8f1271492e71",
   "metadata": {},
   "outputs": [
    {
     "name": "stdout",
     "output_type": "stream",
     "text": [
      "  Team  Points\n",
      "0    A      30\n",
      "1    A      22\n",
      "2    A      19\n",
      "3    A      14\n",
      "4    B      14\n",
      "5    B      11\n",
      "6    B      20\n",
      "7    B      28\n"
     ]
    }
   ],
   "source": [
    "import pandas as pd\n",
    "d = {\"Team\":[\"A\",\"A\",\"A\",\"A\",\"B\",\"B\",\"B\",\"B\"],\n",
    "      \"Points\":[30,22,19,14,14,11,20,28] }\n",
    "data = pd.DataFrame(d)\n",
    "print(df)"
   ]
  },
  {
   "cell_type": "code",
   "execution_count": 5,
   "id": "345c2124-c918-4dc2-8476-7396955f6c4d",
   "metadata": {},
   "outputs": [
    {
     "name": "stdout",
     "output_type": "stream",
     "text": [
      "---------------------\n",
      "Group name is = A\n",
      "Group value is =   Team  Points\n",
      "0    A      30\n",
      "1    A      22\n",
      "2    A      19\n",
      "3    A      14\n",
      "---------------------\n",
      "Group name is = B\n",
      "Group value is =   Team  Points\n",
      "4    B      14\n",
      "5    B      11\n",
      "6    B      20\n",
      "7    B      28\n"
     ]
    }
   ],
   "source": [
    "team = data.groupby(\"Team\")\n",
    "for gn,gval in team:\n",
    "    print('---------------------')\n",
    "    print(\"Group name is =\", gn)\n",
    "    print(\"Group value is =\", gval)"
   ]
  },
  {
   "cell_type": "code",
   "execution_count": 9,
   "id": "0f88bd46-cadb-4640-ad75-76b613217230",
   "metadata": {},
   "outputs": [
    {
     "name": "stdout",
     "output_type": "stream",
     "text": [
      "Team = A\n",
      "[30 22 19 14]\n",
      "Team = B\n",
      "[14 11 20 28]\n"
     ]
    }
   ],
   "source": [
    "for k in data.groupby(\"Team\")[\"Points\"]:\n",
    "    print(\"Team =\",k[0])\n",
    "    print(k[1].values)"
   ]
  },
  {
   "cell_type": "code",
   "execution_count": 10,
   "id": "8995b490-8d1a-433f-825c-37c211fe743c",
   "metadata": {},
   "outputs": [
    {
     "name": "stdout",
     "output_type": "stream",
     "text": [
      "  Team  Points\n",
      "0    A      30\n",
      "1    A      22\n",
      "2    A      19\n",
      "3    A      14\n",
      "4    B      14\n",
      "5    B      11\n",
      "6    B      20\n",
      "7    B      28\n"
     ]
    }
   ],
   "source": [
    "print(data)"
   ]
  },
  {
   "cell_type": "code",
   "execution_count": 14,
   "id": "0c12e7ee-4729-4c8a-b131-2cda200c9153",
   "metadata": {},
   "outputs": [],
   "source": [
    "data[\"Average p.\"] = data.groupby(\"Team\")[\"Points\"].transform(\"mean\")"
   ]
  },
  {
   "cell_type": "code",
   "execution_count": 19,
   "id": "370b185e-025a-410d-8fa1-75c87fac33d0",
   "metadata": {},
   "outputs": [],
   "source": [
    "# drop coolumn one extra copy is created\n",
    "data.drop(columns=\"Average p.\",inplace=True)"
   ]
  },
  {
   "cell_type": "code",
   "execution_count": 20,
   "id": "1b823632-bc95-4743-9da9-72fad1f0b378",
   "metadata": {},
   "outputs": [
    {
     "name": "stdout",
     "output_type": "stream",
     "text": [
      "  Team  Points  Average points\n",
      "0    A      30           21.25\n",
      "1    A      22           21.25\n",
      "2    A      19           21.25\n",
      "3    A      14           21.25\n",
      "4    B      14           18.25\n",
      "5    B      11           18.25\n",
      "6    B      20           18.25\n",
      "7    B      28           18.25\n"
     ]
    }
   ],
   "source": [
    "print(data)"
   ]
  },
  {
   "cell_type": "code",
   "execution_count": 21,
   "id": "c3e52e87-d317-425b-befd-afcc66060758",
   "metadata": {},
   "outputs": [
    {
     "name": "stdout",
     "output_type": "stream",
     "text": [
      "  Team  Points\n",
      "0    A      30\n",
      "1    A      22\n",
      "2    A      19\n",
      "3    A      14\n",
      "4    B      14\n",
      "5    B      11\n",
      "6    B      20\n",
      "7    B      28\n"
     ]
    }
   ],
   "source": [
    "# another example\n",
    "\n",
    "import pandas as pd\n",
    "d = {\"Team\":[\"A\",\"A\",\"A\",\"A\",\"B\",\"B\",\"B\",\"B\"],\n",
    "      \"Points\":[30,22,19,14,14,11,20,28] }\n",
    "data = pd.DataFrame(d)\n",
    "print(data)"
   ]
  },
  {
   "cell_type": "code",
   "execution_count": 23,
   "id": "ef0b8253-4801-4d0f-b55e-64428b949c83",
   "metadata": {},
   "outputs": [],
   "source": [
    "# Calculate sum points of Both Team-A and Team-B\n",
    "data[\"Total Points\"] = data.groupby(\"Team\")[\"Points\"].transform(\"sum\")"
   ]
  },
  {
   "cell_type": "code",
   "execution_count": 29,
   "id": "578f41b1-9020-43fb-9d89-4671e4bd6ed4",
   "metadata": {},
   "outputs": [
    {
     "name": "stdout",
     "output_type": "stream",
     "text": [
      "  Team  Points  Total Points\n",
      "0    A      30            85\n",
      "1    A      22            85\n",
      "2    A      19            85\n",
      "3    A      14            85\n",
      "4    B      14            73\n",
      "5    B      11            73\n",
      "6    B      20            73\n",
      "7    B      28            73\n"
     ]
    }
   ],
   "source": [
    "print(data)"
   ]
  },
  {
   "cell_type": "code",
   "execution_count": 31,
   "id": "dbdbd1a7-c5a5-4083-82d4-c50fe8f515e2",
   "metadata": {},
   "outputs": [],
   "source": [
    "data[\"Average of Teams\"] = data.groupby(\"Team\")[\"Points\"].transform(\"mean\")"
   ]
  },
  {
   "cell_type": "code",
   "execution_count": 32,
   "id": "1cf97d86-b492-4774-b4bd-b03fd65a90ce",
   "metadata": {},
   "outputs": [
    {
     "name": "stdout",
     "output_type": "stream",
     "text": [
      "  Team  Points  Total Points  Average of Teams\n",
      "0    A      30            85             21.25\n",
      "1    A      22            85             21.25\n",
      "2    A      19            85             21.25\n",
      "3    A      14            85             21.25\n",
      "4    B      14            73             18.25\n",
      "5    B      11            73             18.25\n",
      "6    B      20            73             18.25\n",
      "7    B      28            73             18.25\n"
     ]
    }
   ],
   "source": [
    "print(data)"
   ]
  },
  {
   "cell_type": "code",
   "execution_count": 37,
   "id": "099425e9-e2ea-4323-be66-27f02bb5bd15",
   "metadata": {},
   "outputs": [],
   "source": [
    "data[\"Percentage\"] = data.groupby(\"Team\")[\"Points\"].transform(lambda x: round((x/sum(x))*100,2))"
   ]
  },
  {
   "cell_type": "code",
   "execution_count": 38,
   "id": "a8e77c1d-5e51-42ff-8942-5aefc758be51",
   "metadata": {},
   "outputs": [
    {
     "name": "stdout",
     "output_type": "stream",
     "text": [
      "  Team  Points  Total Points  Average of Teams  Percentage\n",
      "0    A      30            85             21.25       35.29\n",
      "1    A      22            85             21.25       25.88\n",
      "2    A      19            85             21.25       22.35\n",
      "3    A      14            85             21.25       16.47\n",
      "4    B      14            73             18.25       19.18\n",
      "5    B      11            73             18.25       15.07\n",
      "6    B      20            73             18.25       27.40\n",
      "7    B      28            73             18.25       38.36\n"
     ]
    }
   ],
   "source": [
    "print(data)"
   ]
  },
  {
   "cell_type": "code",
   "execution_count": null,
   "id": "84d66d09-9740-4ea2-b045-45cbb6edee60",
   "metadata": {},
   "outputs": [],
   "source": []
  }
 ],
 "metadata": {
  "kernelspec": {
   "display_name": "Python 3 (ipykernel)",
   "language": "python",
   "name": "python3"
  },
  "language_info": {
   "codemirror_mode": {
    "name": "ipython",
    "version": 3
   },
   "file_extension": ".py",
   "mimetype": "text/x-python",
   "name": "python",
   "nbconvert_exporter": "python",
   "pygments_lexer": "ipython3",
   "version": "3.12.6"
  }
 },
 "nbformat": 4,
 "nbformat_minor": 5
}
