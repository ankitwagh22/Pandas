{
 "cells": [
  {
   "cell_type": "markdown",
   "id": "f8d99b09-b209-4cda-b35a-d25a77a190d6",
   "metadata": {},
   "source": [
    "# Iterate over Rows and Columns of DataFrame"
   ]
  },
  {
   "cell_type": "code",
   "execution_count": 1,
   "id": "2a067a2e-a091-4bd1-92de-8af46314bc0f",
   "metadata": {},
   "outputs": [
    {
     "name": "stdout",
     "output_type": "stream",
     "text": [
      "   ID     Name  Age      City  Experience\n",
      "a  11     jack   34    Sydney           5\n",
      "b  12     Riti   31     Delhi           7\n",
      "c  13     Aadi   16  New York          11\n",
      "d  14    Mohit   32     Delhi          15\n",
      "e  15    Veena   33     Delhi           4\n",
      "f  16  Shaunak   35    Mumbai           5\n",
      "h  17    Shaun   35   Colombo          11\n"
     ]
    }
   ],
   "source": [
    "import pandas as pd\n",
    "# List of Tuples\n",
    "empoyees = [(11, 'jack', 34, 'Sydney', 5) ,\n",
    "            (12, 'Riti', 31, 'Delhi' , 7) ,\n",
    "            (13, 'Aadi', 16, 'New York', 11) ,\n",
    "            (14, 'Mohit', 32,'Delhi' , 15) ,\n",
    "            (15, 'Veena', 33, 'Delhi' , 4) ,\n",
    "            (16, 'Shaunak', 35, 'Mumbai', 5 ),\n",
    "            (17, 'Shaun', 35, 'Colombo', 11)]\n",
    "# Create a DataFrame object\n",
    "df = pd.DataFrame(empoyees,\n",
    "                  columns=['ID', 'Name', 'Age', 'City', 'Experience'],\n",
    "                  index=['a', 'b', 'c', 'd', 'e', 'f', 'h'])\n",
    "# Display the DataFrame\n",
    "print(df)"
   ]
  },
  {
   "cell_type": "code",
   "execution_count": 4,
   "id": "f749f22d-3a55-484e-9530-90d038dc3007",
   "metadata": {},
   "outputs": [
    {
     "name": "stdout",
     "output_type": "stream",
     "text": [
      "****************************************\n",
      "Label of Row = a\n",
      "Row values are = [11 'jack' 34 'Sydney' 5]\n",
      "****************************************\n",
      "Label of Row = b\n",
      "Row values are = [12 'Riti' 31 'Delhi' 7]\n",
      "****************************************\n",
      "Label of Row = c\n",
      "Row values are = [13 'Aadi' 16 'New York' 11]\n",
      "****************************************\n",
      "Label of Row = d\n",
      "Row values are = [14 'Mohit' 32 'Delhi' 15]\n",
      "****************************************\n",
      "Label of Row = e\n",
      "Row values are = [15 'Veena' 33 'Delhi' 4]\n",
      "****************************************\n",
      "Label of Row = f\n",
      "Row values are = [16 'Shaunak' 35 'Mumbai' 5]\n",
      "****************************************\n",
      "Label of Row = h\n",
      "Row values are = [17 'Shaun' 35 'Colombo' 11]\n"
     ]
    }
   ],
   "source": [
    "# Approach-1: Iterate Rows of DataFrame with Row Labels\n",
    "for lab,rows in df.iterrows():\n",
    "    print('*'*40)\n",
    "    print(\"Label of Row =\", lab)\n",
    "    print(\"Row values are =\", rows.values)"
   ]
  },
  {
   "cell_type": "code",
   "execution_count": 8,
   "id": "a9eb2430-0f3c-48f7-beab-967036d7e910",
   "metadata": {},
   "outputs": [
    {
     "name": "stdout",
     "output_type": "stream",
     "text": [
      "---------------------------------------\n",
      "Row index = 0\n",
      "Row value is = [np.int64(11) 'jack' np.int64(34) 'Sydney' np.int64(5)]\n",
      "---------------------------------------\n",
      "Row index = 1\n",
      "Row value is = [np.int64(12) 'Riti' np.int64(31) 'Delhi' np.int64(7)]\n",
      "---------------------------------------\n",
      "Row index = 2\n",
      "Row value is = [np.int64(13) 'Aadi' np.int64(16) 'New York' np.int64(11)]\n",
      "---------------------------------------\n",
      "Row index = 3\n",
      "Row value is = [np.int64(14) 'Mohit' np.int64(32) 'Delhi' np.int64(15)]\n",
      "---------------------------------------\n",
      "Row index = 4\n",
      "Row value is = [np.int64(15) 'Veena' np.int64(33) 'Delhi' np.int64(4)]\n",
      "---------------------------------------\n",
      "Row index = 5\n",
      "Row value is = [np.int64(16) 'Shaunak' np.int64(35) 'Mumbai' np.int64(5)]\n",
      "---------------------------------------\n",
      "Row index = 6\n",
      "Row value is = [np.int64(17) 'Shaun' np.int64(35) 'Colombo' np.int64(11)]\n"
     ]
    }
   ],
   "source": [
    "# Approach-2: Iterate Rows of DataFrame with Row Indices(Positions)\n",
    "for i in range(0,df.shape[0]):\n",
    "    print('---------------------------------------')\n",
    "    print(\"Row index =\", i)\n",
    "    print(\"Row value is =\", df.iloc[i].values)"
   ]
  },
  {
   "cell_type": "code",
   "execution_count": 12,
   "id": "e4fbd234-c7d6-4b62-97d3-5b41d252c4fd",
   "metadata": {},
   "outputs": [
    {
     "name": "stdout",
     "output_type": "stream",
     "text": [
      "-------------------------\n",
      "Col-name is = ID\n",
      "Col-values is = [11 12 13 14 15 16 17]\n",
      "-------------------------\n",
      "Col-name is = Name\n",
      "Col-values is = ['jack' 'Riti' 'Aadi' 'Mohit' 'Veena' 'Shaunak' 'Shaun']\n",
      "-------------------------\n",
      "Col-name is = Age\n",
      "Col-values is = [34 31 16 32 33 35 35]\n",
      "-------------------------\n",
      "Col-name is = City\n",
      "Col-values is = ['Sydney' 'Delhi' 'New York' 'Delhi' 'Delhi' 'Mumbai' 'Colombo']\n",
      "-------------------------\n",
      "Col-name is = Experience\n",
      "Col-values is = [ 5  7 11 15  4  5 11]\n"
     ]
    }
   ],
   "source": [
    "# Approach-3: Iterate Columns of DataFrame with Column Names\n",
    "for colname in df.columns:\n",
    "    print('-------------------------')\n",
    "    print(\"Col-name is =\", colname)\n",
    "    print(\"Col-values is =\", df[colname].values)"
   ]
  },
  {
   "cell_type": "code",
   "execution_count": 14,
   "id": "2bee012d-3181-4ae1-ac89-34cdc51f89a6",
   "metadata": {},
   "outputs": [
    {
     "name": "stdout",
     "output_type": "stream",
     "text": [
      "--------------------------------------------\n",
      "column index = 0\n",
      "column values = [11 12 13 14 15 16 17]\n",
      "--------------------------------------------\n",
      "column index = 1\n",
      "column values = ['jack' 'Riti' 'Aadi' 'Mohit' 'Veena' 'Shaunak' 'Shaun']\n",
      "--------------------------------------------\n",
      "column index = 2\n",
      "column values = [34 31 16 32 33 35 35]\n",
      "--------------------------------------------\n",
      "column index = 3\n",
      "column values = ['Sydney' 'Delhi' 'New York' 'Delhi' 'Delhi' 'Mumbai' 'Colombo']\n",
      "--------------------------------------------\n",
      "column index = 4\n",
      "column values = [ 5  7 11 15  4  5 11]\n"
     ]
    }
   ],
   "source": [
    "# Approach-4: Iterate Columns of DataFrame with Column Indices (Positions)\n",
    "for i in range(0,df.shape[1]):\n",
    "    print('--------------------------------------------')\n",
    "    print(\"column index =\", i)\n",
    "    print(\"column values =\", df.iloc[::1,i].values)"
   ]
  },
  {
   "cell_type": "code",
   "execution_count": 15,
   "id": "16c84f91-4603-4b3a-97b2-18a4d348d8c3",
   "metadata": {},
   "outputs": [
    {
     "name": "stdout",
     "output_type": "stream",
     "text": [
      "         Names  Rank  Marks\n",
      "RowA    Rossum     1     95\n",
      "RowB    Travis     3     80\n",
      "RowC  MCKinney     2     90\n",
      "RowD   JHunter     4     89\n",
      "RowE    Dennis     5     79\n"
     ]
    }
   ],
   "source": [
    "# Another Example \n",
    "import pandas as pd\n",
    "stud_marks_rank = [[\"Rossum\",1,95],[\"Travis\",3,80],[\"MCKinney\",2,90],['JHunter',4,89],['Dennis',5,79]]\n",
    "df = pd.DataFrame(stud_marks_rank,columns=[\"Names\",\"Rank\",\"Marks\"],index=[\"Row\"+str(chr(i)) for i in range(65,70)])\n",
    "print(df)"
   ]
  },
  {
   "cell_type": "code",
   "execution_count": 21,
   "id": "16c28982-b29c-4198-bb13-91a9e8323fca",
   "metadata": {},
   "outputs": [
    {
     "name": "stdout",
     "output_type": "stream",
     "text": [
      "----------------------------\n",
      "Row label is = RowA\n",
      "Row values ara = ['Rossum' 1 95]\n",
      "----------------------------\n",
      "Row label is = RowB\n",
      "Row values ara = ['Travis' 3 80]\n",
      "----------------------------\n",
      "Row label is = RowC\n",
      "Row values ara = ['MCKinney' 2 90]\n",
      "----------------------------\n",
      "Row label is = RowD\n",
      "Row values ara = ['JHunter' 4 89]\n",
      "----------------------------\n",
      "Row label is = RowE\n",
      "Row values ara = ['Dennis' 5 79]\n"
     ]
    }
   ],
   "source": [
    "# iterrating on Rows\n",
    "for row in df.iterrows():\n",
    "    print('----------------------------')\n",
    "    print(\"Row label is =\", row[0])\n",
    "    print(\"Row values ara =\", row[1].values)"
   ]
  },
  {
   "cell_type": "code",
   "execution_count": 20,
   "id": "43c5fede-4351-47cf-8e72-c7b6076ad316",
   "metadata": {},
   "outputs": [
    {
     "name": "stdout",
     "output_type": "stream",
     "text": [
      "--------------------------------\n",
      "Row index is = 0\n",
      "Row values are = ['Rossum' np.int64(1) np.int64(95)]\n",
      "--------------------------------\n",
      "Row index is = 1\n",
      "Row values are = ['Travis' np.int64(3) np.int64(80)]\n",
      "--------------------------------\n",
      "Row index is = 2\n",
      "Row values are = ['MCKinney' np.int64(2) np.int64(90)]\n",
      "--------------------------------\n",
      "Row index is = 3\n",
      "Row values are = ['JHunter' np.int64(4) np.int64(89)]\n",
      "--------------------------------\n",
      "Row index is = 4\n",
      "Row values are = ['Dennis' np.int64(5) np.int64(79)]\n"
     ]
    }
   ],
   "source": [
    "# iterrating using indexes\n",
    "for i in range(0,df.shape[0]):\n",
    "    print('--------------------------------')\n",
    "    print(\"Row index is =\", i)\n",
    "    print(\"Row values are =\", df.iloc[i].values)"
   ]
  },
  {
   "cell_type": "code",
   "execution_count": 22,
   "id": "8560fa4c-4087-4e9c-b55e-2cbc504079f7",
   "metadata": {},
   "outputs": [
    {
     "name": "stdout",
     "output_type": "stream",
     "text": [
      "         Names  Rank  Marks\n",
      "RowA    Rossum     1     95\n",
      "RowB    Travis     3     80\n",
      "RowC  MCKinney     2     90\n",
      "RowD   JHunter     4     89\n",
      "RowE    Dennis     5     79\n"
     ]
    }
   ],
   "source": [
    "print(df)"
   ]
  },
  {
   "cell_type": "code",
   "execution_count": 23,
   "id": "29fd34b3-a8df-4881-8e49-22a5e4a1dab5",
   "metadata": {},
   "outputs": [
    {
     "name": "stdout",
     "output_type": "stream",
     "text": [
      "****************************************\n",
      "column index is = 0\n",
      "column values are = ['Rossum' 'Travis' 'MCKinney' 'JHunter' 'Dennis']\n",
      "****************************************\n",
      "column index is = 1\n",
      "column values are = [1 3 2 4 5]\n",
      "****************************************\n",
      "column index is = 2\n",
      "column values are = [95 80 90 89 79]\n"
     ]
    }
   ],
   "source": [
    "# itter-rating on columns\n",
    "for i in range(0,df.shape[1]):\n",
    "    print('*'*40)\n",
    "    print(\"column index is =\", i)\n",
    "    print(\"column values are =\", df.iloc[::1,i].values)"
   ]
  },
  {
   "cell_type": "code",
   "execution_count": 25,
   "id": "b2840822-6a68-429a-831d-b9baa6293544",
   "metadata": {},
   "outputs": [
    {
     "name": "stdout",
     "output_type": "stream",
     "text": [
      "****************************************\n",
      "column label is = Names\n",
      "columns values area = ['Rossum' 'Travis' 'MCKinney' 'JHunter' 'Dennis']\n",
      "****************************************\n",
      "column label is = Rank\n",
      "columns values area = [1 3 2 4 5]\n",
      "****************************************\n",
      "column label is = Marks\n",
      "columns values area = [95 80 90 89 79]\n"
     ]
    }
   ],
   "source": [
    "for col in df.columns:\n",
    "    print('*'*40)\n",
    "    print(\"column label is =\", col)\n",
    "    print(\"columns values area =\", df[col].values)"
   ]
  },
  {
   "cell_type": "code",
   "execution_count": 27,
   "id": "4513c719-3e2d-4d34-a178-c6fb35cad608",
   "metadata": {
    "scrolled": true
   },
   "outputs": [
    {
     "name": "stdout",
     "output_type": "stream",
     "text": [
      "    ID     Name  Age     City  Experience\n",
      "0   11     Jack   44   Sydney          19\n",
      "1   12     Riti   41    Delhi          17\n",
      "2   13     Aadi   46   Mumbai          11\n",
      "3   14    Mohit   45    Delhi          15\n",
      "4   15    Veena   43    Delhi          14\n",
      "5   16  Shaunak   42   Mumbai          17\n",
      "6   17    Manik   42   Sydney          14\n",
      "7   18    Vikas   42    Delhi          11\n",
      "8   19    Samir   42   Mumbai          15\n",
      "9   20  Shobhit   40   Sydney          12\n"
     ]
    }
   ],
   "source": [
    "# another example \n",
    "import pandas as pd\n",
    "data = pd.read_csv(\"C:\\\\Users\\\\SHREE\\\\Desktop\\\\Z-data_samples\\\\facalty.csv\")\n",
    "print(data)"
   ]
  },
  {
   "cell_type": "code",
   "execution_count": 30,
   "id": "75772681-03bc-4763-880e-801f60a4d0ca",
   "metadata": {},
   "outputs": [
    {
     "name": "stdout",
     "output_type": "stream",
     "text": [
      "****************************************\n",
      "Row name is = 0\n",
      "Row values are = [11 ' Jack' 44 ' Sydney' 19]\n",
      "****************************************\n",
      "Row name is = 1\n",
      "Row values are = [12 'Riti' 41 ' Delhi' 17]\n",
      "****************************************\n",
      "Row name is = 2\n",
      "Row values are = [13 'Aadi' 46 'Mumbai' 11]\n",
      "****************************************\n",
      "Row name is = 3\n",
      "Row values are = [14 'Mohit' 45 'Delhi' 15]\n",
      "****************************************\n",
      "Row name is = 4\n",
      "Row values are = [15 'Veena' 43 'Delhi' 14]\n",
      "****************************************\n",
      "Row name is = 5\n",
      "Row values are = [16 'Shaunak' 42 ' Mumbai' 17]\n",
      "****************************************\n",
      "Row name is = 6\n",
      "Row values are = [17 'Manik' 42 'Sydney' 14]\n",
      "****************************************\n",
      "Row name is = 7\n",
      "Row values are = [18 'Vikas' 42 'Delhi' 11]\n",
      "****************************************\n",
      "Row name is = 8\n",
      "Row values are = [19 'Samir' 42 'Mumbai' 15]\n",
      "****************************************\n",
      "Row name is = 9\n",
      "Row values are = [20 'Shobhit' 40 'Sydney' 12]\n"
     ]
    }
   ],
   "source": [
    "for ind,val in data.iterrows():\n",
    "    print('*'*40)\n",
    "    print(\"Row name is =\", ind)\n",
    "    print(\"Row values are =\", val.values)"
   ]
  },
  {
   "cell_type": "code",
   "execution_count": 32,
   "id": "407d399e-e012-4078-9377-254631c2fe4f",
   "metadata": {},
   "outputs": [
    {
     "name": "stdout",
     "output_type": "stream",
     "text": [
      "****************************************\n",
      "Row index is = 0\n",
      "Row values are = [np.int64(11) ' Jack' np.int64(44) ' Sydney' np.int64(19)]\n",
      "****************************************\n",
      "Row index is = 1\n",
      "Row values are = [np.int64(12) 'Riti' np.int64(41) ' Delhi' np.int64(17)]\n",
      "****************************************\n",
      "Row index is = 2\n",
      "Row values are = [np.int64(13) 'Aadi' np.int64(46) 'Mumbai' np.int64(11)]\n",
      "****************************************\n",
      "Row index is = 3\n",
      "Row values are = [np.int64(14) 'Mohit' np.int64(45) 'Delhi' np.int64(15)]\n",
      "****************************************\n",
      "Row index is = 4\n",
      "Row values are = [np.int64(15) 'Veena' np.int64(43) 'Delhi' np.int64(14)]\n",
      "****************************************\n",
      "Row index is = 5\n",
      "Row values are = [np.int64(16) 'Shaunak' np.int64(42) ' Mumbai' np.int64(17)]\n",
      "****************************************\n",
      "Row index is = 6\n",
      "Row values are = [np.int64(17) 'Manik' np.int64(42) 'Sydney' np.int64(14)]\n",
      "****************************************\n",
      "Row index is = 7\n",
      "Row values are = [np.int64(18) 'Vikas' np.int64(42) 'Delhi' np.int64(11)]\n",
      "****************************************\n",
      "Row index is = 8\n",
      "Row values are = [np.int64(19) 'Samir' np.int64(42) 'Mumbai' np.int64(15)]\n",
      "****************************************\n",
      "Row index is = 9\n",
      "Row values are = [np.int64(20) 'Shobhit' np.int64(40) 'Sydney' np.int64(12)]\n"
     ]
    }
   ],
   "source": [
    "for i in range(0,data.shape[0]):\n",
    "    print('*'*40)\n",
    "    print(\"Row index is =\", i)\n",
    "    print(\"Row values are =\", data.iloc[i].values)"
   ]
  },
  {
   "cell_type": "code",
   "execution_count": 33,
   "id": "be3471ef-34e0-46d8-87de-69c283182a32",
   "metadata": {},
   "outputs": [
    {
     "name": "stdout",
     "output_type": "stream",
     "text": [
      "    ID     Name  Age     City  Experience\n",
      "0   11     Jack   44   Sydney          19\n",
      "1   12     Riti   41    Delhi          17\n",
      "2   13     Aadi   46   Mumbai          11\n",
      "3   14    Mohit   45    Delhi          15\n",
      "4   15    Veena   43    Delhi          14\n",
      "5   16  Shaunak   42   Mumbai          17\n",
      "6   17    Manik   42   Sydney          14\n",
      "7   18    Vikas   42    Delhi          11\n",
      "8   19    Samir   42   Mumbai          15\n",
      "9   20  Shobhit   40   Sydney          12\n"
     ]
    }
   ],
   "source": [
    "print(data)"
   ]
  },
  {
   "cell_type": "code",
   "execution_count": 35,
   "id": "b1fc5268-d406-41cf-9f94-2a09cd1700df",
   "metadata": {},
   "outputs": [
    {
     "name": "stdout",
     "output_type": "stream",
     "text": [
      "****************************************\n",
      "Column is =  ID\n",
      "Column values are - [11 12 13 14 15 16 17 18 19 20]\n",
      "****************************************\n",
      "Column is = Name\n",
      "Column values are - [' Jack' 'Riti' 'Aadi' 'Mohit' 'Veena' 'Shaunak' 'Manik' 'Vikas' 'Samir'\n",
      " 'Shobhit']\n",
      "****************************************\n",
      "Column is = Age\n",
      "Column values are - [44 41 46 45 43 42 42 42 42 40]\n",
      "****************************************\n",
      "Column is = City\n",
      "Column values are - [' Sydney' ' Delhi' 'Mumbai' 'Delhi' 'Delhi' ' Mumbai' 'Sydney' 'Delhi'\n",
      " 'Mumbai' 'Sydney']\n",
      "****************************************\n",
      "Column is = Experience\n",
      "Column values are - [19 17 11 15 14 17 14 11 15 12]\n"
     ]
    }
   ],
   "source": [
    "# getting the column data\n",
    "for col in data.columns:\n",
    "    print('*'*40)\n",
    "    print(\"Column is =\", col)\n",
    "    print(\"Column values are -\", data[col].values)"
   ]
  },
  {
   "cell_type": "code",
   "execution_count": null,
   "id": "e4c5e4f0-7b5a-4b8f-b161-766ecb639909",
   "metadata": {},
   "outputs": [],
   "source": [
    "# getting column indexes\n",
    "for i in range(0,data.shape[1]):\n",
    "    print('*'*40)\n",
    "    print(\"column index is =\", i)\n",
    "    print(\"column values are =\", data.iloc[i"
   ]
  }
 ],
 "metadata": {
  "kernelspec": {
   "display_name": "Python 3 (ipykernel)",
   "language": "python",
   "name": "python3"
  },
  "language_info": {
   "codemirror_mode": {
    "name": "ipython",
    "version": 3
   },
   "file_extension": ".py",
   "mimetype": "text/x-python",
   "name": "python",
   "nbconvert_exporter": "python",
   "pygments_lexer": "ipython3",
   "version": "3.12.6"
  }
 },
 "nbformat": 4,
 "nbformat_minor": 5
}
