{
 "cells": [
  {
   "cell_type": "code",
   "execution_count": null,
   "id": "f8ca7830-4b9b-4310-8779-4471afe6955d",
   "metadata": {},
   "outputs": [],
   "source": [
    "# Here we are creating the object of pandas class\n",
    "# Syntax: varname=pandas.Series(object,index,dtype,name)"
   ]
  },
  {
   "cell_type": "code",
   "execution_count": 2,
   "id": "9465b03b-e0a3-494b-9988-5bdae656b44d",
   "metadata": {},
   "outputs": [
    {
     "name": "stdout",
     "output_type": "stream",
     "text": [
      "0    100\n",
      "dtype: int64 <class 'pandas.core.series.Series'>\n"
     ]
    }
   ],
   "source": [
    "import pandas as pd\n",
    "a = 100\n",
    "ser = pd.Series(a)\n",
    "print(ser,type(ser))"
   ]
  },
  {
   "cell_type": "code",
   "execution_count": 3,
   "id": "fdfbdd1c-54a2-482d-8b14-67743184ddb3",
   "metadata": {},
   "outputs": [
    {
     "name": "stdout",
     "output_type": "stream",
     "text": [
      "0    87.4\n",
      "dtype: float64 <class 'pandas.core.series.Series'>\n"
     ]
    }
   ],
   "source": [
    "import pandas as pd\n",
    "a = 87.40\n",
    "ser = pd.Series(a)\n",
    "print(ser,type(ser))"
   ]
  },
  {
   "cell_type": "code",
   "execution_count": 6,
   "id": "361eb70c-22ae-4acf-9dd1-28649bcc0343",
   "metadata": {},
   "outputs": [
    {
     "name": "stdout",
     "output_type": "stream",
     "text": [
      "(2+3j) <class 'complex'>\n",
      "0    2.0+3.0j\n",
      "dtype: complex128 <class 'pandas.core.series.Series'>\n"
     ]
    }
   ],
   "source": [
    "comp = 2+3j\n",
    "print(comp,type(comp))\n",
    "\n",
    "# converting into series object\n",
    "ser = pd.Series(comp)\n",
    "print(ser,type(ser))"
   ]
  },
  {
   "cell_type": "code",
   "execution_count": 8,
   "id": "33d85aaf-1903-4d7a-b1f5-e60fba710b8f",
   "metadata": {},
   "outputs": [
    {
     "name": "stdout",
     "output_type": "stream",
     "text": [
      "True <class 'bool'>\n",
      "0    True\n",
      "dtype: bool <class 'pandas.core.series.Series'>\n"
     ]
    }
   ],
   "source": [
    "bol = True\n",
    "print(bol,type(bol))\n",
    "\n",
    "# converting into series object\n",
    "ser = pd.Series(bol)\n",
    "print(ser,type(ser))"
   ]
  },
  {
   "cell_type": "code",
   "execution_count": 10,
   "id": "90a4dc5f-eee1-472d-8d97-a331c21a3bf2",
   "metadata": {},
   "outputs": [
    {
     "name": "stdout",
     "output_type": "stream",
     "text": [
      "Ankit <class 'str'>\n",
      "0    Ankit\n",
      "dtype: object <class 'pandas.core.series.Series'>\n"
     ]
    }
   ],
   "source": [
    "str1 = \"Ankit\"\n",
    "print(str1,type(str1))\n",
    "\n",
    "# converting into series object\n",
    "sr = pd.Series(str1)\n",
    "print(sr,type(sr))"
   ]
  },
  {
   "cell_type": "code",
   "execution_count": 18,
   "id": "6afa31a7-d72a-4f6a-910a-3813c9e86657",
   "metadata": {},
   "outputs": [
    {
     "name": "stdout",
     "output_type": "stream",
     "text": [
      "range(100, 210, 20) <class 'range'>\n",
      "0    100\n",
      "1    120\n",
      "2    140\n",
      "3    160\n",
      "4    180\n",
      "5    200\n",
      "dtype: int64 <class 'pandas.core.series.Series'>\n"
     ]
    }
   ],
   "source": [
    "rg = range(100,210,20)\n",
    "print(rg,type(rg))\n",
    "\n",
    "# converting into series object\n",
    "sr = pd.Series(rg)\n",
    "print(sr,type(sr))"
   ]
  },
  {
   "cell_type": "code",
   "execution_count": 19,
   "id": "fa516dc0-9f9e-4667-a4a2-d847b8d6284b",
   "metadata": {},
   "outputs": [
    {
     "name": "stdout",
     "output_type": "stream",
     "text": [
      "0    100.0\n",
      "1    120.0\n",
      "2    140.0\n",
      "3    160.0\n",
      "4    180.0\n",
      "5    200.0\n",
      "dtype: float64\n"
     ]
    }
   ],
   "source": [
    "sr = pd.Series(data=rg,dtype=float)\n",
    "print(sr)"
   ]
  },
  {
   "cell_type": "code",
   "execution_count": 16,
   "id": "d9783728-0a5f-4b15-a12e-62fb66cf7f74",
   "metadata": {},
   "outputs": [
    {
     "name": "stdout",
     "output_type": "stream",
     "text": [
      "range(10, 110, 10) <class 'range'>\n",
      "0     10.0\n",
      "1     20.0\n",
      "2     30.0\n",
      "3     40.0\n",
      "4     50.0\n",
      "5     60.0\n",
      "6     70.0\n",
      "7     80.0\n",
      "8     90.0\n",
      "9    100.0\n",
      "dtype: float64 <class 'pandas.core.series.Series'>\n"
     ]
    }
   ],
   "source": [
    "rg = range(10,110,10)\n",
    "print(rg,type(rg))\n",
    "\n",
    "# converting into series object along with dtype=float\n",
    "sr = pd.Series(rg,dtype=float)\n",
    "print(sr,type(sr))"
   ]
  },
  {
   "cell_type": "code",
   "execution_count": 22,
   "id": "9bc1484b-d91b-42cd-89c3-208f9dcd1111",
   "metadata": {},
   "outputs": [
    {
     "name": "stdout",
     "output_type": "stream",
     "text": [
      "content of list = [100, True, 'Ankit', 86.95]\n",
      "0      100\n",
      "1     True\n",
      "2    Ankit\n",
      "3    86.95\n",
      "dtype: object <class 'pandas.core.series.Series'>\n"
     ]
    }
   ],
   "source": [
    "lst = [100,True,\"Ankit\",86.95]\n",
    "print(\"content of list =\", lst)\n",
    "\n",
    "# converting into series object\n",
    "sr = pd.Series(lst)\n",
    "print(sr,type(sr))"
   ]
  },
  {
   "cell_type": "code",
   "execution_count": 23,
   "id": "6f169088-4d81-401f-bd03-99f7b5784d32",
   "metadata": {},
   "outputs": [
    {
     "name": "stdout",
     "output_type": "stream",
     "text": [
      "a      100\n",
      "b     True\n",
      "c    Ankit\n",
      "d    86.95\n",
      "dtype: object\n"
     ]
    }
   ],
   "source": [
    "# we are giving our own index \n",
    "sr = pd.Series(lst,index=['a','b','c','d'])\n",
    "print(sr)"
   ]
  },
  {
   "cell_type": "code",
   "execution_count": 26,
   "id": "6bc19fd3-713e-487f-819a-5fd1933881d0",
   "metadata": {},
   "outputs": [
    {
     "name": "stdout",
     "output_type": "stream",
     "text": [
      "Content of tuple = ('Wagh', 89, False, 56.23)\n",
      "0     Wagh\n",
      "1       89\n",
      "2    False\n",
      "3    56.23\n",
      "dtype: object\n",
      "<class 'pandas.core.series.Series'>\n"
     ]
    }
   ],
   "source": [
    "tup = (\"Wagh\", 89, False, 56.23)\n",
    "print(\"Content of tuple =\", tup)\n",
    "\n",
    "# converting into series object\n",
    "sr = pd.Series(tup)\n",
    "print(sr)\n",
    "print(type(sr))"
   ]
  },
  {
   "cell_type": "code",
   "execution_count": 29,
   "id": "438c5049-c31b-48ee-9d17-da46449aab51",
   "metadata": {},
   "outputs": [
    {
     "name": "stdout",
     "output_type": "stream",
     "text": [
      "{40, 10, 20, 30} <class 'set'>\n"
     ]
    }
   ],
   "source": [
    "st = {10,20,30,40}\n",
    "print(st,type(st))\n",
    "\n",
    "# converting into series object\n",
    "# sr = pd.Series(st)\n",
    "# print(sr)   ------> It will give a TypeError"
   ]
  },
  {
   "cell_type": "code",
   "execution_count": 35,
   "id": "6ce0da86-ad91-41b9-abc6-158da59d8d44",
   "metadata": {},
   "outputs": [
    {
     "name": "stdout",
     "output_type": "stream",
     "text": [
      "1    10\n",
      "2    20\n",
      "3    30\n",
      "4    40\n",
      "5    50\n",
      "dtype: int64\n"
     ]
    }
   ],
   "source": [
    "# Code for assiging Programmer-Defined Index for Series object\n",
    "rg = range(10,60,10)\n",
    "sr = pd.Series(rg,index=[1,2,3,4,5])\n",
    "print(sr)"
   ]
  },
  {
   "cell_type": "code",
   "execution_count": 39,
   "id": "5e9603eb-de29-4236-a96f-3d83e633946b",
   "metadata": {},
   "outputs": [
    {
     "name": "stdout",
     "output_type": "stream",
     "text": [
      "10\n"
     ]
    }
   ],
   "source": [
    "print(sr[1])"
   ]
  },
  {
   "cell_type": "code",
   "execution_count": 42,
   "id": "075842d5-3d69-4090-8241-65db822ce640",
   "metadata": {},
   "outputs": [
    {
     "name": "stdout",
     "output_type": "stream",
     "text": [
      "idx1    10\n",
      "idx2    20\n",
      "idx3    30\n",
      "idx4    40\n",
      "idx5    50\n",
      "dtype: int64\n"
     ]
    }
   ],
   "source": [
    "rg = range(10,60,10)\n",
    "sr = pd.Series(rg,index=['idx1','idx2','idx3','idx4','idx5'])\n",
    "print(sr)"
   ]
  },
  {
   "cell_type": "code",
   "execution_count": 45,
   "id": "1609dd46-f93f-4e25-886a-97ab8a17ac6e",
   "metadata": {},
   "outputs": [
    {
     "name": "stdout",
     "output_type": "stream",
     "text": [
      "10\n"
     ]
    }
   ],
   "source": [
    "print(sr['idx1'])"
   ]
  },
  {
   "cell_type": "code",
   "execution_count": null,
   "id": "7fac7592-e458-48e8-83d9-02f6452d2a42",
   "metadata": {},
   "outputs": [],
   "source": [
    "#NOTE-1: When we assign Integer Programmer Indices Then PVM Will not consider Defult Indices\n",
    "        # We get key when access with default indices\n",
    "# Note-2: When we assign Str Programmer Indices \n",
    "# we can access the Elements of Series either w.r,t Programmer Defined Str Indices and \n",
    "# also with Deafult Indices (Not Recommended in Future Version)"
   ]
  },
  {
   "cell_type": "code",
   "execution_count": 59,
   "id": "89e35fb7-8952-431b-a5c5-bbd185867018",
   "metadata": {},
   "outputs": [
    {
     "name": "stdout",
     "output_type": "stream",
     "text": [
      "Content of dictionary is = {10: 'ankit', 20: 'krishna', 30: 'Gaurav', 40: 'kunal'}\n",
      "10      ankit\n",
      "20    krishna\n",
      "30     Gaurav\n",
      "40      kunal\n",
      "dtype: object <class 'pandas.core.series.Series'>\n"
     ]
    }
   ],
   "source": [
    "# Creating the dict type object\n",
    "import pandas as pd\n",
    "dic = {10:'ankit', 20:'krishna', 30:'Gaurav', 40:'kunal'}\n",
    "print(\"Content of dictionary is =\", dic)\n",
    "\n",
    "# convert into series\n",
    "ser = pd.Series(dic)\n",
    "print(ser,type(ser))"
   ]
  },
  {
   "cell_type": "code",
   "execution_count": 62,
   "id": "c6a2be60-e62b-4cec-bcce-929bb9442c4a",
   "metadata": {},
   "outputs": [
    {
     "name": "stdout",
     "output_type": "stream",
     "text": [
      "ankit krishna Gaurav kunal "
     ]
    }
   ],
   "source": [
    "# we can access the value using there index\n",
    "ser[10]\n",
    "for i in range(10,50,10):\n",
    "    print(ser[i],end=' ')"
   ]
  },
  {
   "cell_type": "code",
   "execution_count": 56,
   "id": "5a4bf333-57f3-44c4-8838-59328812ac9d",
   "metadata": {},
   "outputs": [
    {
     "name": "stdout",
     "output_type": "stream",
     "text": [
      "10 ankit\n",
      "20 krishna\n",
      "30 Gaurav\n",
      "40 kunal\n"
     ]
    }
   ],
   "source": [
    "for ind,val in dic.items():\n",
    "    print(ind,val)"
   ]
  },
  {
   "cell_type": "code",
   "execution_count": 64,
   "id": "2c2226ca-e89e-40a5-a390-a74b8fbf8325",
   "metadata": {},
   "outputs": [
    {
     "name": "stdout",
     "output_type": "stream",
     "text": [
      "None <class 'NoneType'>\n",
      "Series([], dtype: object) <class 'pandas.core.series.Series'>\n"
     ]
    }
   ],
   "source": [
    "n = None \n",
    "print(n,type(n))\n",
    "\n",
    "# converting into pandas series object\n",
    "ser = pd.Series(n)\n",
    "print(ser,type(ser))"
   ]
  },
  {
   "cell_type": "code",
   "execution_count": 68,
   "id": "f4208d11-b244-472f-b3d4-e633c7794412",
   "metadata": {},
   "outputs": [
    {
     "name": "stdout",
     "output_type": "stream",
     "text": [
      "[10 20 30 40] <class 'numpy.ndarray'>\n",
      "----------------------------------\n",
      "0    10\n",
      "1    20\n",
      "2    30\n",
      "3    40\n",
      "dtype: int64 <class 'pandas.core.series.Series'>\n"
     ]
    }
   ],
   "source": [
    "# creating the series object of ndarray \n",
    "import numpy as np\n",
    "import pandas as pd\n",
    "arr = np.array([10,20,30,40])\n",
    "print(arr,type(arr))\n",
    "print('----------------------------------')\n",
    "ser = pd.Series(arr)\n",
    "print(ser,type(ser))"
   ]
  },
  {
   "cell_type": "code",
   "execution_count": 70,
   "id": "c1d52f3b-fabe-452b-860a-31715b66fd97",
   "metadata": {},
   "outputs": [
    {
     "name": "stdout",
     "output_type": "stream",
     "text": [
      "100    10.0\n",
      "200    20.0\n",
      "300    30.0\n",
      "400    40.0\n",
      "dtype: float64\n"
     ]
    }
   ],
   "source": [
    "# Giving our own index\n",
    "ser = pd.Series(arr,index=[100,200,300,400],dtype=float)\n",
    "print(ser)"
   ]
  },
  {
   "cell_type": "code",
   "execution_count": null,
   "id": "b92f906f-badb-4367-b871-f9f9eb3ab86f",
   "metadata": {},
   "outputs": [],
   "source": []
  }
 ],
 "metadata": {
  "kernelspec": {
   "display_name": "Python 3 (ipykernel)",
   "language": "python",
   "name": "python3"
  },
  "language_info": {
   "codemirror_mode": {
    "name": "ipython",
    "version": 3
   },
   "file_extension": ".py",
   "mimetype": "text/x-python",
   "name": "python",
   "nbconvert_exporter": "python",
   "pygments_lexer": "ipython3",
   "version": "3.12.6"
  }
 },
 "nbformat": 4,
 "nbformat_minor": 5
}
