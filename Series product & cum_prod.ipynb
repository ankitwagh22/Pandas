{
 "cells": [
  {
   "cell_type": "markdown",
   "id": "9c911c4b-8255-4ae6-b672-b97992e132b1",
   "metadata": {},
   "source": [
    "# Finding the product and cummulative product"
   ]
  },
  {
   "cell_type": "code",
   "execution_count": 2,
   "id": "6aad7fd2-0b1c-4689-9e25-d97a5763cc4a",
   "metadata": {},
   "outputs": [
    {
     "name": "stdout",
     "output_type": "stream",
     "text": [
      "Value of Series \n",
      "0    2\n",
      "1    4\n",
      "2    3\n",
      "3    1\n",
      "4    5\n",
      "5    2\n",
      "dtype: int64\n"
     ]
    }
   ],
   "source": [
    "import pandas as pd\n",
    "sr = pd.Series([2,4,3,1,5,2])\n",
    "print(\"Value of Series \")\n",
    "print(sr)"
   ]
  },
  {
   "cell_type": "code",
   "execution_count": 4,
   "id": "e6c70d92-5f0d-4e72-b75a-9ddd853b7e88",
   "metadata": {},
   "outputs": [
    {
     "name": "stdout",
     "output_type": "stream",
     "text": [
      "240\n"
     ]
    }
   ],
   "source": [
    "# getting the product\n",
    "print(sr.product())"
   ]
  },
  {
   "cell_type": "code",
   "execution_count": 6,
   "id": "0d12fa5f-04b8-4571-a128-3d78aa30ef23",
   "metadata": {},
   "outputs": [
    {
     "name": "stdout",
     "output_type": "stream",
     "text": [
      "Values of series is :\n",
      "0    1\n",
      "1    2\n",
      "2    3\n",
      "3    4\n",
      "4    5\n",
      "dtype: int64\n",
      "------------------\n",
      "0      1\n",
      "1      2\n",
      "2      6\n",
      "3     24\n",
      "4    120\n",
      "dtype: int64\n"
     ]
    }
   ],
   "source": [
    "sr = pd.Series([1,2,3,4,5])\n",
    "print(\"Values of series is :\")\n",
    "print(sr)\n",
    "print('------------------')\n",
    "\n",
    "# cummulative product is follows\n",
    "print(sr.cumprod())"
   ]
  },
  {
   "cell_type": "code",
   "execution_count": 9,
   "id": "34911ba7-bee2-453e-8c7b-728bb0ba3f80",
   "metadata": {},
   "outputs": [
    {
     "name": "stdout",
     "output_type": "stream",
     "text": [
      "0    2.0\n",
      "1    4.0\n",
      "2    NaN\n",
      "3    3.0\n",
      "4    5.0\n",
      "dtype: float64\n",
      "---------------\n",
      "Product of Values is = 120.0\n"
     ]
    }
   ],
   "source": [
    "import numpy as np\n",
    "sr = pd.Series([2,4,np.nan,3,5])\n",
    "print(sr)\n",
    "print('---------------')\n",
    "print(\"Product of Values is =\", sr.product())"
   ]
  },
  {
   "cell_type": "code",
   "execution_count": 13,
   "id": "2c7ba07e-a2d3-4087-a189-84f3cfcc8c8e",
   "metadata": {},
   "outputs": [
    {
     "name": "stdout",
     "output_type": "stream",
     "text": [
      "0    2.0\n",
      "1    4.0\n",
      "2    NaN\n",
      "3    3.0\n",
      "4    5.0\n",
      "dtype: float64\n",
      "---------------\n",
      "Cummulative Product of Values is =\n",
      "0      2.0\n",
      "1      8.0\n",
      "2      NaN\n",
      "3     24.0\n",
      "4    120.0\n",
      "dtype: float64\n"
     ]
    }
   ],
   "source": [
    "sr = pd.Series([2,4,np.nan,3,5])\n",
    "print(sr)\n",
    "print('---------------')\n",
    "print(\"Cummulative Product of Values is =\")\n",
    "print(sr.cumprod())"
   ]
  },
  {
   "cell_type": "code",
   "execution_count": 21,
   "id": "1a54be4a-82fc-4ba7-8378-9fb5eb760147",
   "metadata": {},
   "outputs": [
    {
     "name": "stdout",
     "output_type": "stream",
     "text": [
      "0    36\n",
      "1    33\n",
      "2    49\n",
      "3    13\n",
      "4    17\n",
      "5    34\n",
      "6    28\n",
      "7    29\n",
      "8    39\n",
      "9    26\n",
      "dtype: int32\n",
      "-----------------\n",
      "Max Values is = 49\n",
      "Min Values is = 13\n",
      "Mean Values is = 30.4\n",
      "Median Values is = 31.0\n",
      "Standard deviation Values is = 10.437\n"
     ]
    }
   ],
   "source": [
    "arr = np.random.randint(10,50,size=10)\n",
    "sr = pd.Series(arr)\n",
    "print(sr)\n",
    "print('-----------------')\n",
    "\n",
    "# getting sum important values\n",
    "print(\"Max Values is =\", sr.max())\n",
    "print(\"Min Values is =\", sr.min())\n",
    "print(\"Mean Values is =\", sr.mean())\n",
    "print(\"Median Values is =\", sr.median())\n",
    "print(\"Standard deviation Values is =\", round(sr.std(),3))"
   ]
  },
  {
   "cell_type": "code",
   "execution_count": 25,
   "id": "4aca85dd-a335-41c5-827a-64f0c914ab29",
   "metadata": {},
   "outputs": [
    {
     "name": "stdout",
     "output_type": "stream",
     "text": [
      "0    2\n",
      "1    4\n",
      "2    3\n",
      "3    1\n",
      "4    5\n",
      "5    2\n",
      "6    3\n",
      "7    5\n",
      "8    4\n",
      "dtype: int64\n",
      "-----------------\n",
      "min       1.000000\n",
      "max       5.000000\n",
      "mean      3.222222\n",
      "median    3.000000\n",
      "std       1.394433\n",
      "dtype: float64\n"
     ]
    }
   ],
   "source": [
    "sr = pd.Series([2,4,3,1,5,2,3,5,4])\n",
    "print(sr)\n",
    "print('-----------------')\n",
    "aggreate = sr.agg(['min','max','mean','median','std'])\n",
    "print(aggreate)"
   ]
  },
  {
   "cell_type": "code",
   "execution_count": null,
   "id": "d1f7ed6a-f74c-4f32-9dca-ca19cf35ada9",
   "metadata": {},
   "outputs": [],
   "source": []
  }
 ],
 "metadata": {
  "kernelspec": {
   "display_name": "Python 3 (ipykernel)",
   "language": "python",
   "name": "python3"
  },
  "language_info": {
   "codemirror_mode": {
    "name": "ipython",
    "version": 3
   },
   "file_extension": ".py",
   "mimetype": "text/x-python",
   "name": "python",
   "nbconvert_exporter": "python",
   "pygments_lexer": "ipython3",
   "version": "3.12.6"
  }
 },
 "nbformat": 4,
 "nbformat_minor": 5
}
