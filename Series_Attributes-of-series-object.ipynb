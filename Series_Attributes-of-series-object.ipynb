{
 "cells": [
  {
   "cell_type": "code",
   "execution_count": null,
   "id": "2ebb60fd-bf58-4ed8-aea1-0aa6ae06d84a",
   "metadata": {},
   "outputs": [],
   "source": [
    "# Attributes of Series Object\n",
    "# 1) obj.name\n",
    "# 2) obj.ndim\n",
    "# 3) obj.shape\n",
    "# 4) obj.size\n",
    "# 5) obj.values\n",
    "# 6) obj.empty\n",
    "# 7) obj.index"
   ]
  },
  {
   "cell_type": "code",
   "execution_count": 1,
   "id": "8368b7fa-1347-48c6-a124-6c87d634c9b0",
   "metadata": {},
   "outputs": [
    {
     "name": "stdout",
     "output_type": "stream",
     "text": [
      "python          Rossum\n",
      "numpy           Travis\n",
      "pandas        MCKinney\n",
      "matplotlib     JHunter\n",
      "Name: authors, dtype: object <class 'pandas.core.series.Series'>\n"
     ]
    }
   ],
   "source": [
    "\n",
    "import pandas as pd\n",
    "ser = pd.Series([\"Rossum\",\"Travis\",\"MCKinney\",\"JHunter\"],\n",
    "                index=[\"python\",\"numpy\",\"pandas\",\"matplotlib\"],\n",
    "                 name=\"authors\")\n",
    "print(ser,type(ser))"
   ]
  },
  {
   "cell_type": "code",
   "execution_count": 2,
   "id": "3322dd07-af44-407c-8206-791f4fbf2f44",
   "metadata": {},
   "outputs": [
    {
     "name": "stdout",
     "output_type": "stream",
     "text": [
      "Name of the Series object = authors\n"
     ]
    }
   ],
   "source": [
    "print(\"Name of the Series object =\", ser.name)"
   ]
  },
  {
   "cell_type": "code",
   "execution_count": 3,
   "id": "36a3737f-efb2-4381-b780-7fb8b094fb3c",
   "metadata": {},
   "outputs": [
    {
     "name": "stdout",
     "output_type": "stream",
     "text": [
      "Name after update is : Scientist\n"
     ]
    }
   ],
   "source": [
    "# we can also change/update the name \n",
    "ser.name = 'Scientists'\n",
    "print(\"Name after update is :\", ser.name)"
   ]
  },
  {
   "cell_type": "code",
   "execution_count": 4,
   "id": "bab02a6e-7c21-4b54-b26a-0e1af3a13f3e",
   "metadata": {},
   "outputs": [
    {
     "name": "stdout",
     "output_type": "stream",
     "text": [
      "Dimension of Series is = 1\n"
     ]
    }
   ],
   "source": [
    "# Finding the dimension of series\n",
    "dim = ser.ndim\n",
    "print(\"Dimension of Series is =\", dim)"
   ]
  },
  {
   "cell_type": "code",
   "execution_count": 6,
   "id": "bd2bffd4-74ab-4c5e-a24a-fed73d6da8d8",
   "metadata": {},
   "outputs": [
    {
     "name": "stdout",
     "output_type": "stream",
     "text": [
      "0    10\n",
      "1    20\n",
      "2    30\n",
      "3    40\n",
      "dtype: int64\n",
      "Size of Series object is = 4\n"
     ]
    }
   ],
   "source": [
    "# Finding the size of series object\n",
    "ser = pd.Series([10,20,30,40])\n",
    "print(ser)\n",
    "siz = ser.size\n",
    "print(\"Size of Series object is =\", siz)"
   ]
  },
  {
   "cell_type": "code",
   "execution_count": 8,
   "id": "d311dc86-89f8-474b-bd49-d2f409747d3b",
   "metadata": {},
   "outputs": [
    {
     "name": "stdout",
     "output_type": "stream",
     "text": [
      "Size of Series object is = 4\n"
     ]
    }
   ],
   "source": [
    "# we can also get size using len() method\n",
    "print(\"Size of Series object is =\",len(ser))"
   ]
  },
  {
   "cell_type": "code",
   "execution_count": 10,
   "id": "7c243d37-52a1-49a0-99a9-dfd5469c4626",
   "metadata": {},
   "outputs": [
    {
     "name": "stdout",
     "output_type": "stream",
     "text": [
      "Values of series object = [10 20 30 40]\n",
      "<class 'numpy.ndarray'>\n"
     ]
    }
   ],
   "source": [
    "# Getting the values of series of object\n",
    "print(\"Values of series object =\", ser.values)\n",
    "print(type(ser.values))"
   ]
  },
  {
   "cell_type": "code",
   "execution_count": 11,
   "id": "36b0b7d4-d984-4542-82e3-0afb7c273f29",
   "metadata": {},
   "outputs": [
    {
     "name": "stdout",
     "output_type": "stream",
     "text": [
      "10\n",
      "20\n",
      "30\n",
      "40\n"
     ]
    }
   ],
   "source": [
    "for val in ser.values:\n",
    "    print(val)"
   ]
  },
  {
   "cell_type": "code",
   "execution_count": 16,
   "id": "16b2a0ae-c7a7-4559-9d1d-833ac09e3391",
   "metadata": {},
   "outputs": [
    {
     "name": "stdout",
     "output_type": "stream",
     "text": [
      "0       Ankit\n",
      "1       kunal\n",
      "2    Abhishek\n",
      "3    vishwesh\n",
      "Name: friends-forever, dtype: object\n",
      "---------------------\n",
      "Name of series is = friends-forever\n"
     ]
    }
   ],
   "source": [
    "sr = pd.Series(['Ankit','kunal','Abhishek','vishwesh'],name='friends-forever')\n",
    "print(sr)\n",
    "print('---------------------')\n",
    "print(\"Name of series is =\",sr.name)"
   ]
  },
  {
   "cell_type": "code",
   "execution_count": 18,
   "id": "7e79042e-cefd-485b-abf5-a8985c7f0f2f",
   "metadata": {},
   "outputs": [
    {
     "name": "stdout",
     "output_type": "stream",
     "text": [
      "Shape of Series object is = (4,)\n"
     ]
    }
   ],
   "source": [
    "# Getting the shape of series\n",
    "print(\"Shape of Series object is =\", sr.shape)"
   ]
  },
  {
   "cell_type": "code",
   "execution_count": 19,
   "id": "197007d1-46bc-475d-b184-b260447c1222",
   "metadata": {},
   "outputs": [
    {
     "name": "stdout",
     "output_type": "stream",
     "text": [
      "Is series object Empty = False\n"
     ]
    }
   ],
   "source": [
    "# Check whether the series object is empty or not\n",
    "print(\"Is series object Empty =\", sr.empty)"
   ]
  },
  {
   "cell_type": "code",
   "execution_count": 22,
   "id": "150e2fd0-65c0-4237-9e05-9bad8993660e",
   "metadata": {},
   "outputs": [
    {
     "name": "stdout",
     "output_type": "stream",
     "text": [
      "Series([], dtype: object)\n",
      "Is series object is Empty = True\n"
     ]
    }
   ],
   "source": [
    "# create an empty series object\n",
    "import pandas as pd\n",
    "ser = pd.Series()\n",
    "print(ser)\n",
    "print(\"Is series object is Empty =\", ser.empty)"
   ]
  },
  {
   "cell_type": "code",
   "execution_count": 25,
   "id": "9a2feb01-6b8c-4a4b-86c3-e76c51fcd5c8",
   "metadata": {},
   "outputs": [
    {
     "name": "stdout",
     "output_type": "stream",
     "text": [
      "Indces of Series object = RangeIndex(start=0, stop=4, step=1)\n"
     ]
    }
   ],
   "source": [
    "# To get the indces of series object \n",
    "ser = pd.Series([10,20,30,40])\n",
    "print(\"Indces of Series object =\", ser.index)"
   ]
  },
  {
   "cell_type": "code",
   "execution_count": 29,
   "id": "67979531-3ec7-4da5-96ba-357f32e01b75",
   "metadata": {},
   "outputs": [
    {
     "name": "stdout",
     "output_type": "stream",
     "text": [
      "python          Rossum\n",
      "numpy           Travis\n",
      "pandas        MCKinney\n",
      "matplotlib     JHunter\n",
      "Name: authors, dtype: object\n",
      "Indices of series object is = Index(['python', 'numpy', 'pandas', 'matplotlib'], dtype='object')\n"
     ]
    }
   ],
   "source": [
    "ser = pd.Series([\"Rossum\",\"Travis\",\"MCKinney\",\"JHunter\"],index=[\"python\",\"numpy\",\"pandas\",\"matplotlib\"],\n",
    "            name=\"authors\")\n",
    "print(ser)\n",
    "\n",
    "# get indexes\n",
    "print(\"Indices of series object is =\", ser.index)"
   ]
  },
  {
   "cell_type": "code",
   "execution_count": null,
   "id": "6a06c1de-7bc3-4a6d-b13b-1e3787bbc096",
   "metadata": {},
   "outputs": [],
   "source": []
  }
 ],
 "metadata": {
  "kernelspec": {
   "display_name": "Python 3 (ipykernel)",
   "language": "python",
   "name": "python3"
  },
  "language_info": {
   "codemirror_mode": {
    "name": "ipython",
    "version": 3
   },
   "file_extension": ".py",
   "mimetype": "text/x-python",
   "name": "python",
   "nbconvert_exporter": "python",
   "pygments_lexer": "ipython3",
   "version": "3.12.6"
  }
 },
 "nbformat": 4,
 "nbformat_minor": 5
}
