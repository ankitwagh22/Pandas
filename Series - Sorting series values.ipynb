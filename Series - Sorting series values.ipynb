{
 "cells": [
  {
   "cell_type": "code",
   "execution_count": 2,
   "id": "99a4eaea-d861-44d1-b59b-ec7a72ff4a96",
   "metadata": {},
   "outputs": [
    {
     "name": "stdout",
     "output_type": "stream",
     "text": [
      "Values of Series is =\n",
      "0    10\n",
      "1     2\n",
      "2    15\n",
      "3     3\n",
      "4    20\n",
      "5    -2\n",
      "6    17\n",
      "7    30\n",
      "8     0\n",
      "9    12\n",
      "dtype: int64\n"
     ]
    }
   ],
   "source": [
    "# Sorting the series values \n",
    "import pandas as pd\n",
    "import numpy as np\n",
    "\n",
    "sr = pd.Series([10,2,15,3,20,-2,17,30,0,12])\n",
    "print(\"Values of Series is =\")\n",
    "print(sr)"
   ]
  },
  {
   "cell_type": "code",
   "execution_count": 4,
   "id": "db243363-47c4-48f5-a873-1bce5fb68d76",
   "metadata": {},
   "outputs": [
    {
     "data": {
      "text/plain": [
       "5    -2\n",
       "8     0\n",
       "1     2\n",
       "3     3\n",
       "0    10\n",
       "9    12\n",
       "2    15\n",
       "6    17\n",
       "4    20\n",
       "7    30\n",
       "dtype: int64"
      ]
     },
     "execution_count": 4,
     "metadata": {},
     "output_type": "execute_result"
    }
   ],
   "source": [
    "# sorting using sort_values() method\n",
    "sr.sort_values()"
   ]
  },
  {
   "cell_type": "code",
   "execution_count": 5,
   "id": "bd4d9970-57b4-41f7-a14b-d2546cdcc750",
   "metadata": {},
   "outputs": [
    {
     "name": "stdout",
     "output_type": "stream",
     "text": [
      "0    10\n",
      "1     2\n",
      "2    15\n",
      "3     3\n",
      "4    20\n",
      "5    -2\n",
      "6    17\n",
      "7    30\n",
      "8     0\n",
      "9    12\n",
      "dtype: int64\n"
     ]
    }
   ],
   "source": [
    "# original series object not changes\n",
    "print(sr)"
   ]
  },
  {
   "cell_type": "code",
   "execution_count": 8,
   "id": "dd499038-0de4-48b8-9b66-04610332be2f",
   "metadata": {},
   "outputs": [
    {
     "name": "stdout",
     "output_type": "stream",
     "text": [
      "Values of series in ascending order\n",
      "5    -2\n",
      "8     0\n",
      "1     2\n",
      "3     3\n",
      "0    10\n",
      "9    12\n",
      "2    15\n",
      "6    17\n",
      "4    20\n",
      "7    30\n",
      "dtype: int64\n"
     ]
    }
   ],
   "source": [
    "# Sort the Elements of Series and place sorted elements in same series object\n",
    "sr.sort_values(inplace=True)\n",
    "print(\"Values of series in ascending order\")\n",
    "print(sr)"
   ]
  },
  {
   "cell_type": "code",
   "execution_count": 9,
   "id": "980bd1a3-114a-4985-8892-7f064477e068",
   "metadata": {},
   "outputs": [
    {
     "name": "stdout",
     "output_type": "stream",
     "text": [
      "Values of series in descending order\n",
      "7    30\n",
      "4    20\n",
      "6    17\n",
      "2    15\n",
      "9    12\n",
      "0    10\n",
      "3     3\n",
      "1     2\n",
      "8     0\n",
      "5    -2\n",
      "dtype: int64\n"
     ]
    }
   ],
   "source": [
    "print(\"Values of series in descending order\")\n",
    "print(sr[::-1])"
   ]
  },
  {
   "cell_type": "code",
   "execution_count": 11,
   "id": "e1136ffa-6fae-4ac2-be26-4e3a01487704",
   "metadata": {},
   "outputs": [
    {
     "name": "stdout",
     "output_type": "stream",
     "text": [
      "Values of series =\n",
      "0    10\n",
      "1     2\n",
      "2    15\n",
      "3     3\n",
      "4    20\n",
      "5    -2\n",
      "6    17\n",
      "7    30\n",
      "8     0\n",
      "9    12\n",
      "dtype: int64\n"
     ]
    }
   ],
   "source": [
    "ser = pd.Series([10,2,15,3,20,-2,17,30,0,12])\n",
    "print(\"Values of series =\")\n",
    "print(ser)"
   ]
  },
  {
   "cell_type": "code",
   "execution_count": 13,
   "id": "41fd895c-ceb6-4d70-8d49-c22eed0a0db1",
   "metadata": {},
   "outputs": [
    {
     "data": {
      "text/plain": [
       "7    30\n",
       "4    20\n",
       "6    17\n",
       "2    15\n",
       "9    12\n",
       "0    10\n",
       "3     3\n",
       "1     2\n",
       "8     0\n",
       "5    -2\n",
       "dtype: int64"
      ]
     },
     "execution_count": 13,
     "metadata": {},
     "output_type": "execute_result"
    }
   ],
   "source": [
    "# sorting in descending order\n",
    "ser.sort_values(ascending=False)"
   ]
  },
  {
   "cell_type": "code",
   "execution_count": 14,
   "id": "2cdfe07c-22f8-4615-a1ed-95122a97bde5",
   "metadata": {},
   "outputs": [
    {
     "name": "stdout",
     "output_type": "stream",
     "text": [
      "0    10\n",
      "1     2\n",
      "2    15\n",
      "3     3\n",
      "4    20\n",
      "5    -2\n",
      "6    17\n",
      "7    30\n",
      "8     0\n",
      "9    12\n",
      "dtype: int64\n"
     ]
    }
   ],
   "source": [
    "# Original object doesn't change\n",
    "print(ser)"
   ]
  },
  {
   "cell_type": "code",
   "execution_count": 16,
   "id": "4af2abaa-a068-4005-95f3-bf93546264e0",
   "metadata": {},
   "outputs": [
    {
     "name": "stdout",
     "output_type": "stream",
     "text": [
      "Values of Series in Asending order ->\n",
      "7    30\n",
      "4    20\n",
      "6    17\n",
      "2    15\n",
      "9    12\n",
      "0    10\n",
      "3     3\n",
      "1     2\n",
      "8     0\n",
      "5    -2\n",
      "dtype: int64\n"
     ]
    }
   ],
   "source": [
    "# changes done in Original object by using bellow syntax\n",
    "ser.sort_values(ascending=False,inplace=True)\n",
    "print(\"Values of Series in Asending order ->\")\n",
    "print(ser)"
   ]
  },
  {
   "cell_type": "code",
   "execution_count": null,
   "id": "6bb85cc2-88e1-4f89-91b6-d096033ba7ae",
   "metadata": {},
   "outputs": [],
   "source": []
  }
 ],
 "metadata": {
  "kernelspec": {
   "display_name": "Python 3 (ipykernel)",
   "language": "python",
   "name": "python3"
  },
  "language_info": {
   "codemirror_mode": {
    "name": "ipython",
    "version": 3
   },
   "file_extension": ".py",
   "mimetype": "text/x-python",
   "name": "python",
   "nbconvert_exporter": "python",
   "pygments_lexer": "ipython3",
   "version": "3.12.6"
  }
 },
 "nbformat": 4,
 "nbformat_minor": 5
}
