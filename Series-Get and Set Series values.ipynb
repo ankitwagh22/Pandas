{
 "cells": [
  {
   "cell_type": "markdown",
   "id": "1a48bd0b-c10a-4762-a43e-99649edfe8af",
   "metadata": {},
   "source": [
    "# Get and Set Series values"
   ]
  },
  {
   "cell_type": "code",
   "execution_count": 1,
   "id": "78a32dd0-49ac-433e-ada9-0d4f1d467912",
   "metadata": {},
   "outputs": [
    {
     "name": "stdout",
     "output_type": "stream",
     "text": [
      "0      Ankit\n",
      "1    Krishna\n",
      "2     Gaurav\n",
      "3     Sanket\n",
      "dtype: object <class 'pandas.core.series.Series'>\n"
     ]
    }
   ],
   "source": [
    "import pandas as pd\n",
    "ser = pd.Series(['Ankit','Krishna','Gaurav','Sanket'])\n",
    "print(ser,type(ser))"
   ]
  },
  {
   "cell_type": "code",
   "execution_count": 6,
   "id": "ee986e07-53f7-4370-b94c-b64539fb1a47",
   "metadata": {},
   "outputs": [
    {
     "name": "stdout",
     "output_type": "stream",
     "text": [
      "First Element is = Ankit\n",
      "Third Element is = Gaurav\n"
     ]
    }
   ],
   "source": [
    "print(\"First Element is =\", ser[0])\n",
    "print(\"Third Element is =\", ser[2])"
   ]
  },
  {
   "cell_type": "code",
   "execution_count": 18,
   "id": "46ce9352-7dfb-454b-87e6-4bdbcab578ed",
   "metadata": {},
   "outputs": [
    {
     "name": "stdout",
     "output_type": "stream",
     "text": [
      "0      Ankit\n",
      "1    Krishna\n",
      "2     Gaurav\n",
      "3     Sanket\n",
      "dtype: object\n",
      "-------------\n",
      "1    Krishna\n",
      "2     Gaurav\n",
      "dtype: object\n"
     ]
    }
   ],
   "source": [
    "# Now getting number of values\n",
    "print(ser[::])\n",
    "print('-------------')\n",
    "print(ser[1:3])"
   ]
  },
  {
   "cell_type": "code",
   "execution_count": 25,
   "id": "e0324a0e-e664-4420-8995-f19b725e1334",
   "metadata": {},
   "outputs": [
    {
     "name": "stdout",
     "output_type": "stream",
     "text": [
      "1    Krishna\n",
      "3     Sanket\n",
      "dtype: object\n"
     ]
    }
   ],
   "source": [
    "# getting the random elements -> krishna, sanket\n",
    "print(ser[[1,3]])"
   ]
  },
  {
   "cell_type": "code",
   "execution_count": 9,
   "id": "24dc7512-5ab7-472a-af26-2286830df505",
   "metadata": {},
   "outputs": [
    {
     "name": "stdout",
     "output_type": "stream",
     "text": [
      "Series data is => \n",
      " a      Ankit\n",
      "b    Krishna\n",
      "c     Gaurav\n",
      "d     Sanket\n",
      "dtype: object\n"
     ]
    }
   ],
   "source": [
    "# Now using the user defined index\n",
    "sr = pd.Series(['Ankit','Krishna','Gaurav','Sanket'],\n",
    "                index=['a','b','c','d'])\n",
    "print(\"Series data is => \\n\", sr)"
   ]
  },
  {
   "cell_type": "code",
   "execution_count": 12,
   "id": "422f9237-4d57-41b5-85a5-83639669824c",
   "metadata": {},
   "outputs": [
    {
     "name": "stdout",
     "output_type": "stream",
     "text": [
      "First element is = Ankit\n",
      "Last element is = Sanket\n"
     ]
    }
   ],
   "source": [
    "print(\"First element is =\", sr['a'])\n",
    "print(\"Last element is =\", sr['d'])"
   ]
  },
  {
   "cell_type": "code",
   "execution_count": 22,
   "id": "57a80462-e6dc-485d-92fb-5c7bd0e2b6bc",
   "metadata": {},
   "outputs": [
    {
     "name": "stdout",
     "output_type": "stream",
     "text": [
      "a      Ankit\n",
      "b    Krishna\n",
      "c     Gaurav\n",
      "d     Sanket\n",
      "dtype: object\n",
      "-------------\n",
      "b    Krishna\n",
      "c     Gaurav\n",
      "dtype: object\n"
     ]
    }
   ],
   "source": [
    "# Getting number of values using labels\n",
    "print(sr[::])\n",
    "print('-------------')\n",
    "print(sr['b':'c'])"
   ]
  },
  {
   "cell_type": "code",
   "execution_count": 26,
   "id": "4372d7ff-2c61-4e46-abac-f759abec645d",
   "metadata": {},
   "outputs": [
    {
     "name": "stdout",
     "output_type": "stream",
     "text": [
      "a     Ankit\n",
      "d    Sanket\n",
      "dtype: object\n"
     ]
    }
   ],
   "source": [
    "# get random elements\n",
    "print(sr[['a','d']])"
   ]
  },
  {
   "cell_type": "code",
   "execution_count": 28,
   "id": "dd769438-a2c3-4289-b4b9-9b12672bb8ec",
   "metadata": {},
   "outputs": [
    {
     "name": "stdout",
     "output_type": "stream",
     "text": [
      "0    100\n",
      "1    120\n",
      "2    140\n",
      "3    160\n",
      "4    180\n",
      "5    200\n",
      "dtype: int64\n",
      "------------------\n",
      "5    200\n",
      "4    180\n",
      "3    160\n",
      "2    140\n",
      "1    120\n",
      "0    100\n",
      "dtype: int64\n"
     ]
    }
   ],
   "source": [
    "import pandas as pd\n",
    "ser = pd.Series(range(100,220,20))\n",
    "print(ser)\n",
    "print('------------------')\n",
    "print(ser[::-1])  # reverse order"
   ]
  },
  {
   "cell_type": "code",
   "execution_count": 35,
   "id": "5bbf4d5c-4666-4dd5-afb4-e65c67cdf5d0",
   "metadata": {},
   "outputs": [
    {
     "name": "stdout",
     "output_type": "stream",
     "text": [
      "idx1    100\n",
      "idx2    120\n",
      "idx3    140\n",
      "idx4    160\n",
      "idx5    180\n",
      "idx6    200\n",
      "dtype: int64\n",
      "---------------\n",
      "idx1    100\n",
      "idx2    120\n",
      "idx3    140\n",
      "idx4    160\n",
      "dtype: int64\n",
      "---------------\n",
      "idx6    200\n",
      "idx5    180\n",
      "idx4    160\n",
      "idx3    140\n",
      "idx2    120\n",
      "dtype: int64\n"
     ]
    }
   ],
   "source": [
    "ser = pd.Series(range(100,220,20),index=['idx1','idx2','idx3','idx4','idx5','idx6'])\n",
    "print(ser)\n",
    "print('---------------')\n",
    "print(ser['idx1':'idx4'])\n",
    "print('---------------')\n",
    "print(ser['idx6':'idx2':-1])"
   ]
  },
  {
   "cell_type": "code",
   "execution_count": 37,
   "id": "46ff105e-1fc4-44b2-ba9d-5517bf1d8604",
   "metadata": {},
   "outputs": [
    {
     "name": "stdout",
     "output_type": "stream",
     "text": [
      "idx4    160\n",
      "idx2    120\n",
      "idx6    200\n",
      "dtype: int64\n"
     ]
    }
   ],
   "source": [
    "# get random elements --> 160,120,200\n",
    "print(ser[['idx4','idx2','idx6']])"
   ]
  },
  {
   "cell_type": "code",
   "execution_count": 40,
   "id": "9b1d025d-4654-4dc5-aae7-02f7ae7dd766",
   "metadata": {},
   "outputs": [
    {
     "name": "stdout",
     "output_type": "stream",
     "text": [
      "0        Virat\n",
      "1        Rohit\n",
      "2      Rishabh\n",
      "3    Shubhaman\n",
      "4        Sanju\n",
      "5      Bhumhra\n",
      "6        Shami\n",
      "dtype: object\n",
      "------------------\n",
      "0      Virat\n",
      "1        ABC\n",
      "2    Rishabh\n",
      "3        XYZ\n",
      "4      Sanju\n",
      "5    Bhumhra\n",
      "6      Shami\n",
      "dtype: object\n"
     ]
    }
   ],
   "source": [
    "# changing the elements of series object\n",
    "import pandas as pd\n",
    "names = pd.Series(['Virat','Rohit','Rishabh','Shubhaman','Sanju','Bhumhra','Shami'])\n",
    "print(names)\n",
    "print('------------------')\n",
    "names[3] = 'XYZ'\n",
    "names[1] = 'ABC'\n",
    "print(names)"
   ]
  },
  {
   "cell_type": "code",
   "execution_count": 43,
   "id": "7e378dd9-e0d8-4c9c-9c5e-abb51763190e",
   "metadata": {},
   "outputs": [
    {
     "name": "stdout",
     "output_type": "stream",
     "text": [
      "0        Virat\n",
      "1        Rohit\n",
      "2      Rishabh\n",
      "3    Shubhaman\n",
      "4        Sanju\n",
      "5      Bhumhra\n",
      "6        Shami\n",
      "dtype: object\n",
      "------------------\n",
      "0       Sachin\n",
      "1     Sehawagh\n",
      "2      Rishabh\n",
      "3    Shubhaman\n",
      "4        Sanju\n",
      "5      Bhumhra\n",
      "6        Shami\n",
      "dtype: object\n"
     ]
    }
   ],
   "source": [
    "# changing multiple elements\n",
    "names = pd.Series(['Virat','Rohit','Rishabh','Shubhaman','Sanju','Bhumhra','Shami'])\n",
    "print(names)\n",
    "print('------------------')\n",
    "names[:2] = ['Sachin','Sehawagh']\n",
    "print(names)"
   ]
  },
  {
   "cell_type": "code",
   "execution_count": 49,
   "id": "c928bdc7-b08e-4d60-b2bd-88e517c8d2f3",
   "metadata": {},
   "outputs": [
    {
     "name": "stdout",
     "output_type": "stream",
     "text": [
      "0        Virat\n",
      "1        Rohit\n",
      "2      Rishabh\n",
      "3    Shubhaman\n",
      "4        Sanju\n",
      "5      Bhumhra\n",
      "6        Shami\n",
      "dtype: object\n",
      "------------------\n",
      "0      Virat\n",
      "1        ABC\n",
      "2    Rishabh\n",
      "3        XYZ\n",
      "4      Sanju\n",
      "5    Bhumhra\n",
      "6        PQR\n",
      "dtype: object\n"
     ]
    }
   ],
   "source": [
    "# changing the random elements --> shubhaman,shami,Rohit\n",
    "names = pd.Series(['Virat','Rohit','Rishabh','Shubhaman','Sanju','Bhumhra','Shami'])\n",
    "print(names)\n",
    "print('------------------')\n",
    "\n",
    "# first get its position index\n",
    "names[[3,6,1]] = ['XYZ','PQR','ABC']\n",
    "print(names)"
   ]
  },
  {
   "cell_type": "code",
   "execution_count": 52,
   "id": "de8a10cb-ea32-4cf7-b6ff-58072136a6ac",
   "metadata": {},
   "outputs": [
    {
     "name": "stdout",
     "output_type": "stream",
     "text": [
      "a        Virat\n",
      "b        Rohit\n",
      "c      Rishabh\n",
      "d    Shubhaman\n",
      "e        Sanju\n",
      "f      Bhumhra\n",
      "g        Shami\n",
      "dtype: object\n",
      "------------------\n",
      "a          Virat\n",
      "b          Rohit\n",
      "c        Rishabh\n",
      "d       MS Dhoni\n",
      "e          Sanju\n",
      "f        Bhumhra\n",
      "g    yuzi chahal\n",
      "dtype: object\n"
     ]
    }
   ],
   "source": [
    "names = pd.Series(['Virat','Rohit','Rishabh','Shubhaman','Sanju','Bhumhra','Shami'],\n",
    "                   index=['a','b','c','d','e','f','g'])\n",
    "print(names)\n",
    "print('------------------')\n",
    "names['d'] = 'MS Dhoni'\n",
    "names['g'] = 'yuzi chahal'\n",
    "print(names)"
   ]
  },
  {
   "cell_type": "code",
   "execution_count": 56,
   "id": "67918763-a0fb-4d05-97e5-fce708abc6a8",
   "metadata": {},
   "outputs": [
    {
     "name": "stdout",
     "output_type": "stream",
     "text": [
      "a       Virat\n",
      "b       Rohit\n",
      "c     Rishabh\n",
      "d    MS Dhoni\n",
      "dtype: object\n",
      "-----------------\n",
      "g    yuzi chahal\n",
      "f        Bhumhra\n",
      "e          Sanju\n",
      "d       MS Dhoni\n",
      "c        Rishabh\n",
      "dtype: object\n"
     ]
    }
   ],
   "source": [
    "# get sub list values\n",
    "print(names['a':'d'])\n",
    "print('-----------------')\n",
    "print(names['g':'c':-1])"
   ]
  },
  {
   "cell_type": "code",
   "execution_count": 57,
   "id": "ad045bcd-8308-4024-8314-f6839f763cd6",
   "metadata": {},
   "outputs": [
    {
     "name": "stdout",
     "output_type": "stream",
     "text": [
      "f    Bhumhra\n",
      "e      Sanju\n",
      "c    Rishabh\n",
      "a      Virat\n",
      "dtype: object\n"
     ]
    }
   ],
   "source": [
    "# getting the random elements --> Bhumhra,sanju,rishabh,virat\n",
    "print(names[['f','e','c','a']])"
   ]
  },
  {
   "cell_type": "code",
   "execution_count": 58,
   "id": "afefa301-799f-41c7-8e76-8dd72d7aee23",
   "metadata": {},
   "outputs": [
    {
     "name": "stdout",
     "output_type": "stream",
     "text": [
      "a    Ankit\n",
      "b    Ankit\n",
      "c    Ankit\n",
      "d    Ankit\n",
      "e    Ankit\n",
      "f    Ankit\n",
      "g    Ankit\n",
      "dtype: object\n"
     ]
    }
   ],
   "source": [
    "# setting one common name to all series elements\n",
    "names[::] = 'Ankit'\n",
    "print(names)"
   ]
  },
  {
   "cell_type": "code",
   "execution_count": 60,
   "id": "44866a37-2d3f-4bf8-bd90-713501908d19",
   "metadata": {},
   "outputs": [
    {
     "name": "stdout",
     "output_type": "stream",
     "text": [
      "a    Kunal\n",
      "b    Ankit\n",
      "c    Kunal\n",
      "d    Ankit\n",
      "e    Kunal\n",
      "f    Ankit\n",
      "g    Kunal\n",
      "dtype: object\n"
     ]
    }
   ],
   "source": [
    "names[::2] = 'Kunal'\n",
    "print(names)"
   ]
  },
  {
   "cell_type": "code",
   "execution_count": 62,
   "id": "9f60570d-237e-4fa7-81d1-260f829d31ed",
   "metadata": {},
   "outputs": [
    {
     "name": "stdout",
     "output_type": "stream",
     "text": [
      "b    Ankit\n",
      "d    Ankit\n",
      "f    Ankit\n",
      "dtype: object\n",
      "-------------------\n",
      "a    Kunal\n",
      "c    Kunal\n",
      "e    Kunal\n",
      "g    Kunal\n",
      "dtype: object\n"
     ]
    }
   ],
   "source": [
    "print(names[1::2])\n",
    "print('-------------------')\n",
    "print(names[::2])"
   ]
  },
  {
   "cell_type": "code",
   "execution_count": null,
   "id": "8d0ee369-4dc5-45bf-b763-f9d132fe63e9",
   "metadata": {},
   "outputs": [],
   "source": []
  }
 ],
 "metadata": {
  "kernelspec": {
   "display_name": "Python 3 (ipykernel)",
   "language": "python",
   "name": "python3"
  },
  "language_info": {
   "codemirror_mode": {
    "name": "ipython",
    "version": 3
   },
   "file_extension": ".py",
   "mimetype": "text/x-python",
   "name": "python",
   "nbconvert_exporter": "python",
   "pygments_lexer": "ipython3",
   "version": "3.12.6"
  }
 },
 "nbformat": 4,
 "nbformat_minor": 5
}
