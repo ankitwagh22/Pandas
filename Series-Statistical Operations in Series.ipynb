{
 "cells": [
  {
   "cell_type": "markdown",
   "id": "d73a5886-861f-42e1-a8bf-8ef0a8c3ecfb",
   "metadata": {},
   "source": [
    "# Statistical Operations in Series"
   ]
  },
  {
   "cell_type": "code",
   "execution_count": 52,
   "id": "b7a6bfc4-738e-4ce5-8fd7-a818a286ba5c",
   "metadata": {},
   "outputs": [
    {
     "name": "stdout",
     "output_type": "stream",
     "text": [
      "{'Rohit': 40, 'Virat': 100, 'Rishabh': 60, 'Gill': 38, 'suryakumar': 87, 'Bhuhbhra': 30, 'Shami': 29} <class 'dict'>\n"
     ]
    }
   ],
   "source": [
    "import pandas as pd\n",
    "import numpy as np\n",
    "\n",
    "players = {'Rohit':40, 'Virat':100, 'Rishabh':60, 'Gill':38, 'suryakumar':87, 'Bhuhbhra': 30, 'Shami':29}\n",
    "print(players,type(players))"
   ]
  },
  {
   "cell_type": "code",
   "execution_count": 53,
   "id": "3bb14114-124a-419a-b4d4-2ff800feb28f",
   "metadata": {},
   "outputs": [
    {
     "name": "stdout",
     "output_type": "stream",
     "text": [
      "Rohit          40\n",
      "Virat         100\n",
      "Rishabh        60\n",
      "Gill           38\n",
      "suryakumar     87\n",
      "Bhuhbhra       30\n",
      "Shami          29\n",
      "dtype: int64 <class 'pandas.core.series.Series'>\n"
     ]
    }
   ],
   "source": [
    "# convert dict into series object\n",
    "players = pd.Series(players)\n",
    "print(players,type(players))"
   ]
  },
  {
   "cell_type": "code",
   "execution_count": 6,
   "id": "112b5da0-85c3-4953-a411-b69a828505cd",
   "metadata": {},
   "outputs": [],
   "source": [
    "# creating one new player data with null value\n",
    "players['Ishant'] = np.nan"
   ]
  },
  {
   "cell_type": "code",
   "execution_count": 7,
   "id": "449871ce-9f37-422e-8afb-17a78cbca4b5",
   "metadata": {},
   "outputs": [
    {
     "name": "stdout",
     "output_type": "stream",
     "text": [
      "Rohit          40.0\n",
      "Virat         100.0\n",
      "Rishabh        60.0\n",
      "Gill           38.0\n",
      "suryakumar     87.0\n",
      "Bhuhbhra       30.0\n",
      "Shami          29.0\n",
      "Ishant          NaN\n",
      "dtype: float64\n"
     ]
    }
   ],
   "source": [
    "print(players)"
   ]
  },
  {
   "cell_type": "code",
   "execution_count": 8,
   "id": "2af7633f-0d98-428f-9f4e-94a56d737a47",
   "metadata": {},
   "outputs": [
    {
     "name": "stdout",
     "output_type": "stream",
     "text": [
      "Total Runs by all players = 384.0\n"
     ]
    }
   ],
   "source": [
    "# find the Players who played some runs\n",
    "total = players.sum()\n",
    "print(\"Total Runs by all players =\", total)"
   ]
  },
  {
   "cell_type": "code",
   "execution_count": 11,
   "id": "94d032cf-0d13-47af-bde5-37f586005636",
   "metadata": {},
   "outputs": [
    {
     "name": "stdout",
     "output_type": "stream",
     "text": [
      "Total number of players in team = 8\n",
      "Number of players those have some Runs = 7\n",
      "Players doesn't make any Runs  1\n"
     ]
    }
   ],
   "source": [
    "# Find the Players who played some runs or not runs\n",
    "tot_player = players.size\n",
    "print(\"Total number of players in team =\", tot_player)\n",
    "runs_player = players.count()\n",
    "print(\"Number of players those have some Runs =\", runs_player)\n",
    "\n",
    "# getting those players haved doesn't any runs\n",
    "no_runs = tot_player-runs_player\n",
    "print(\"Players doesn't make any Runs \", no_runs)"
   ]
  },
  {
   "cell_type": "code",
   "execution_count": 23,
   "id": "8c7c9972-54fb-4027-9faa-fa91657192f5",
   "metadata": {},
   "outputs": [
    {
     "name": "stdout",
     "output_type": "stream",
     "text": [
      "HIghest Runs are = 100.0\n"
     ]
    }
   ],
   "source": [
    "# Find the Player who played Highest OR Max runs\n",
    "mx_run = players.max()\n",
    "print(\"HIghest Runs are =\", mx_run)"
   ]
  },
  {
   "cell_type": "code",
   "execution_count": 25,
   "id": "db607b4a-431a-47a5-a666-12c3da2c137c",
   "metadata": {},
   "outputs": [
    {
     "name": "stdout",
     "output_type": "stream",
     "text": [
      "1\n"
     ]
    }
   ],
   "source": [
    "print(players.isna().sum())"
   ]
  },
  {
   "cell_type": "code",
   "execution_count": 26,
   "id": "693c3cb6-d279-4236-903d-8f3671bc931f",
   "metadata": {},
   "outputs": [
    {
     "name": "stdout",
     "output_type": "stream",
     "text": [
      "1\n"
     ]
    }
   ],
   "source": [
    "print(players.isnull().sum())"
   ]
  },
  {
   "cell_type": "code",
   "execution_count": 27,
   "id": "6fe105d6-7db0-4147-9572-84cbdb1f50e6",
   "metadata": {},
   "outputs": [
    {
     "name": "stdout",
     "output_type": "stream",
     "text": [
      "Lowest Score is = 29.0\n"
     ]
    }
   ],
   "source": [
    "# Find the Player who played least OR Min runs\n",
    "mn = players.min()\n",
    "print(\"Lowest Score is =\", mn)"
   ]
  },
  {
   "cell_type": "code",
   "execution_count": 29,
   "id": "2eeba8b3-8d00-4e12-99bd-b90a5f3540a9",
   "metadata": {},
   "outputs": [
    {
     "name": "stdout",
     "output_type": "stream",
     "text": [
      "Average Runs of players is = 54.857\n"
     ]
    }
   ],
   "source": [
    "# Find the average runs played by all players\n",
    "mean = players.mean()\n",
    "print(\"Average Runs of players is =\", round(mean,3))"
   ]
  },
  {
   "cell_type": "code",
   "execution_count": 30,
   "id": "7f681346-ac14-4ee4-95d2-5fd39a3c4176",
   "metadata": {},
   "outputs": [
    {
     "name": "stdout",
     "output_type": "stream",
     "text": [
      "Median Runs of players is = 40.0\n"
     ]
    }
   ],
   "source": [
    "# Find the median runs played by all players \n",
    "median = players.median()\n",
    "print(\"Median Runs of players is =\", median)"
   ]
  },
  {
   "cell_type": "code",
   "execution_count": 31,
   "id": "46a60bf7-89a2-4fc9-ade6-53818495e1ef",
   "metadata": {},
   "outputs": [
    {
     "name": "stdout",
     "output_type": "stream",
     "text": [
      "Rohit          40.0\n",
      "Virat         100.0\n",
      "Rishabh        60.0\n",
      "Gill           38.0\n",
      "suryakumar     87.0\n",
      "Bhuhbhra       30.0\n",
      "Shami          29.0\n",
      "Ishant          NaN\n",
      "Dhoni          68.0\n",
      "dtype: float64\n"
     ]
    }
   ],
   "source": [
    "players['Dhoni'] = 68\n",
    "print(players)"
   ]
  },
  {
   "cell_type": "code",
   "execution_count": 32,
   "id": "02114439-dd62-4448-a6b4-d5ad6ccea752",
   "metadata": {},
   "outputs": [
    {
     "name": "stdout",
     "output_type": "stream",
     "text": [
      "Median Runs of players is = 50.0\n"
     ]
    }
   ],
   "source": [
    "# Find the median runs played by all players \n",
    "median = players.median()\n",
    "print(\"Median Runs of players is =\", median)"
   ]
  },
  {
   "cell_type": "code",
   "execution_count": 33,
   "id": "f50ec2e2-b4d6-4e57-937d-0ed29e9b9644",
   "metadata": {},
   "outputs": [
    {
     "name": "stdout",
     "output_type": "stream",
     "text": [
      "Variance Runs of players is = 720.0\n"
     ]
    }
   ],
   "source": [
    "# Find the variance  of runs played by all players\n",
    "var = players.var()\n",
    "print(\"Variance Runs of players is =\", var)"
   ]
  },
  {
   "cell_type": "code",
   "execution_count": 35,
   "id": "2aec225b-47d1-4fd7-b2a4-e353eecafc5d",
   "metadata": {},
   "outputs": [
    {
     "name": "stdout",
     "output_type": "stream",
     "text": [
      "Standard deviation Runs of players is = 26.833\n"
     ]
    }
   ],
   "source": [
    "# Find the standard deviation  of runs played by all players  \n",
    "std = players.std()\n",
    "print(\"Standard deviation Runs of players is =\", round(std,3))"
   ]
  },
  {
   "cell_type": "code",
   "execution_count": 37,
   "id": "549950fd-63b5-43ba-8ae2-a6cf018d62b4",
   "metadata": {},
   "outputs": [
    {
     "name": "stdout",
     "output_type": "stream",
     "text": [
      "Rohit          40.0\n",
      "Virat         100.0\n",
      "Rishabh        60.0\n",
      "Gill           38.0\n",
      "suryakumar     87.0\n",
      "Bhuhbhra       30.0\n",
      "Shami          29.0\n",
      "Ishant          NaN\n",
      "Dhoni          68.0\n",
      "dtype: float64\n",
      "---------------------------\n",
      "Summary of All players Data is =\n",
      "count      8.000000\n",
      "mean      56.500000\n",
      "std       26.832816\n",
      "min       29.000000\n",
      "25%       36.000000\n",
      "50%       50.000000\n",
      "75%       72.750000\n",
      "max      100.000000\n",
      "dtype: float64\n"
     ]
    }
   ],
   "source": [
    "# find summary  of statistics for each column  ---> describe() function\n",
    "des = players.describe()\n",
    "print(players)\n",
    "print('---------------------------')\n",
    "print(\"Summary of All players Data is =\")\n",
    "print(des)"
   ]
  },
  {
   "cell_type": "code",
   "execution_count": 44,
   "id": "5ec6c623-5f45-44e0-a766-51535c4c38ad",
   "metadata": {},
   "outputs": [
    {
     "name": "stdout",
     "output_type": "stream",
     "text": [
      "0      Ankit\n",
      "1    Krishna\n",
      "2       Ajay\n",
      "3     Sanket\n",
      "4     Gaurav\n",
      "5      Kunal\n",
      "6     Vedant\n",
      "7      Ankit\n",
      "dtype: object\n",
      "-----------------------\n",
      "Summary of data is =\n",
      "count         8\n",
      "unique        7\n",
      "top       Ankit\n",
      "freq          2\n",
      "dtype: object\n"
     ]
    }
   ],
   "source": [
    "names = pd.Series([\"Ankit\", \"Krishna\", \"Ajay\", \"Sanket\", \"Gaurav\", \"Kunal\", \"Vedant\", \"Ankit\"])\n",
    "print(names)\n",
    "print('-----------------------')\n",
    "print(\"Summary of data is =\")\n",
    "print(names.describe())"
   ]
  },
  {
   "cell_type": "code",
   "execution_count": 47,
   "id": "791a3333-b280-4230-969d-be886b51f0fd",
   "metadata": {},
   "outputs": [
    {
     "name": "stdout",
     "output_type": "stream",
     "text": [
      "0    10\n",
      "1    20\n",
      "2    30\n",
      "dtype: int64\n",
      "--------------\n",
      "0    11\n",
      "1    21\n",
      "2    31\n",
      "dtype: int64\n"
     ]
    }
   ],
   "source": [
    "# Performing the vector based operation\n",
    "import pandas as pd\n",
    "ser = pd.Series([10,20,30])\n",
    "print(ser)\n",
    "print('--------------')\n",
    "\n",
    "ser += 1\n",
    "print(ser)"
   ]
  },
  {
   "cell_type": "code",
   "execution_count": 51,
   "id": "da2ce0c6-945d-4701-945a-7a0bb6a56452",
   "metadata": {},
   "outputs": [
    {
     "name": "stdout",
     "output_type": "stream",
     "text": [
      "0    100\n",
      "1    200\n",
      "2    300\n",
      "dtype: int64\n",
      "---------------\n",
      "0    300\n",
      "1    600\n",
      "2    900\n",
      "dtype: int64\n"
     ]
    }
   ],
   "source": [
    "sr = pd.Series([100,200,300])\n",
    "print(sr)\n",
    "print('---------------')\n",
    "\n",
    "sr *= 3\n",
    "print(sr)"
   ]
  },
  {
   "cell_type": "code",
   "execution_count": 56,
   "id": "7c88b8b7-6f0a-45e3-b039-19fc9627cab7",
   "metadata": {},
   "outputs": [
    {
     "name": "stdout",
     "output_type": "stream",
     "text": [
      "Given Temperature\n",
      "Mon    22\n",
      "Tue    24\n",
      "Wed    27\n",
      "Thu    25\n",
      "Fri    23\n",
      "Sat    21\n",
      "Sun    26\n",
      "dtype: int64\n"
     ]
    }
   ],
   "source": [
    "# Problem statment on the Series\n",
    "import numpy as np\n",
    "import pandas as pd\n",
    "\n",
    "temp = pd.Series([22,24,27,25,23,21,26],index=['Mon','Tue','Wed','Thu','Fri','Sat','Sun'])\n",
    "print(\"Given Temperature\")\n",
    "print(temp)"
   ]
  },
  {
   "cell_type": "code",
   "execution_count": 58,
   "id": "b56d440a-56d7-4b85-83a9-92311787c4b3",
   "metadata": {},
   "outputs": [
    {
     "name": "stdout",
     "output_type": "stream",
     "text": [
      "All Day's Average Temperature is = 24.0\n"
     ]
    }
   ],
   "source": [
    "# find the average temperture\n",
    "avg_temp = temp.mean()\n",
    "print(\"All Day's Average Temperature is =\", avg_temp)"
   ]
  },
  {
   "cell_type": "code",
   "execution_count": 61,
   "id": "84e9a43f-c41c-445c-ab5e-81b8e2c0a7f1",
   "metadata": {},
   "outputs": [
    {
     "name": "stdout",
     "output_type": "stream",
     "text": [
      "Difference between average temperature and each day temperature =\n",
      " Mon   -2.0\n",
      "Tue    0.0\n",
      "Wed    3.0\n",
      "Thu    1.0\n",
      "Fri   -1.0\n",
      "Sat   -3.0\n",
      "Sun    2.0\n",
      "dtype: float64\n"
     ]
    }
   ],
   "source": [
    "# find the difference between average temp and each day temp\n",
    "diff_temp = temp - avg_temp\n",
    "print(\"Difference between average temperature and each day temperature =\\n\",diff_temp)"
   ]
  },
  {
   "cell_type": "code",
   "execution_count": 62,
   "id": "4de43611-98dc-4010-9faf-976f475152be",
   "metadata": {},
   "outputs": [
    {
     "name": "stdout",
     "output_type": "stream",
     "text": [
      "Now the temperature will be \n",
      "Mon    24\n",
      "Tue    26\n",
      "Wed    29\n",
      "Thu    27\n",
      "Fri    25\n",
      "Sat    23\n",
      "Sun    28\n",
      "dtype: int64\n"
     ]
    }
   ],
   "source": [
    "# The Temparature Increase  if each day was 2 degrees warmer\n",
    "temp += 2\n",
    "print(\"Now the temperature will be \")\n",
    "print(temp)"
   ]
  },
  {
   "cell_type": "code",
   "execution_count": 63,
   "id": "5ea7cec3-b813-4665-b5d7-3e8e6244d6b0",
   "metadata": {},
   "outputs": [
    {
     "name": "stdout",
     "output_type": "stream",
     "text": [
      "All Day's Average Temperature is = 26.0\n"
     ]
    }
   ],
   "source": [
    "# find the average temperture\n",
    "avg_temp = temp.mean()\n",
    "print(\"All Day's Average Temperature is =\", avg_temp)"
   ]
  },
  {
   "cell_type": "code",
   "execution_count": 64,
   "id": "bf1f0dc0-586c-40a5-8776-0bce56790e31",
   "metadata": {},
   "outputs": [
    {
     "name": "stdout",
     "output_type": "stream",
     "text": [
      "Difference between average temperature and each day temperature =\n",
      " Mon   -2.0\n",
      "Tue    0.0\n",
      "Wed    3.0\n",
      "Thu    1.0\n",
      "Fri   -1.0\n",
      "Sat   -3.0\n",
      "Sun    2.0\n",
      "dtype: float64\n"
     ]
    }
   ],
   "source": [
    "# find the difference between average temp and each day temp\n",
    "diff_temp = temp - avg_temp\n",
    "print(\"Difference between average temperature and each day temperature =\\n\",diff_temp)"
   ]
  },
  {
   "cell_type": "code",
   "execution_count": null,
   "id": "f1c6d9c9-9768-401a-97c6-775be4889f61",
   "metadata": {},
   "outputs": [],
   "source": []
  }
 ],
 "metadata": {
  "kernelspec": {
   "display_name": "Python 3 (ipykernel)",
   "language": "python",
   "name": "python3"
  },
  "language_info": {
   "codemirror_mode": {
    "name": "ipython",
    "version": 3
   },
   "file_extension": ".py",
   "mimetype": "text/x-python",
   "name": "python",
   "nbconvert_exporter": "python",
   "pygments_lexer": "ipython3",
   "version": "3.12.6"
  }
 },
 "nbformat": 4,
 "nbformat_minor": 5
}
