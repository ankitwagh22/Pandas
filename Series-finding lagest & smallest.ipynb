{
 "cells": [
  {
   "cell_type": "markdown",
   "id": "3aec4c63-1580-462d-b8fa-b5f5816a774f",
   "metadata": {},
   "source": [
    "# Finding the Largest and Smallest values in the Series object"
   ]
  },
  {
   "cell_type": "code",
   "execution_count": 2,
   "id": "0891e44e-b767-4129-81f3-f32795730c01",
   "metadata": {},
   "outputs": [
    {
     "name": "stdout",
     "output_type": "stream",
     "text": [
      "Values of the series=\n",
      "0     10\n",
      "1     20\n",
      "2     10\n",
      "3     20\n",
      "4     30\n",
      "5     15\n",
      "6     10\n",
      "7     20\n",
      "8     15\n",
      "9     17\n",
      "10    15\n",
      "11    34\n",
      "12    25\n",
      "13    12\n",
      "dtype: int64\n"
     ]
    }
   ],
   "source": [
    "import pandas as pd\n",
    "import numpy as np\n",
    "\n",
    "sr = pd.Series([10,20,10,20,30,15,10,20,15,17,15,34,25,12])\n",
    "print(\"Values of the series=\")\n",
    "print(sr)"
   ]
  },
  {
   "cell_type": "code",
   "execution_count": 6,
   "id": "80b378ce-535a-4e90-999d-bb79536f7ce8",
   "metadata": {},
   "outputs": [
    {
     "data": {
      "text/plain": [
       "11    34\n",
       "dtype: int64"
      ]
     },
     "execution_count": 6,
     "metadata": {},
     "output_type": "execute_result"
    }
   ],
   "source": [
    "# find max number Way 1 \n",
    "sr.nlargest(1)"
   ]
  },
  {
   "cell_type": "code",
   "execution_count": 22,
   "id": "95b2e780-edf7-47b2-ab40-bbcd2e3ad095",
   "metadata": {},
   "outputs": [
    {
     "name": "stdout",
     "output_type": "stream",
     "text": [
      "11    34\n",
      "dtype: int64\n"
     ]
    }
   ],
   "source": [
    "# way - 2\n",
    "lar = sr.nlargest(2).head(1)\n",
    "print(lar)"
   ]
  },
  {
   "cell_type": "code",
   "execution_count": 28,
   "id": "c6f7086d-d6eb-4f92-a462-aae541e12989",
   "metadata": {},
   "outputs": [
    {
     "data": {
      "text/plain": [
       "11    34\n",
       "dtype: int64"
      ]
     },
     "execution_count": 28,
     "metadata": {},
     "output_type": "execute_result"
    }
   ],
   "source": [
    "# way - 3\n",
    "sr.nlargest(1).tail(1)"
   ]
  },
  {
   "cell_type": "code",
   "execution_count": 11,
   "id": "3edeca05-2e30-4604-b80b-9ef628ec0ac6",
   "metadata": {},
   "outputs": [
    {
     "data": {
      "text/plain": [
       "11    34\n",
       "4     30\n",
       "12    25\n",
       "1     20\n",
       "dtype: int64"
      ]
     },
     "execution_count": 11,
     "metadata": {},
     "output_type": "execute_result"
    }
   ],
   "source": [
    "# find first 4 largest number\n",
    "sr.nlargest(4)"
   ]
  },
  {
   "cell_type": "code",
   "execution_count": 12,
   "id": "235720d8-f12f-4b17-962e-acef41331c25",
   "metadata": {},
   "outputs": [
    {
     "data": {
      "text/plain": [
       "11    34\n",
       "4     30\n",
       "12    25\n",
       "1     20\n",
       "3     20\n",
       "dtype: int64"
      ]
     },
     "execution_count": 12,
     "metadata": {},
     "output_type": "execute_result"
    }
   ],
   "source": [
    "# find largest number by deafult\n",
    "sr.nlargest()"
   ]
  },
  {
   "cell_type": "code",
   "execution_count": 13,
   "id": "3f583806-2437-4e74-91fe-423bf0217227",
   "metadata": {},
   "outputs": [
    {
     "name": "stdout",
     "output_type": "stream",
     "text": [
      "Values of the series \n",
      "0     10\n",
      "1     20\n",
      "2     10\n",
      "3     20\n",
      "4     30\n",
      "5     15\n",
      "6     10\n",
      "7     20\n",
      "8     15\n",
      "9     17\n",
      "10    15\n",
      "11    34\n",
      "12    25\n",
      "13    12\n",
      "dtype: int64\n"
     ]
    }
   ],
   "source": [
    "print(\"Values of the series \")\n",
    "print(sr)"
   ]
  },
  {
   "cell_type": "code",
   "execution_count": 15,
   "id": "1ed6e1ac-c637-4814-959f-38b89302764a",
   "metadata": {},
   "outputs": [
    {
     "data": {
      "text/plain": [
       "0    10\n",
       "dtype: int64"
      ]
     },
     "execution_count": 15,
     "metadata": {},
     "output_type": "execute_result"
    }
   ],
   "source": [
    "# find the smallest number from series -- way 1\n",
    "sr.nsmallest(1)"
   ]
  },
  {
   "cell_type": "code",
   "execution_count": 19,
   "id": "9a97089e-46fe-483c-aac1-27ace39c2b56",
   "metadata": {},
   "outputs": [
    {
     "name": "stdout",
     "output_type": "stream",
     "text": [
      "10\n"
     ]
    }
   ],
   "source": [
    "# way - 2\n",
    "sm = sr.nsmallest(2)[0]\n",
    "print(sm)"
   ]
  },
  {
   "cell_type": "code",
   "execution_count": 20,
   "id": "887a05e0-dade-4cb3-bdf0-264ee95d39ae",
   "metadata": {},
   "outputs": [
    {
     "name": "stdout",
     "output_type": "stream",
     "text": [
      "0    10\n",
      "dtype: int64\n"
     ]
    }
   ],
   "source": [
    "# way - 3\n",
    "sm = sr.nsmallest(2).head(1)\n",
    "print(sm)"
   ]
  },
  {
   "cell_type": "code",
   "execution_count": 16,
   "id": "1d10fe12-4d5a-4c64-b982-cea4a81e3fd7",
   "metadata": {},
   "outputs": [
    {
     "data": {
      "text/plain": [
       "0    10\n",
       "2    10\n",
       "6    10\n",
       "dtype: int64"
      ]
     },
     "execution_count": 16,
     "metadata": {},
     "output_type": "execute_result"
    }
   ],
   "source": [
    "# find first 3 smallest number \n",
    "sr.nsmallest(3)"
   ]
  },
  {
   "cell_type": "code",
   "execution_count": 17,
   "id": "90cb6dd5-53e7-49c8-80d0-e64bd11b4156",
   "metadata": {},
   "outputs": [
    {
     "data": {
      "text/plain": [
       "0     10\n",
       "2     10\n",
       "6     10\n",
       "13    12\n",
       "5     15\n",
       "dtype: int64"
      ]
     },
     "execution_count": 17,
     "metadata": {},
     "output_type": "execute_result"
    }
   ],
   "source": [
    "# default value of function is 5\n",
    "sr.nsmallest()   # it will give first 5 smallest values"
   ]
  },
  {
   "cell_type": "code",
   "execution_count": 26,
   "id": "3eee90a0-9df1-45f5-ac2f-323978ec7b43",
   "metadata": {},
   "outputs": [
    {
     "data": {
      "text/plain": [
       "13    12\n",
       "5     15\n",
       "dtype: int64"
      ]
     },
     "execution_count": 26,
     "metadata": {},
     "output_type": "execute_result"
    }
   ],
   "source": [
    "sr.nsmallest().tail(1)"
   ]
  },
  {
   "cell_type": "code",
   "execution_count": null,
   "id": "8b7eeeb1-cab8-45a6-942a-9e67b0c22556",
   "metadata": {},
   "outputs": [],
   "source": []
  }
 ],
 "metadata": {
  "kernelspec": {
   "display_name": "Python 3 (ipykernel)",
   "language": "python",
   "name": "python3"
  },
  "language_info": {
   "codemirror_mode": {
    "name": "ipython",
    "version": 3
   },
   "file_extension": ".py",
   "mimetype": "text/x-python",
   "name": "python",
   "nbconvert_exporter": "python",
   "pygments_lexer": "ipython3",
   "version": "3.12.6"
  }
 },
 "nbformat": 4,
 "nbformat_minor": 5
}
