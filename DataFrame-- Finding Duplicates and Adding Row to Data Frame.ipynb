{
 "cells": [
  {
   "cell_type": "markdown",
   "id": "ebbdb65a-3baa-4c34-9380-eb1a4a42841a",
   "metadata": {},
   "source": [
    "# Finding Duplicates and Adding Row to Data Frame"
   ]
  },
  {
   "cell_type": "code",
   "execution_count": 1,
   "id": "f733869c-07cc-41a8-ae1f-6789bd86d6e6",
   "metadata": {},
   "outputs": [
    {
     "name": "stdout",
     "output_type": "stream",
     "text": [
      "    htno     name  telugu  english  hindi  maths  science  social\n",
      "0    100   Ramesh      50       60     66     98       66      55\n",
      "1    101   Rajesh      45       67     34     67       66      78\n",
      "2    102   Rossum      56       88     56     99       44      77\n",
      "3    103     Raji      56       78     34     56       88      55\n",
      "4    104   Kalyan      51       63     62     93       67      51\n",
      "5    105  Karthik      48       62     39     68       65      88\n",
      "6    106   Kambli      53       81     59     92       48      73\n",
      "7    107  Praveen      46       88     74     86       78      45\n",
      "8    108   Ganesh      53       62     76     88       76      35\n",
      "9    109     Nags      55       77     44     77       86      58\n",
      "10   110    Biswa      66       48     86     95       48      47\n",
      "11   111   Ritchi      66       68     64     76       98      75\n",
      "12   104   Kalyan      51       63     62     93       67      51\n",
      "13   112  shareef      50       63     99     90       76      67\n",
      "14   113     sonu      60       89     98     87       77      68\n",
      "15   114   Rajesh      45       67     77     55       66      46\n",
      "16   115   Rakesh      67       78     88     78       67      49\n"
     ]
    }
   ],
   "source": [
    "import pandas as pd\n",
    "df = pd.read_csv(\"C:\\\\Users\\\\SHREE\\\\Desktop\\\\Z-data_samples\\\\studentmarks1.csv\")\n",
    "print(df)"
   ]
  },
  {
   "cell_type": "code",
   "execution_count": 2,
   "id": "b088f16b-0896-4227-be9f-c19ff4842949",
   "metadata": {},
   "outputs": [
    {
     "data": {
      "text/plain": [
       "0     False\n",
       "1     False\n",
       "2     False\n",
       "3     False\n",
       "4     False\n",
       "5     False\n",
       "6     False\n",
       "7     False\n",
       "8     False\n",
       "9     False\n",
       "10    False\n",
       "11    False\n",
       "12     True\n",
       "13    False\n",
       "14    False\n",
       "15    False\n",
       "16    False\n",
       "dtype: bool"
      ]
     },
     "execution_count": 2,
     "metadata": {},
     "output_type": "execute_result"
    }
   ],
   "source": [
    "# Find the Duplicate entries by using duplicated()\n",
    "# Syntax:   DataFrameObj.duplicated()---------->Gives Boolean\n",
    "df.duplicated()"
   ]
  },
  {
   "cell_type": "code",
   "execution_count": 3,
   "id": "9896aa0e-3688-447d-80ab-45de9f6706a9",
   "metadata": {},
   "outputs": [
    {
     "data": {
      "text/plain": [
       "np.int64(1)"
      ]
     },
     "execution_count": 3,
     "metadata": {},
     "output_type": "execute_result"
    }
   ],
   "source": [
    "# to find the sum of duplicates, we use sum()\n",
    "df.duplicated().sum()"
   ]
  },
  {
   "cell_type": "code",
   "execution_count": 4,
   "id": "fa740b04-c671-4346-aa39-29d8720d2444",
   "metadata": {},
   "outputs": [
    {
     "data": {
      "text/html": [
       "<div>\n",
       "<style scoped>\n",
       "    .dataframe tbody tr th:only-of-type {\n",
       "        vertical-align: middle;\n",
       "    }\n",
       "\n",
       "    .dataframe tbody tr th {\n",
       "        vertical-align: top;\n",
       "    }\n",
       "\n",
       "    .dataframe thead th {\n",
       "        text-align: right;\n",
       "    }\n",
       "</style>\n",
       "<table border=\"1\" class=\"dataframe\">\n",
       "  <thead>\n",
       "    <tr style=\"text-align: right;\">\n",
       "      <th></th>\n",
       "      <th>htno</th>\n",
       "      <th>name</th>\n",
       "      <th>telugu</th>\n",
       "      <th>english</th>\n",
       "      <th>hindi</th>\n",
       "      <th>maths</th>\n",
       "      <th>science</th>\n",
       "      <th>social</th>\n",
       "    </tr>\n",
       "  </thead>\n",
       "  <tbody>\n",
       "    <tr>\n",
       "      <th>12</th>\n",
       "      <td>104</td>\n",
       "      <td>Kalyan</td>\n",
       "      <td>51</td>\n",
       "      <td>63</td>\n",
       "      <td>62</td>\n",
       "      <td>93</td>\n",
       "      <td>67</td>\n",
       "      <td>51</td>\n",
       "    </tr>\n",
       "  </tbody>\n",
       "</table>\n",
       "</div>"
      ],
      "text/plain": [
       "    htno    name  telugu  english  hindi  maths  science  social\n",
       "12   104  Kalyan      51       63     62     93       67      51"
      ]
     },
     "execution_count": 4,
     "metadata": {},
     "output_type": "execute_result"
    }
   ],
   "source": [
    "# to find the duplicated Entry, we use the following\n",
    "df[df.duplicated()]"
   ]
  },
  {
   "cell_type": "code",
   "execution_count": 5,
   "id": "f22d6b1e-53c5-4094-8d8d-c90e1e7a4067",
   "metadata": {},
   "outputs": [
    {
     "data": {
      "text/html": [
       "<div>\n",
       "<style scoped>\n",
       "    .dataframe tbody tr th:only-of-type {\n",
       "        vertical-align: middle;\n",
       "    }\n",
       "\n",
       "    .dataframe tbody tr th {\n",
       "        vertical-align: top;\n",
       "    }\n",
       "\n",
       "    .dataframe thead th {\n",
       "        text-align: right;\n",
       "    }\n",
       "</style>\n",
       "<table border=\"1\" class=\"dataframe\">\n",
       "  <thead>\n",
       "    <tr style=\"text-align: right;\">\n",
       "      <th></th>\n",
       "      <th>htno</th>\n",
       "      <th>name</th>\n",
       "      <th>telugu</th>\n",
       "      <th>english</th>\n",
       "      <th>hindi</th>\n",
       "      <th>maths</th>\n",
       "      <th>science</th>\n",
       "      <th>social</th>\n",
       "    </tr>\n",
       "  </thead>\n",
       "  <tbody>\n",
       "    <tr>\n",
       "      <th>0</th>\n",
       "      <td>100</td>\n",
       "      <td>Ramesh</td>\n",
       "      <td>50</td>\n",
       "      <td>60</td>\n",
       "      <td>66</td>\n",
       "      <td>98</td>\n",
       "      <td>66</td>\n",
       "      <td>55</td>\n",
       "    </tr>\n",
       "    <tr>\n",
       "      <th>1</th>\n",
       "      <td>101</td>\n",
       "      <td>Rajesh</td>\n",
       "      <td>45</td>\n",
       "      <td>67</td>\n",
       "      <td>34</td>\n",
       "      <td>67</td>\n",
       "      <td>66</td>\n",
       "      <td>78</td>\n",
       "    </tr>\n",
       "    <tr>\n",
       "      <th>2</th>\n",
       "      <td>102</td>\n",
       "      <td>Rossum</td>\n",
       "      <td>56</td>\n",
       "      <td>88</td>\n",
       "      <td>56</td>\n",
       "      <td>99</td>\n",
       "      <td>44</td>\n",
       "      <td>77</td>\n",
       "    </tr>\n",
       "    <tr>\n",
       "      <th>3</th>\n",
       "      <td>103</td>\n",
       "      <td>Raji</td>\n",
       "      <td>56</td>\n",
       "      <td>78</td>\n",
       "      <td>34</td>\n",
       "      <td>56</td>\n",
       "      <td>88</td>\n",
       "      <td>55</td>\n",
       "    </tr>\n",
       "    <tr>\n",
       "      <th>4</th>\n",
       "      <td>104</td>\n",
       "      <td>Kalyan</td>\n",
       "      <td>51</td>\n",
       "      <td>63</td>\n",
       "      <td>62</td>\n",
       "      <td>93</td>\n",
       "      <td>67</td>\n",
       "      <td>51</td>\n",
       "    </tr>\n",
       "    <tr>\n",
       "      <th>5</th>\n",
       "      <td>105</td>\n",
       "      <td>Karthik</td>\n",
       "      <td>48</td>\n",
       "      <td>62</td>\n",
       "      <td>39</td>\n",
       "      <td>68</td>\n",
       "      <td>65</td>\n",
       "      <td>88</td>\n",
       "    </tr>\n",
       "    <tr>\n",
       "      <th>6</th>\n",
       "      <td>106</td>\n",
       "      <td>Kambli</td>\n",
       "      <td>53</td>\n",
       "      <td>81</td>\n",
       "      <td>59</td>\n",
       "      <td>92</td>\n",
       "      <td>48</td>\n",
       "      <td>73</td>\n",
       "    </tr>\n",
       "    <tr>\n",
       "      <th>7</th>\n",
       "      <td>107</td>\n",
       "      <td>Praveen</td>\n",
       "      <td>46</td>\n",
       "      <td>88</td>\n",
       "      <td>74</td>\n",
       "      <td>86</td>\n",
       "      <td>78</td>\n",
       "      <td>45</td>\n",
       "    </tr>\n",
       "    <tr>\n",
       "      <th>8</th>\n",
       "      <td>108</td>\n",
       "      <td>Ganesh</td>\n",
       "      <td>53</td>\n",
       "      <td>62</td>\n",
       "      <td>76</td>\n",
       "      <td>88</td>\n",
       "      <td>76</td>\n",
       "      <td>35</td>\n",
       "    </tr>\n",
       "    <tr>\n",
       "      <th>9</th>\n",
       "      <td>109</td>\n",
       "      <td>Nags</td>\n",
       "      <td>55</td>\n",
       "      <td>77</td>\n",
       "      <td>44</td>\n",
       "      <td>77</td>\n",
       "      <td>86</td>\n",
       "      <td>58</td>\n",
       "    </tr>\n",
       "    <tr>\n",
       "      <th>10</th>\n",
       "      <td>110</td>\n",
       "      <td>Biswa</td>\n",
       "      <td>66</td>\n",
       "      <td>48</td>\n",
       "      <td>86</td>\n",
       "      <td>95</td>\n",
       "      <td>48</td>\n",
       "      <td>47</td>\n",
       "    </tr>\n",
       "    <tr>\n",
       "      <th>11</th>\n",
       "      <td>111</td>\n",
       "      <td>Ritchi</td>\n",
       "      <td>66</td>\n",
       "      <td>68</td>\n",
       "      <td>64</td>\n",
       "      <td>76</td>\n",
       "      <td>98</td>\n",
       "      <td>75</td>\n",
       "    </tr>\n",
       "    <tr>\n",
       "      <th>13</th>\n",
       "      <td>112</td>\n",
       "      <td>shareef</td>\n",
       "      <td>50</td>\n",
       "      <td>63</td>\n",
       "      <td>99</td>\n",
       "      <td>90</td>\n",
       "      <td>76</td>\n",
       "      <td>67</td>\n",
       "    </tr>\n",
       "    <tr>\n",
       "      <th>14</th>\n",
       "      <td>113</td>\n",
       "      <td>sonu</td>\n",
       "      <td>60</td>\n",
       "      <td>89</td>\n",
       "      <td>98</td>\n",
       "      <td>87</td>\n",
       "      <td>77</td>\n",
       "      <td>68</td>\n",
       "    </tr>\n",
       "    <tr>\n",
       "      <th>15</th>\n",
       "      <td>114</td>\n",
       "      <td>Rajesh</td>\n",
       "      <td>45</td>\n",
       "      <td>67</td>\n",
       "      <td>77</td>\n",
       "      <td>55</td>\n",
       "      <td>66</td>\n",
       "      <td>46</td>\n",
       "    </tr>\n",
       "    <tr>\n",
       "      <th>16</th>\n",
       "      <td>115</td>\n",
       "      <td>Rakesh</td>\n",
       "      <td>67</td>\n",
       "      <td>78</td>\n",
       "      <td>88</td>\n",
       "      <td>78</td>\n",
       "      <td>67</td>\n",
       "      <td>49</td>\n",
       "    </tr>\n",
       "  </tbody>\n",
       "</table>\n",
       "</div>"
      ],
      "text/plain": [
       "    htno     name  telugu  english  hindi  maths  science  social\n",
       "0    100   Ramesh      50       60     66     98       66      55\n",
       "1    101   Rajesh      45       67     34     67       66      78\n",
       "2    102   Rossum      56       88     56     99       44      77\n",
       "3    103     Raji      56       78     34     56       88      55\n",
       "4    104   Kalyan      51       63     62     93       67      51\n",
       "5    105  Karthik      48       62     39     68       65      88\n",
       "6    106   Kambli      53       81     59     92       48      73\n",
       "7    107  Praveen      46       88     74     86       78      45\n",
       "8    108   Ganesh      53       62     76     88       76      35\n",
       "9    109     Nags      55       77     44     77       86      58\n",
       "10   110    Biswa      66       48     86     95       48      47\n",
       "11   111   Ritchi      66       68     64     76       98      75\n",
       "13   112  shareef      50       63     99     90       76      67\n",
       "14   113     sonu      60       89     98     87       77      68\n",
       "15   114   Rajesh      45       67     77     55       66      46\n",
       "16   115   Rakesh      67       78     88     78       67      49"
      ]
     },
     "execution_count": 5,
     "metadata": {},
     "output_type": "execute_result"
    }
   ],
   "source": [
    "# Remove the duplicate Entry by using drop_duplicates(inplace=True)\n",
    "df.drop_duplicates()"
   ]
  },
  {
   "cell_type": "code",
   "execution_count": 6,
   "id": "46bdcbd3-546a-4b0e-866a-2415f985a0f9",
   "metadata": {},
   "outputs": [
    {
     "name": "stdout",
     "output_type": "stream",
     "text": [
      "    htno     name  telugu  english  hindi  maths  science  social\n",
      "0    100   Ramesh      50       60     66     98       66      55\n",
      "1    101   Rajesh      45       67     34     67       66      78\n",
      "2    102   Rossum      56       88     56     99       44      77\n",
      "3    103     Raji      56       78     34     56       88      55\n",
      "4    104   Kalyan      51       63     62     93       67      51\n",
      "5    105  Karthik      48       62     39     68       65      88\n",
      "6    106   Kambli      53       81     59     92       48      73\n",
      "7    107  Praveen      46       88     74     86       78      45\n",
      "8    108   Ganesh      53       62     76     88       76      35\n",
      "9    109     Nags      55       77     44     77       86      58\n",
      "10   110    Biswa      66       48     86     95       48      47\n",
      "11   111   Ritchi      66       68     64     76       98      75\n",
      "12   104   Kalyan      51       63     62     93       67      51\n",
      "13   112  shareef      50       63     99     90       76      67\n",
      "14   113     sonu      60       89     98     87       77      68\n",
      "15   114   Rajesh      45       67     77     55       66      46\n",
      "16   115   Rakesh      67       78     88     78       67      49\n"
     ]
    }
   ],
   "source": [
    "print(df)"
   ]
  },
  {
   "cell_type": "code",
   "execution_count": 8,
   "id": "712b20a6-2828-4ce1-8b21-31f768f0c89e",
   "metadata": {},
   "outputs": [],
   "source": [
    "df.drop_duplicates(inplace=True)"
   ]
  },
  {
   "cell_type": "code",
   "execution_count": 9,
   "id": "f2d567d7-3ab6-47f2-92a4-4fd092ace667",
   "metadata": {},
   "outputs": [
    {
     "name": "stdout",
     "output_type": "stream",
     "text": [
      "    htno     name  telugu  english  hindi  maths  science  social\n",
      "0    100   Ramesh      50       60     66     98       66      55\n",
      "1    101   Rajesh      45       67     34     67       66      78\n",
      "2    102   Rossum      56       88     56     99       44      77\n",
      "3    103     Raji      56       78     34     56       88      55\n",
      "4    104   Kalyan      51       63     62     93       67      51\n",
      "5    105  Karthik      48       62     39     68       65      88\n",
      "6    106   Kambli      53       81     59     92       48      73\n",
      "7    107  Praveen      46       88     74     86       78      45\n",
      "8    108   Ganesh      53       62     76     88       76      35\n",
      "9    109     Nags      55       77     44     77       86      58\n",
      "10   110    Biswa      66       48     86     95       48      47\n",
      "11   111   Ritchi      66       68     64     76       98      75\n",
      "13   112  shareef      50       63     99     90       76      67\n",
      "14   113     sonu      60       89     98     87       77      68\n",
      "15   114   Rajesh      45       67     77     55       66      46\n",
      "16   115   Rakesh      67       78     88     78       67      49\n"
     ]
    }
   ],
   "source": [
    "print(df)"
   ]
  },
  {
   "cell_type": "code",
   "execution_count": 10,
   "id": "3579e37b-c755-4d66-b583-11134a1a0d2d",
   "metadata": {},
   "outputs": [
    {
     "data": {
      "text/plain": [
       "np.int64(0)"
      ]
     },
     "execution_count": 10,
     "metadata": {},
     "output_type": "execute_result"
    }
   ],
   "source": [
    "df.duplicated().sum()"
   ]
  },
  {
   "cell_type": "code",
   "execution_count": 13,
   "id": "e42dac9d-8cdb-4755-90fd-07cd208d4b3a",
   "metadata": {},
   "outputs": [
    {
     "name": "stdout",
     "output_type": "stream",
     "text": [
      "Number of Rows in Dataframe = 16\n"
     ]
    }
   ],
   "source": [
    "# Adding new Row to Data Frame\n",
    "# dataframeobj.loc[len(DataFrame)+1]=[Val1,Val2....Val-n]\n",
    "print(\"Number of Rows in Dataframe =\", len(df))"
   ]
  },
  {
   "cell_type": "code",
   "execution_count": 14,
   "id": "665026b0-fd26-4271-8a7f-c43309f45a41",
   "metadata": {},
   "outputs": [],
   "source": [
    "df.loc[len(df)+1] = [116,\"Ankit\",70,80,78,98,78,80]"
   ]
  },
  {
   "cell_type": "code",
   "execution_count": 15,
   "id": "10e1ac43-e315-4ad1-a58b-79fabdb92e46",
   "metadata": {},
   "outputs": [
    {
     "name": "stdout",
     "output_type": "stream",
     "text": [
      "    htno     name  telugu  english  hindi  maths  science  social\n",
      "0    100   Ramesh      50       60     66     98       66      55\n",
      "1    101   Rajesh      45       67     34     67       66      78\n",
      "2    102   Rossum      56       88     56     99       44      77\n",
      "3    103     Raji      56       78     34     56       88      55\n",
      "4    104   Kalyan      51       63     62     93       67      51\n",
      "5    105  Karthik      48       62     39     68       65      88\n",
      "6    106   Kambli      53       81     59     92       48      73\n",
      "7    107  Praveen      46       88     74     86       78      45\n",
      "8    108   Ganesh      53       62     76     88       76      35\n",
      "9    109     Nags      55       77     44     77       86      58\n",
      "10   110    Biswa      66       48     86     95       48      47\n",
      "11   111   Ritchi      66       68     64     76       98      75\n",
      "13   112  shareef      50       63     99     90       76      67\n",
      "14   113     sonu      60       89     98     87       77      68\n",
      "15   114   Rajesh      45       67     77     55       66      46\n",
      "16   115   Rakesh      67       78     88     78       67      49\n",
      "17   116    Ankit      70       80     78     98       78      80\n"
     ]
    }
   ],
   "source": [
    "print(df)"
   ]
  },
  {
   "cell_type": "code",
   "execution_count": 16,
   "id": "6435e684-b205-402f-b1a0-d923c0df810f",
   "metadata": {},
   "outputs": [
    {
     "name": "stdout",
     "output_type": "stream",
     "text": [
      "Now the number of Rows is = 17\n"
     ]
    }
   ],
   "source": [
    "print(\"Now the number of Rows is =\", len(df))"
   ]
  },
  {
   "cell_type": "code",
   "execution_count": 17,
   "id": "efdcdfb5-7e14-4c01-89d5-19edf23e9927",
   "metadata": {},
   "outputs": [],
   "source": [
    "# Now adding one more Row\n",
    "df.loc[len(df)+1] = [117,\"Kunal\",73,89,78,91,85,90]"
   ]
  },
  {
   "cell_type": "code",
   "execution_count": 18,
   "id": "677082f1-b5cd-4f53-bcca-b8037b52e47a",
   "metadata": {},
   "outputs": [
    {
     "name": "stdout",
     "output_type": "stream",
     "text": [
      "    htno     name  telugu  english  hindi  maths  science  social\n",
      "0    100   Ramesh      50       60     66     98       66      55\n",
      "1    101   Rajesh      45       67     34     67       66      78\n",
      "2    102   Rossum      56       88     56     99       44      77\n",
      "3    103     Raji      56       78     34     56       88      55\n",
      "4    104   Kalyan      51       63     62     93       67      51\n",
      "5    105  Karthik      48       62     39     68       65      88\n",
      "6    106   Kambli      53       81     59     92       48      73\n",
      "7    107  Praveen      46       88     74     86       78      45\n",
      "8    108   Ganesh      53       62     76     88       76      35\n",
      "9    109     Nags      55       77     44     77       86      58\n",
      "10   110    Biswa      66       48     86     95       48      47\n",
      "11   111   Ritchi      66       68     64     76       98      75\n",
      "13   112  shareef      50       63     99     90       76      67\n",
      "14   113     sonu      60       89     98     87       77      68\n",
      "15   114   Rajesh      45       67     77     55       66      46\n",
      "16   115   Rakesh      67       78     88     78       67      49\n",
      "17   116    Ankit      70       80     78     98       78      80\n",
      "18   117    Kunal      73       89     78     91       85      90\n"
     ]
    }
   ],
   "source": [
    "print(df)"
   ]
  },
  {
   "cell_type": "code",
   "execution_count": 19,
   "id": "c9f91959-a50b-47c5-b8b7-09c9554c0bd4",
   "metadata": {},
   "outputs": [
    {
     "name": "stdout",
     "output_type": "stream",
     "text": [
      "18\n"
     ]
    }
   ],
   "source": [
    "print(len(df))"
   ]
  },
  {
   "cell_type": "code",
   "execution_count": null,
   "id": "27468efb-0971-4426-8809-f619fa1fbc2f",
   "metadata": {},
   "outputs": [],
   "source": []
  }
 ],
 "metadata": {
  "kernelspec": {
   "display_name": "Python 3 (ipykernel)",
   "language": "python",
   "name": "python3"
  },
  "language_info": {
   "codemirror_mode": {
    "name": "ipython",
    "version": 3
   },
   "file_extension": ".py",
   "mimetype": "text/x-python",
   "name": "python",
   "nbconvert_exporter": "python",
   "pygments_lexer": "ipython3",
   "version": "3.12.6"
  }
 },
 "nbformat": 4,
 "nbformat_minor": 5
}
