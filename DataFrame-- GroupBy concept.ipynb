{
 "cells": [
  {
   "cell_type": "code",
   "execution_count": 3,
   "id": "bdf2301f-79d3-49fe-8722-65bcdde9a075",
   "metadata": {},
   "outputs": [
    {
     "name": "stdout",
     "output_type": "stream",
     "text": [
      "    ID     Name  Age     City  Experience\n",
      "0   11     Jack   44   Sydney          19\n",
      "1   12     Riti   41    Delhi          17\n",
      "2   13     Aadi   46   Mumbai          11\n",
      "3   14    Mohit   45    Delhi          15\n",
      "4   15    Veena   43    Delhi          14\n",
      "5   16  Shaunak   42   Mumbai          17\n",
      "6   17    Manik   42   Sydney          14\n",
      "7   18    Vikas   42    Delhi          11\n",
      "8   19    Samir   42   Mumbai          15\n",
      "9   20  Shobhit   40   Sydney          12\n"
     ]
    }
   ],
   "source": [
    "import pandas as pd\n",
    "df = pd.read_csv(\"C:\\\\Users\\\\SHREE\\\\Desktop\\\\Z-data_samples\\\\facalty.csv\")\n",
    "print(df)"
   ]
  },
  {
   "cell_type": "code",
   "execution_count": 4,
   "id": "3680d7b6-1cc1-48a1-b259-06403ff72f41",
   "metadata": {},
   "outputs": [
    {
     "name": "stdout",
     "output_type": "stream",
     "text": [
      "<pandas.core.groupby.generic.DataFrameGroupBy object at 0x000002C859F164B0>\n",
      "<class 'pandas.core.groupby.generic.DataFrameGroupBy'>\n"
     ]
    }
   ],
   "source": [
    "city = df.groupby(\"City\")\n",
    "print(city)\n",
    "print(type(city))"
   ]
  },
  {
   "cell_type": "code",
   "execution_count": null,
   "id": "b8099377-465f-4c88-b184-9291bcc4aa2b",
   "metadata": {},
   "outputs": [],
   "source": [
    "# Get the Group Name and Its Details\n",
    "for grp_name,grp_rec in city:\n",
    "    print(\"*\"*50)\n",
    "    print(\"Group Name :\", grp_name)\n",
    "    print(\"*\"*50)\n",
    "    print(grp_rec)\n",
    "    print(\"*\"*50)"
   ]
  },
  {
   "cell_type": "code",
   "execution_count": 14,
   "id": "e5051127-f639-4723-bf06-f55514721d51",
   "metadata": {},
   "outputs": [
    {
     "name": "stdout",
     "output_type": "stream",
     "text": [
      "    ID     Name  Age     City  Experience\n",
      "0   11     Jack   44   Sydney          19\n",
      "1   12     Riti   41    Delhi          17\n",
      "2   13     Aadi   46   Mumbai          11\n",
      "3   14    Mohit   45    Delhi          15\n",
      "4   15    Veena   43    Delhi          14\n",
      "5   16  Shaunak   42   Mumbai          17\n",
      "6   17    Manik   42   Sydney          14\n",
      "7   18    Vikas   42    Delhi          11\n",
      "8   19    Samir   42   Mumbai          15\n",
      "9   20  Shobhit   40   Sydney          12\n"
     ]
    }
   ],
   "source": [
    "print(df)"
   ]
  },
  {
   "cell_type": "code",
   "execution_count": 17,
   "id": "e6df4f41-396d-4180-843d-5496b3061b88",
   "metadata": {},
   "outputs": [
    {
     "name": "stdout",
     "output_type": "stream",
     "text": [
      "--------------------------------\n",
      "Age group is = 40\n",
      "---------------------------------\n",
      "    ID     Name  Age    City  Experience\n",
      "9   20  Shobhit   40  Sydney          12\n",
      "--------------------------------\n",
      "Age group is = 41\n",
      "---------------------------------\n",
      "    ID  Name  Age    City  Experience\n",
      "1   12  Riti   41   Delhi          17\n",
      "--------------------------------\n",
      "Age group is = 42\n",
      "---------------------------------\n",
      "    ID     Name  Age     City  Experience\n",
      "5   16  Shaunak   42   Mumbai          17\n",
      "6   17    Manik   42   Sydney          14\n",
      "7   18    Vikas   42    Delhi          11\n",
      "8   19    Samir   42   Mumbai          15\n",
      "--------------------------------\n",
      "Age group is = 43\n",
      "---------------------------------\n",
      "    ID   Name  Age   City  Experience\n",
      "4   15  Veena   43  Delhi          14\n",
      "--------------------------------\n",
      "Age group is = 44\n",
      "---------------------------------\n",
      "    ID   Name  Age     City  Experience\n",
      "0   11   Jack   44   Sydney          19\n",
      "--------------------------------\n",
      "Age group is = 45\n",
      "---------------------------------\n",
      "    ID   Name  Age   City  Experience\n",
      "3   14  Mohit   45  Delhi          15\n",
      "--------------------------------\n",
      "Age group is = 46\n",
      "---------------------------------\n",
      "    ID  Name  Age    City  Experience\n",
      "2   13  Aadi   46  Mumbai          11\n"
     ]
    }
   ],
   "source": [
    "age = df.groupby(\"Age\")\n",
    "for age,rec in age:\n",
    "    print('--------------------------------')\n",
    "    print(\"Age group is =\", age)\n",
    "    print('---------------------------------')\n",
    "    print(rec)"
   ]
  },
  {
   "cell_type": "code",
   "execution_count": 22,
   "id": "c19c7137-8676-4a4f-867f-4ac1f9f45cb7",
   "metadata": {},
   "outputs": [
    {
     "data": {
      "text/html": [
       "<div>\n",
       "<style scoped>\n",
       "    .dataframe tbody tr th:only-of-type {\n",
       "        vertical-align: middle;\n",
       "    }\n",
       "\n",
       "    .dataframe tbody tr th {\n",
       "        vertical-align: top;\n",
       "    }\n",
       "\n",
       "    .dataframe thead th {\n",
       "        text-align: right;\n",
       "    }\n",
       "</style>\n",
       "<table border=\"1\" class=\"dataframe\">\n",
       "  <thead>\n",
       "    <tr style=\"text-align: right;\">\n",
       "      <th></th>\n",
       "      <th>ID</th>\n",
       "      <th>Name</th>\n",
       "      <th>Age</th>\n",
       "      <th>Experience</th>\n",
       "    </tr>\n",
       "    <tr>\n",
       "      <th>City</th>\n",
       "      <th></th>\n",
       "      <th></th>\n",
       "      <th></th>\n",
       "      <th></th>\n",
       "    </tr>\n",
       "  </thead>\n",
       "  <tbody>\n",
       "    <tr>\n",
       "      <th>Delhi</th>\n",
       "      <td>1</td>\n",
       "      <td>1</td>\n",
       "      <td>1</td>\n",
       "      <td>1</td>\n",
       "    </tr>\n",
       "    <tr>\n",
       "      <th>Mumbai</th>\n",
       "      <td>1</td>\n",
       "      <td>1</td>\n",
       "      <td>1</td>\n",
       "      <td>1</td>\n",
       "    </tr>\n",
       "    <tr>\n",
       "      <th>Sydney</th>\n",
       "      <td>1</td>\n",
       "      <td>1</td>\n",
       "      <td>1</td>\n",
       "      <td>1</td>\n",
       "    </tr>\n",
       "    <tr>\n",
       "      <th>Delhi</th>\n",
       "      <td>3</td>\n",
       "      <td>3</td>\n",
       "      <td>3</td>\n",
       "      <td>3</td>\n",
       "    </tr>\n",
       "    <tr>\n",
       "      <th>Mumbai</th>\n",
       "      <td>2</td>\n",
       "      <td>2</td>\n",
       "      <td>2</td>\n",
       "      <td>2</td>\n",
       "    </tr>\n",
       "    <tr>\n",
       "      <th>Sydney</th>\n",
       "      <td>2</td>\n",
       "      <td>2</td>\n",
       "      <td>2</td>\n",
       "      <td>2</td>\n",
       "    </tr>\n",
       "  </tbody>\n",
       "</table>\n",
       "</div>"
      ],
      "text/plain": [
       "          ID  Name  Age  Experience\n",
       "City                               \n",
       " Delhi     1     1    1           1\n",
       " Mumbai    1     1    1           1\n",
       " Sydney    1     1    1           1\n",
       "Delhi      3     3    3           3\n",
       "Mumbai     2     2    2           2\n",
       "Sydney     2     2    2           2"
      ]
     },
     "execution_count": 22,
     "metadata": {},
     "output_type": "execute_result"
    }
   ],
   "source": [
    "df.groupby('City').nunique()"
   ]
  },
  {
   "cell_type": "code",
   "execution_count": 23,
   "id": "2020a06d-d794-4813-afc0-ff1fd8c90bfd",
   "metadata": {},
   "outputs": [
    {
     "data": {
      "text/html": [
       "<div>\n",
       "<style scoped>\n",
       "    .dataframe tbody tr th:only-of-type {\n",
       "        vertical-align: middle;\n",
       "    }\n",
       "\n",
       "    .dataframe tbody tr th {\n",
       "        vertical-align: top;\n",
       "    }\n",
       "\n",
       "    .dataframe thead th {\n",
       "        text-align: right;\n",
       "    }\n",
       "</style>\n",
       "<table border=\"1\" class=\"dataframe\">\n",
       "  <thead>\n",
       "    <tr style=\"text-align: right;\">\n",
       "      <th></th>\n",
       "      <th>ID</th>\n",
       "      <th>Name</th>\n",
       "      <th>Age</th>\n",
       "      <th>Experience</th>\n",
       "    </tr>\n",
       "    <tr>\n",
       "      <th>City</th>\n",
       "      <th></th>\n",
       "      <th></th>\n",
       "      <th></th>\n",
       "      <th></th>\n",
       "    </tr>\n",
       "  </thead>\n",
       "  <tbody>\n",
       "    <tr>\n",
       "      <th>Delhi</th>\n",
       "      <td>12</td>\n",
       "      <td>Riti</td>\n",
       "      <td>41</td>\n",
       "      <td>17</td>\n",
       "    </tr>\n",
       "    <tr>\n",
       "      <th>Mumbai</th>\n",
       "      <td>16</td>\n",
       "      <td>Shaunak</td>\n",
       "      <td>42</td>\n",
       "      <td>17</td>\n",
       "    </tr>\n",
       "    <tr>\n",
       "      <th>Sydney</th>\n",
       "      <td>11</td>\n",
       "      <td>Jack</td>\n",
       "      <td>44</td>\n",
       "      <td>19</td>\n",
       "    </tr>\n",
       "    <tr>\n",
       "      <th>Delhi</th>\n",
       "      <td>14</td>\n",
       "      <td>Mohit</td>\n",
       "      <td>45</td>\n",
       "      <td>15</td>\n",
       "    </tr>\n",
       "    <tr>\n",
       "      <th>Mumbai</th>\n",
       "      <td>13</td>\n",
       "      <td>Aadi</td>\n",
       "      <td>46</td>\n",
       "      <td>11</td>\n",
       "    </tr>\n",
       "    <tr>\n",
       "      <th>Sydney</th>\n",
       "      <td>17</td>\n",
       "      <td>Manik</td>\n",
       "      <td>42</td>\n",
       "      <td>14</td>\n",
       "    </tr>\n",
       "  </tbody>\n",
       "</table>\n",
       "</div>"
      ],
      "text/plain": [
       "          ID     Name  Age  Experience\n",
       "City                                  \n",
       " Delhi    12     Riti   41          17\n",
       " Mumbai   16  Shaunak   42          17\n",
       " Sydney   11     Jack   44          19\n",
       "Delhi     14    Mohit   45          15\n",
       "Mumbai    13     Aadi   46          11\n",
       "Sydney    17    Manik   42          14"
      ]
     },
     "execution_count": 23,
     "metadata": {},
     "output_type": "execute_result"
    }
   ],
   "source": [
    "# get the First Record Every Group\n",
    "city.first()"
   ]
  },
  {
   "cell_type": "code",
   "execution_count": 24,
   "id": "51734c34-3674-4bf5-a642-db32fcf69e4e",
   "metadata": {},
   "outputs": [
    {
     "data": {
      "text/html": [
       "<div>\n",
       "<style scoped>\n",
       "    .dataframe tbody tr th:only-of-type {\n",
       "        vertical-align: middle;\n",
       "    }\n",
       "\n",
       "    .dataframe tbody tr th {\n",
       "        vertical-align: top;\n",
       "    }\n",
       "\n",
       "    .dataframe thead th {\n",
       "        text-align: right;\n",
       "    }\n",
       "</style>\n",
       "<table border=\"1\" class=\"dataframe\">\n",
       "  <thead>\n",
       "    <tr style=\"text-align: right;\">\n",
       "      <th></th>\n",
       "      <th>ID</th>\n",
       "      <th>Name</th>\n",
       "      <th>Age</th>\n",
       "      <th>Experience</th>\n",
       "    </tr>\n",
       "    <tr>\n",
       "      <th>City</th>\n",
       "      <th></th>\n",
       "      <th></th>\n",
       "      <th></th>\n",
       "      <th></th>\n",
       "    </tr>\n",
       "  </thead>\n",
       "  <tbody>\n",
       "    <tr>\n",
       "      <th>Delhi</th>\n",
       "      <td>12</td>\n",
       "      <td>Riti</td>\n",
       "      <td>41</td>\n",
       "      <td>17</td>\n",
       "    </tr>\n",
       "    <tr>\n",
       "      <th>Mumbai</th>\n",
       "      <td>16</td>\n",
       "      <td>Shaunak</td>\n",
       "      <td>42</td>\n",
       "      <td>17</td>\n",
       "    </tr>\n",
       "    <tr>\n",
       "      <th>Sydney</th>\n",
       "      <td>11</td>\n",
       "      <td>Jack</td>\n",
       "      <td>44</td>\n",
       "      <td>19</td>\n",
       "    </tr>\n",
       "    <tr>\n",
       "      <th>Delhi</th>\n",
       "      <td>18</td>\n",
       "      <td>Vikas</td>\n",
       "      <td>42</td>\n",
       "      <td>11</td>\n",
       "    </tr>\n",
       "    <tr>\n",
       "      <th>Mumbai</th>\n",
       "      <td>19</td>\n",
       "      <td>Samir</td>\n",
       "      <td>42</td>\n",
       "      <td>15</td>\n",
       "    </tr>\n",
       "    <tr>\n",
       "      <th>Sydney</th>\n",
       "      <td>20</td>\n",
       "      <td>Shobhit</td>\n",
       "      <td>40</td>\n",
       "      <td>12</td>\n",
       "    </tr>\n",
       "  </tbody>\n",
       "</table>\n",
       "</div>"
      ],
      "text/plain": [
       "          ID     Name  Age  Experience\n",
       "City                                  \n",
       " Delhi    12     Riti   41          17\n",
       " Mumbai   16  Shaunak   42          17\n",
       " Sydney   11     Jack   44          19\n",
       "Delhi     18    Vikas   42          11\n",
       "Mumbai    19    Samir   42          15\n",
       "Sydney    20  Shobhit   40          12"
      ]
     },
     "execution_count": 24,
     "metadata": {},
     "output_type": "execute_result"
    }
   ],
   "source": [
    "# get the last Record Every Group\n",
    "city.last()"
   ]
  },
  {
   "cell_type": "code",
   "execution_count": 31,
   "id": "f1e96948-6858-4118-9e69-19dbd01e0f13",
   "metadata": {},
   "outputs": [
    {
     "data": {
      "text/html": [
       "<div>\n",
       "<style scoped>\n",
       "    .dataframe tbody tr th:only-of-type {\n",
       "        vertical-align: middle;\n",
       "    }\n",
       "\n",
       "    .dataframe tbody tr th {\n",
       "        vertical-align: top;\n",
       "    }\n",
       "\n",
       "    .dataframe thead th {\n",
       "        text-align: right;\n",
       "    }\n",
       "</style>\n",
       "<table border=\"1\" class=\"dataframe\">\n",
       "  <thead>\n",
       "    <tr style=\"text-align: right;\">\n",
       "      <th></th>\n",
       "      <th>ID</th>\n",
       "      <th>Name</th>\n",
       "      <th>Age</th>\n",
       "      <th>City</th>\n",
       "      <th>Experience</th>\n",
       "    </tr>\n",
       "  </thead>\n",
       "  <tbody>\n",
       "    <tr>\n",
       "      <th>4</th>\n",
       "      <td>15</td>\n",
       "      <td>Veena</td>\n",
       "      <td>43</td>\n",
       "      <td>Delhi</td>\n",
       "      <td>14</td>\n",
       "    </tr>\n",
       "    <tr>\n",
       "      <th>8</th>\n",
       "      <td>19</td>\n",
       "      <td>Samir</td>\n",
       "      <td>42</td>\n",
       "      <td>Mumbai</td>\n",
       "      <td>15</td>\n",
       "    </tr>\n",
       "    <tr>\n",
       "      <th>9</th>\n",
       "      <td>20</td>\n",
       "      <td>Shobhit</td>\n",
       "      <td>40</td>\n",
       "      <td>Sydney</td>\n",
       "      <td>12</td>\n",
       "    </tr>\n",
       "  </tbody>\n",
       "</table>\n",
       "</div>"
      ],
      "text/plain": [
       "    ID     Name  Age    City  Experience\n",
       "4   15    Veena   43   Delhi          14\n",
       "8   19    Samir   42  Mumbai          15\n",
       "9   20  Shobhit   40  Sydney          12"
      ]
     },
     "execution_count": 31,
     "metadata": {},
     "output_type": "execute_result"
    }
   ],
   "source": [
    "# get the Third Record Every Group\n",
    "city.nth(1)"
   ]
  },
  {
   "cell_type": "code",
   "execution_count": 32,
   "id": "fa3e45ca-2cf8-44a7-b0cb-14e488bbc4ed",
   "metadata": {},
   "outputs": [
    {
     "name": "stdout",
     "output_type": "stream",
     "text": [
      "--------------------------\n",
      "Group name =  Delhi\n",
      "---------------------------\n",
      "    ID  Name  Age    City  Experience\n",
      "1   12  Riti   41   Delhi          17\n",
      "--------------------------\n",
      "Group name =  Mumbai\n",
      "---------------------------\n",
      "    ID     Name  Age     City  Experience\n",
      "5   16  Shaunak   42   Mumbai          17\n",
      "--------------------------\n",
      "Group name =  Sydney\n",
      "---------------------------\n",
      "    ID   Name  Age     City  Experience\n",
      "0   11   Jack   44   Sydney          19\n",
      "--------------------------\n",
      "Group name = Delhi\n",
      "---------------------------\n",
      "    ID   Name  Age   City  Experience\n",
      "3   14  Mohit   45  Delhi          15\n",
      "4   15  Veena   43  Delhi          14\n",
      "7   18  Vikas   42  Delhi          11\n",
      "--------------------------\n",
      "Group name = Mumbai\n",
      "---------------------------\n",
      "    ID   Name  Age    City  Experience\n",
      "2   13   Aadi   46  Mumbai          11\n",
      "8   19  Samir   42  Mumbai          15\n",
      "--------------------------\n",
      "Group name = Sydney\n",
      "---------------------------\n",
      "    ID     Name  Age    City  Experience\n",
      "6   17    Manik   42  Sydney          14\n",
      "9   20  Shobhit   40  Sydney          12\n"
     ]
    }
   ],
   "source": [
    "for name,rec in city:\n",
    "    print('--------------------------')\n",
    "    print(\"Group name =\", name)\n",
    "    print('---------------------------')\n",
    "    print(rec)"
   ]
  },
  {
   "cell_type": "code",
   "execution_count": 41,
   "id": "b94fcf7e-68a4-4307-a03a-ca6cb785d3a2",
   "metadata": {},
   "outputs": [
    {
     "name": "stdout",
     "output_type": "stream",
     "text": [
      "--------------------------\n",
      "Age Group is = 40\n",
      "---------------------------\n",
      "    ID     Name  Age    City  Experience\n",
      "9   20  Shobhit   40  Sydney          12\n",
      "--------------------------\n",
      "Age Group is = 41\n",
      "---------------------------\n",
      "    ID  Name  Age    City  Experience\n",
      "1   12  Riti   41   Delhi          17\n",
      "--------------------------\n",
      "Age Group is = 42\n",
      "---------------------------\n",
      "    ID     Name  Age     City  Experience\n",
      "5   16  Shaunak   42   Mumbai          17\n",
      "6   17    Manik   42   Sydney          14\n",
      "7   18    Vikas   42    Delhi          11\n",
      "8   19    Samir   42   Mumbai          15\n",
      "--------------------------\n",
      "Age Group is = 43\n",
      "---------------------------\n",
      "    ID   Name  Age   City  Experience\n",
      "4   15  Veena   43  Delhi          14\n",
      "--------------------------\n",
      "Age Group is = 44\n",
      "---------------------------\n",
      "    ID   Name  Age     City  Experience\n",
      "0   11   Jack   44   Sydney          19\n",
      "--------------------------\n",
      "Age Group is = 45\n",
      "---------------------------\n",
      "    ID   Name  Age   City  Experience\n",
      "3   14  Mohit   45  Delhi          15\n",
      "--------------------------\n",
      "Age Group is = 46\n",
      "---------------------------\n",
      "    ID  Name  Age    City  Experience\n",
      "2   13  Aadi   46  Mumbai          11\n"
     ]
    }
   ],
   "source": [
    "agg = df.groupby(\"Age\")\n",
    "for ag,rec in agg:\n",
    "    print('--------------------------')\n",
    "    print(\"Age Group is =\", ag)\n",
    "    print('---------------------------')\n",
    "    print(rec)"
   ]
  },
  {
   "cell_type": "code",
   "execution_count": 42,
   "id": "b259281f-cfc6-423d-b5c7-bba5419079ab",
   "metadata": {},
   "outputs": [
    {
     "data": {
      "text/html": [
       "<div>\n",
       "<style scoped>\n",
       "    .dataframe tbody tr th:only-of-type {\n",
       "        vertical-align: middle;\n",
       "    }\n",
       "\n",
       "    .dataframe tbody tr th {\n",
       "        vertical-align: top;\n",
       "    }\n",
       "\n",
       "    .dataframe thead th {\n",
       "        text-align: right;\n",
       "    }\n",
       "</style>\n",
       "<table border=\"1\" class=\"dataframe\">\n",
       "  <thead>\n",
       "    <tr style=\"text-align: right;\">\n",
       "      <th></th>\n",
       "      <th>ID</th>\n",
       "      <th>Name</th>\n",
       "      <th>City</th>\n",
       "      <th>Experience</th>\n",
       "    </tr>\n",
       "    <tr>\n",
       "      <th>Age</th>\n",
       "      <th></th>\n",
       "      <th></th>\n",
       "      <th></th>\n",
       "      <th></th>\n",
       "    </tr>\n",
       "  </thead>\n",
       "  <tbody>\n",
       "    <tr>\n",
       "      <th>40</th>\n",
       "      <td>20</td>\n",
       "      <td>Shobhit</td>\n",
       "      <td>Sydney</td>\n",
       "      <td>12</td>\n",
       "    </tr>\n",
       "    <tr>\n",
       "      <th>41</th>\n",
       "      <td>12</td>\n",
       "      <td>Riti</td>\n",
       "      <td>Delhi</td>\n",
       "      <td>17</td>\n",
       "    </tr>\n",
       "    <tr>\n",
       "      <th>42</th>\n",
       "      <td>16</td>\n",
       "      <td>Shaunak</td>\n",
       "      <td>Mumbai</td>\n",
       "      <td>17</td>\n",
       "    </tr>\n",
       "    <tr>\n",
       "      <th>43</th>\n",
       "      <td>15</td>\n",
       "      <td>Veena</td>\n",
       "      <td>Delhi</td>\n",
       "      <td>14</td>\n",
       "    </tr>\n",
       "    <tr>\n",
       "      <th>44</th>\n",
       "      <td>11</td>\n",
       "      <td>Jack</td>\n",
       "      <td>Sydney</td>\n",
       "      <td>19</td>\n",
       "    </tr>\n",
       "    <tr>\n",
       "      <th>45</th>\n",
       "      <td>14</td>\n",
       "      <td>Mohit</td>\n",
       "      <td>Delhi</td>\n",
       "      <td>15</td>\n",
       "    </tr>\n",
       "    <tr>\n",
       "      <th>46</th>\n",
       "      <td>13</td>\n",
       "      <td>Aadi</td>\n",
       "      <td>Mumbai</td>\n",
       "      <td>11</td>\n",
       "    </tr>\n",
       "  </tbody>\n",
       "</table>\n",
       "</div>"
      ],
      "text/plain": [
       "      ID     Name     City  Experience\n",
       "Age                                   \n",
       "40    20  Shobhit   Sydney          12\n",
       "41    12     Riti    Delhi          17\n",
       "42    16  Shaunak   Mumbai          17\n",
       "43    15    Veena    Delhi          14\n",
       "44    11     Jack   Sydney          19\n",
       "45    14    Mohit    Delhi          15\n",
       "46    13     Aadi   Mumbai          11"
      ]
     },
     "execution_count": 42,
     "metadata": {},
     "output_type": "execute_result"
    }
   ],
   "source": [
    "agg.first()"
   ]
  },
  {
   "cell_type": "code",
   "execution_count": 43,
   "id": "fb743b7e-54ee-4d5b-a33b-e449e4b2b3b0",
   "metadata": {},
   "outputs": [
    {
     "data": {
      "text/html": [
       "<div>\n",
       "<style scoped>\n",
       "    .dataframe tbody tr th:only-of-type {\n",
       "        vertical-align: middle;\n",
       "    }\n",
       "\n",
       "    .dataframe tbody tr th {\n",
       "        vertical-align: top;\n",
       "    }\n",
       "\n",
       "    .dataframe thead th {\n",
       "        text-align: right;\n",
       "    }\n",
       "</style>\n",
       "<table border=\"1\" class=\"dataframe\">\n",
       "  <thead>\n",
       "    <tr style=\"text-align: right;\">\n",
       "      <th></th>\n",
       "      <th>ID</th>\n",
       "      <th>Name</th>\n",
       "      <th>City</th>\n",
       "      <th>Experience</th>\n",
       "    </tr>\n",
       "    <tr>\n",
       "      <th>Age</th>\n",
       "      <th></th>\n",
       "      <th></th>\n",
       "      <th></th>\n",
       "      <th></th>\n",
       "    </tr>\n",
       "  </thead>\n",
       "  <tbody>\n",
       "    <tr>\n",
       "      <th>40</th>\n",
       "      <td>20</td>\n",
       "      <td>Shobhit</td>\n",
       "      <td>Sydney</td>\n",
       "      <td>12</td>\n",
       "    </tr>\n",
       "    <tr>\n",
       "      <th>41</th>\n",
       "      <td>12</td>\n",
       "      <td>Riti</td>\n",
       "      <td>Delhi</td>\n",
       "      <td>17</td>\n",
       "    </tr>\n",
       "    <tr>\n",
       "      <th>42</th>\n",
       "      <td>19</td>\n",
       "      <td>Samir</td>\n",
       "      <td>Mumbai</td>\n",
       "      <td>15</td>\n",
       "    </tr>\n",
       "    <tr>\n",
       "      <th>43</th>\n",
       "      <td>15</td>\n",
       "      <td>Veena</td>\n",
       "      <td>Delhi</td>\n",
       "      <td>14</td>\n",
       "    </tr>\n",
       "    <tr>\n",
       "      <th>44</th>\n",
       "      <td>11</td>\n",
       "      <td>Jack</td>\n",
       "      <td>Sydney</td>\n",
       "      <td>19</td>\n",
       "    </tr>\n",
       "    <tr>\n",
       "      <th>45</th>\n",
       "      <td>14</td>\n",
       "      <td>Mohit</td>\n",
       "      <td>Delhi</td>\n",
       "      <td>15</td>\n",
       "    </tr>\n",
       "    <tr>\n",
       "      <th>46</th>\n",
       "      <td>13</td>\n",
       "      <td>Aadi</td>\n",
       "      <td>Mumbai</td>\n",
       "      <td>11</td>\n",
       "    </tr>\n",
       "  </tbody>\n",
       "</table>\n",
       "</div>"
      ],
      "text/plain": [
       "      ID     Name     City  Experience\n",
       "Age                                   \n",
       "40    20  Shobhit   Sydney          12\n",
       "41    12     Riti    Delhi          17\n",
       "42    19    Samir   Mumbai          15\n",
       "43    15    Veena    Delhi          14\n",
       "44    11     Jack   Sydney          19\n",
       "45    14    Mohit    Delhi          15\n",
       "46    13     Aadi   Mumbai          11"
      ]
     },
     "execution_count": 43,
     "metadata": {},
     "output_type": "execute_result"
    }
   ],
   "source": [
    "agg.last()"
   ]
  },
  {
   "cell_type": "code",
   "execution_count": 52,
   "id": "3c09eda0-ee35-4e85-a5e0-a54d0bb7f6a5",
   "metadata": {},
   "outputs": [
    {
     "data": {
      "text/html": [
       "<div>\n",
       "<style scoped>\n",
       "    .dataframe tbody tr th:only-of-type {\n",
       "        vertical-align: middle;\n",
       "    }\n",
       "\n",
       "    .dataframe tbody tr th {\n",
       "        vertical-align: top;\n",
       "    }\n",
       "\n",
       "    .dataframe thead th {\n",
       "        text-align: right;\n",
       "    }\n",
       "</style>\n",
       "<table border=\"1\" class=\"dataframe\">\n",
       "  <thead>\n",
       "    <tr style=\"text-align: right;\">\n",
       "      <th></th>\n",
       "      <th>ID</th>\n",
       "      <th>Name</th>\n",
       "      <th>Age</th>\n",
       "      <th>City</th>\n",
       "      <th>Experience</th>\n",
       "    </tr>\n",
       "  </thead>\n",
       "  <tbody>\n",
       "    <tr>\n",
       "      <th>7</th>\n",
       "      <td>18</td>\n",
       "      <td>Vikas</td>\n",
       "      <td>42</td>\n",
       "      <td>Delhi</td>\n",
       "      <td>11</td>\n",
       "    </tr>\n",
       "  </tbody>\n",
       "</table>\n",
       "</div>"
      ],
      "text/plain": [
       "    ID   Name  Age   City  Experience\n",
       "7   18  Vikas   42  Delhi          11"
      ]
     },
     "execution_count": 52,
     "metadata": {},
     "output_type": "execute_result"
    }
   ],
   "source": [
    "agg.nth(2)"
   ]
  },
  {
   "cell_type": "code",
   "execution_count": 5,
   "id": "9e550ade-5c9e-41ff-baf0-e93db4100f1d",
   "metadata": {},
   "outputs": [
    {
     "data": {
      "text/plain": [
       "City\n",
       " Delhi     1\n",
       " Mumbai    1\n",
       " Sydney    1\n",
       "Delhi      3\n",
       "Mumbai     2\n",
       "Sydney     2\n",
       "dtype: int64"
      ]
     },
     "execution_count": 5,
     "metadata": {},
     "output_type": "execute_result"
    }
   ],
   "source": [
    "# get the size of dataframe groups\n",
    "city.size()"
   ]
  },
  {
   "cell_type": "code",
   "execution_count": 54,
   "id": "3a0d8b91-b683-4df6-96a7-8904945484a3",
   "metadata": {},
   "outputs": [
    {
     "data": {
      "text/plain": [
       "Age\n",
       "40    1\n",
       "41    1\n",
       "42    4\n",
       "43    1\n",
       "44    1\n",
       "45    1\n",
       "46    1\n",
       "dtype: int64"
      ]
     },
     "execution_count": 54,
     "metadata": {},
     "output_type": "execute_result"
    }
   ],
   "source": [
    "agg.size()"
   ]
  },
  {
   "cell_type": "code",
   "execution_count": 55,
   "id": "6dd1108a-8534-4960-a849-364f1c80ec56",
   "metadata": {},
   "outputs": [
    {
     "name": "stdout",
     "output_type": "stream",
     "text": [
      "<class 'tuple'>\n",
      "<class 'tuple'>\n",
      "<class 'tuple'>\n",
      "<class 'tuple'>\n",
      "<class 'tuple'>\n",
      "<class 'tuple'>\n"
     ]
    }
   ],
   "source": [
    "gby = df.groupby(\"City\")\n",
    "for groupinfo in gby:\n",
    "    print(type(groupinfo))"
   ]
  },
  {
   "cell_type": "code",
   "execution_count": 59,
   "id": "21e91908-10fc-4734-ab05-a21f196cf845",
   "metadata": {},
   "outputs": [
    {
     "name": "stdout",
     "output_type": "stream",
     "text": [
      " Delhi\n",
      " Mumbai\n",
      " Sydney\n",
      "Delhi\n",
      "Mumbai\n",
      "Sydney\n"
     ]
    }
   ],
   "source": [
    "gby = df.groupby(\"City\")\n",
    "for groupinfo in gby:\n",
    "    print(groupinfo[0])"
   ]
  },
  {
   "cell_type": "code",
   "execution_count": 62,
   "id": "e29fc709-e55e-4e10-90e0-20333aef1c44",
   "metadata": {},
   "outputs": [
    {
     "name": "stdout",
     "output_type": "stream",
     "text": [
      " Delhi --> 1\n",
      " Mumbai --> 1\n",
      " Sydney --> 1\n",
      "Delhi --> 3\n",
      "Mumbai --> 2\n",
      "Sydney --> 2\n"
     ]
    }
   ],
   "source": [
    "# get the name and size of group\n",
    "for gro in gby:\n",
    "    print(\"{} --> {}\".format(gro[0],len(gro[1])))"
   ]
  },
  {
   "cell_type": "code",
   "execution_count": 63,
   "id": "1a9e1314-c84f-4fe9-8bad-7536175a99a3",
   "metadata": {},
   "outputs": [
    {
     "name": "stdout",
     "output_type": "stream",
     "text": [
      "<class 'pandas.core.frame.DataFrame'>\n",
      "<class 'pandas.core.frame.DataFrame'>\n",
      "<class 'pandas.core.frame.DataFrame'>\n",
      "<class 'pandas.core.frame.DataFrame'>\n",
      "<class 'pandas.core.frame.DataFrame'>\n",
      "<class 'pandas.core.frame.DataFrame'>\n"
     ]
    }
   ],
   "source": [
    "for ty in gby:\n",
    "    print(type(ty[1]))"
   ]
  },
  {
   "cell_type": "code",
   "execution_count": 64,
   "id": "7758faab-081b-43ff-914b-f06d9797a1b9",
   "metadata": {},
   "outputs": [
    {
     "name": "stdout",
     "output_type": "stream",
     "text": [
      "               Age  Experience\n",
      "City                          \n",
      " Delhi   41.000000          17\n",
      " Mumbai  42.000000          17\n",
      " Sydney  44.000000          19\n",
      "Delhi    43.333333          40\n",
      "Mumbai   44.000000          26\n",
      "Sydney   41.000000          26\n"
     ]
    }
   ],
   "source": [
    "values = df.groupby('City').agg( {'Age': 'mean', 'Experience': 'sum'})\n",
    "print(values)"
   ]
  },
  {
   "cell_type": "code",
   "execution_count": 65,
   "id": "f35f373d-ac5b-4697-9830-6dd351523ca7",
   "metadata": {},
   "outputs": [
    {
     "name": "stdout",
     "output_type": "stream",
     "text": [
      "         size  sum       mean\n",
      "City                         \n",
      " Delhi      1   41  41.000000\n",
      " Mumbai     1   42  42.000000\n",
      " Sydney     1   44  44.000000\n",
      "Delhi       3  130  43.333333\n",
      "Mumbai      2   88  44.000000\n",
      "Sydney      2   82  41.000000\n"
     ]
    }
   ],
   "source": [
    "# Get the size, sum and mean of values\n",
    "# of each numeric column in each group\n",
    "values = df.groupby('City')[\"Age\"].agg(['size', 'sum', 'mean'])\n",
    "print(values)"
   ]
  },
  {
   "cell_type": "code",
   "execution_count": null,
   "id": "faea99e3-9394-41a1-a673-de589ed2316b",
   "metadata": {},
   "outputs": [],
   "source": []
  }
 ],
 "metadata": {
  "kernelspec": {
   "display_name": "Python 3 (ipykernel)",
   "language": "python",
   "name": "python3"
  },
  "language_info": {
   "codemirror_mode": {
    "name": "ipython",
    "version": 3
   },
   "file_extension": ".py",
   "mimetype": "text/x-python",
   "name": "python",
   "nbconvert_exporter": "python",
   "pygments_lexer": "ipython3",
   "version": "3.12.6"
  }
 },
 "nbformat": 4,
 "nbformat_minor": 5
}
