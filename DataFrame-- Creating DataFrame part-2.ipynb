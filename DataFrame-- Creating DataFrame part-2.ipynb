{
 "cells": [
  {
   "cell_type": "markdown",
   "id": "9a047c84-a5bf-41ce-b582-e28b66f97b82",
   "metadata": {},
   "source": [
    "# Creating the object of dataframe part -2 \n",
    "# in which we convert ndarray and series into dataframe"
   ]
  },
  {
   "cell_type": "code",
   "execution_count": 4,
   "id": "8042ac15-3a07-4da6-aa3d-07375aa2dcd9",
   "metadata": {},
   "outputs": [
    {
     "name": "stdout",
     "output_type": "stream",
     "text": [
      "[10 20 30 40 50] <class 'numpy.ndarray'>\n",
      "----------------\n",
      "    0\n",
      "0  10\n",
      "1  20\n",
      "2  30\n",
      "3  40\n",
      "4  50\n",
      "<class 'pandas.core.frame.DataFrame'>\n"
     ]
    }
   ],
   "source": [
    "import numpy as np\n",
    "import pandas as pd\n",
    "\n",
    "arr = np.array([10,20,30,40,50])\n",
    "print(arr,type(arr))\n",
    "print('----------------')\n",
    "df = pd.DataFrame(arr)\n",
    "print(df)\n",
    "print(type(df))"
   ]
  },
  {
   "cell_type": "code",
   "execution_count": 8,
   "id": "9a380f0e-b9c0-456a-a5d6-3a836d89d061",
   "metadata": {},
   "outputs": [
    {
     "name": "stdout",
     "output_type": "stream",
     "text": [
      "Series values are =\n",
      "0      ankit\n",
      "1    krishna\n",
      "2       ajay\n",
      "3     gaurav\n",
      "dtype: object <class 'pandas.core.series.Series'>\n",
      "----------------------\n",
      "Dataframe values are =\n",
      "     Names\n",
      "0    ankit\n",
      "1  krishna\n",
      "2     ajay\n",
      "3   gaurav <class 'pandas.core.frame.DataFrame'>\n"
     ]
    }
   ],
   "source": [
    "ser = pd.Series([\"ankit\",\"krishna\",\"ajay\",\"gaurav\"])\n",
    "print(\"Series values are =\")\n",
    "print(ser,type(ser))\n",
    "print('----------------------')\n",
    "print(\"Dataframe values are =\")\n",
    "df = pd.DataFrame(ser,columns=[\"Names\"])\n",
    "print(df,type(df))"
   ]
  },
  {
   "cell_type": "code",
   "execution_count": 19,
   "id": "f481088f-134e-49b7-a86e-54ee776cd3c0",
   "metadata": {},
   "outputs": [
    {
     "name": "stdout",
     "output_type": "stream",
     "text": [
      "       Name  Rank  Marks\n",
      "0    Rossum     1     95\n",
      "1    Travis     3     80\n",
      "2  MCKinney     2     90\n",
      "3   JHunter     4     89\n",
      "4    Dennis     5     79\n"
     ]
    }
   ],
   "source": [
    "import pandas as pd\n",
    "df = pd.read_csv(\"D:\\\\data.csv\")\n",
    "print(df)"
   ]
  },
  {
   "cell_type": "code",
   "execution_count": null,
   "id": "6d018972-8ff6-47da-8466-c80afa8cb9d9",
   "metadata": {},
   "outputs": [],
   "source": []
  }
 ],
 "metadata": {
  "kernelspec": {
   "display_name": "Python 3 (ipykernel)",
   "language": "python",
   "name": "python3"
  },
  "language_info": {
   "codemirror_mode": {
    "name": "ipython",
    "version": 3
   },
   "file_extension": ".py",
   "mimetype": "text/x-python",
   "name": "python",
   "nbconvert_exporter": "python",
   "pygments_lexer": "ipython3",
   "version": "3.12.6"
  }
 },
 "nbformat": 4,
 "nbformat_minor": 5
}
