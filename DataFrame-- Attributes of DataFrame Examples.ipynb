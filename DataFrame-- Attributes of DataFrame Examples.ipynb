{
 "cells": [
  {
   "cell_type": "markdown",
   "id": "d6a0cecf-7c34-4fcd-81eb-d4b96d5a3a86",
   "metadata": {},
   "source": [
    "# DataFrame Attributes "
   ]
  },
  {
   "cell_type": "code",
   "execution_count": null,
   "id": "0a6c0d49-830f-4e3e-a50b-416b4f904fde",
   "metadata": {},
   "outputs": [],
   "source": [
    "# List of Attributes given bellow\n",
    "# 1) DataFrameObject.index\n",
    "# 2) DataFrameObject.columns\n",
    "# 3) DataFrameObject.axes\n",
    "# 4) DataFrameObject.dtypes\n",
    "# 5) DataFrameObject.size\n",
    "# 6) DataFrameObject.shape\n",
    "# 7) DataFrameObject.ndim\n",
    "# 8) DataFrameObject.empty\n",
    "# 9) DataFrameObject.values\n",
    "# 10) DataFrameObject.T"
   ]
  },
  {
   "cell_type": "code",
   "execution_count": 7,
   "id": "429d43b5-ecd9-4587-bc8f-214ae7407020",
   "metadata": {},
   "outputs": [
    {
     "name": "stdout",
     "output_type": "stream",
     "text": [
      "         Names  Rank  Marks\n",
      "RowA    Rossum     1     95\n",
      "RowB    Travis     3     80\n",
      "RowC  MCKinney     2     90\n",
      "RowD   JHunter     4     89\n",
      "RowE    Dennis     5     79\n"
     ]
    }
   ],
   "source": [
    "import pandas as pd\n",
    "stud_marks_rank = [[\"Rossum\",1,95],[\"Travis\",3,80],[\"MCKinney\",2,90],['JHunter',4,89],['Dennis',5,79]]\n",
    "df = pd.DataFrame(stud_marks_rank,columns=[\"Names\",\"Rank\",\"Marks\"],index=[\"Row\"+str(chr(i)) for i in range(65,70)])\n",
    "print(df)"
   ]
  },
  {
   "cell_type": "code",
   "execution_count": 8,
   "id": "be1f3d54-b4c5-481d-afe9-26a4295cfb76",
   "metadata": {},
   "outputs": [
    {
     "name": "stdout",
     "output_type": "stream",
     "text": [
      "Index(['RowA', 'RowB', 'RowC', 'RowD', 'RowE'], dtype='object')\n"
     ]
    }
   ],
   "source": [
    "# Attribute Name:  index ---->Give Row Index Names\n",
    "# Syntax:    DataFrameObject.index\n",
    "print(df.index)"
   ]
  },
  {
   "cell_type": "code",
   "execution_count": 9,
   "id": "703a4edb-1c32-4075-91b0-f935a71c07b2",
   "metadata": {},
   "outputs": [
    {
     "name": "stdout",
     "output_type": "stream",
     "text": [
      "Index(['Names', 'Rank', 'Marks'], dtype='object')\n"
     ]
    }
   ],
   "source": [
    "#Attribute Name:  columns ---->Give columns Index Names\n",
    "#Syntax:    DataFrameObject.columns\n",
    "print(df.columns)"
   ]
  },
  {
   "cell_type": "code",
   "execution_count": 15,
   "id": "bb2429bf-9a8a-49ba-8c0e-2515012d9e44",
   "metadata": {},
   "outputs": [
    {
     "name": "stdout",
     "output_type": "stream",
     "text": [
      "         Names  Rank  Marks\n",
      "RowA    Rossum     1     95\n",
      "RowB    Travis     3     80\n",
      "RowC  MCKinney     2     90\n",
      "RowD   JHunter     4     89\n",
      "RowE    Dennis     5     79\n",
      "------------------------------\n",
      "[Index(['RowA', 'RowB', 'RowC', 'RowD', 'RowE'], dtype='object'), Index(['Names', 'Rank', 'Marks'], dtype='object')]\n",
      "----------------------\n",
      "Index(['RowA', 'RowB', 'RowC', 'RowD', 'RowE'], dtype='object')\n",
      "Index(['Names', 'Rank', 'Marks'], dtype='object')\n"
     ]
    }
   ],
   "source": [
    "#Attribute Name:  axes ---->Gives Both Row Index and Column Index\n",
    "#Syntax:    DataFrameObject.axes\n",
    "print(df)\n",
    "print('------------------------------')\n",
    "print(df.axes)\n",
    "print('----------------------')\n",
    "for axis in df.axes:\n",
    "    print(axis)"
   ]
  },
  {
   "cell_type": "code",
   "execution_count": 18,
   "id": "30ab510d-bf16-44cf-bf4c-2f09fcbc3cea",
   "metadata": {},
   "outputs": [
    {
     "name": "stdout",
     "output_type": "stream",
     "text": [
      "         Names  Rank  Marks\n",
      "RowA    Rossum     1     95\n",
      "RowB    Travis     3     80\n",
      "RowC  MCKinney     2     90\n",
      "RowD   JHunter     4     89\n",
      "RowE    Dennis     5     79\n",
      "---------------\n",
      "Names    object\n",
      "Rank      int64\n",
      "Marks     int64\n",
      "dtype: object\n"
     ]
    }
   ],
   "source": [
    "#Attribute Name:  dtypes ---->Gives Individul Column Type and Overall Data Type of DF\n",
    "#Syntax:    DataFrameObject.dtypes\n",
    "print(df)\n",
    "print('---------------')\n",
    "print(df.dtypes)"
   ]
  },
  {
   "cell_type": "code",
   "execution_count": 20,
   "id": "2dc69149-0450-46ac-99c4-6e85404563c8",
   "metadata": {},
   "outputs": [
    {
     "name": "stdout",
     "output_type": "stream",
     "text": [
      "         Names  Rank  Marks\n",
      "RowA    Rossum     1     95\n",
      "RowB    Travis     3     80\n",
      "RowC  MCKinney     2     90\n",
      "RowD   JHunter     4     89\n",
      "RowE    Dennis     5     79\n",
      "----------------\n",
      "Number of Entries = 15\n"
     ]
    }
   ],
   "source": [
    "# Attribute Name:  size ---->Gives Number of Row X cols\n",
    "# Syntax: DataFrameObject.size\n",
    "print(df)\n",
    "print('----------------')\n",
    "print(\"Number of Entries =\", df.size)"
   ]
  },
  {
   "cell_type": "code",
   "execution_count": 22,
   "id": "625cc10b-3741-4711-b165-c16eb747d59d",
   "metadata": {},
   "outputs": [
    {
     "name": "stdout",
     "output_type": "stream",
     "text": [
      "         Names  Rank  Marks\n",
      "RowA    Rossum     1     95\n",
      "RowB    Travis     3     80\n",
      "RowC  MCKinney     2     90\n",
      "RowD   JHunter     4     89\n",
      "RowE    Dennis     5     79\n",
      "--------------------\n",
      "(5, 3)\n",
      "Number of Rows = 5\n",
      "Number of Columns = 3\n"
     ]
    }
   ],
   "source": [
    "# Attribute Name:  sahpe ---->Gives (Rows, Cols)\n",
    "# Syntax:    DataFrameObject.shape\n",
    "print(df)\n",
    "print('--------------------')\n",
    "print(df.shape)\n",
    "print(\"Number of Rows =\", df.shape[0])\n",
    "print(\"Number of Columns =\", df.shape[1])"
   ]
  },
  {
   "cell_type": "code",
   "execution_count": 24,
   "id": "3aa6d7c2-7946-4127-85e0-40f205c5f2aa",
   "metadata": {},
   "outputs": [
    {
     "name": "stdout",
     "output_type": "stream",
     "text": [
      "         Names  Rank  Marks\n",
      "RowA    Rossum     1     95\n",
      "RowB    Travis     3     80\n",
      "RowC  MCKinney     2     90\n",
      "RowD   JHunter     4     89\n",
      "RowE    Dennis     5     79\n",
      "--------------------\n",
      "Table contains 5 Rows and 3 columns with size is 15\n"
     ]
    }
   ],
   "source": [
    "print(df)\n",
    "print('--------------------')\n",
    "print(\"Table contains {} Rows and {} columns with size is {}\".format(df.shape[0],df.shape[1],df.size))"
   ]
  },
  {
   "cell_type": "code",
   "execution_count": 25,
   "id": "998fe19a-f7fc-4efb-bc63-68ce223f99b3",
   "metadata": {},
   "outputs": [
    {
     "name": "stdout",
     "output_type": "stream",
     "text": [
      "         Names  Rank  Marks\n",
      "RowA    Rossum     1     95\n",
      "RowB    Travis     3     80\n",
      "RowC  MCKinney     2     90\n",
      "RowD   JHunter     4     89\n",
      "RowE    Dennis     5     79\n",
      "-------------------\n",
      "Dimension of Dataframe object is = 2\n"
     ]
    }
   ],
   "source": [
    "#Attribute Name:  ndim ---->Gives Dimension of DataFrame\n",
    "#Syntax:    DataFrameObject.ndim\n",
    "print(df)\n",
    "print('-------------------')\n",
    "print(\"Dimension of Dataframe object is =\", df.ndim)"
   ]
  },
  {
   "cell_type": "code",
   "execution_count": 26,
   "id": "1e7155c6-ad00-4f38-9372-1a1a463e4124",
   "metadata": {},
   "outputs": [
    {
     "name": "stdout",
     "output_type": "stream",
     "text": [
      "         Names  Rank  Marks\n",
      "RowA    Rossum     1     95\n",
      "RowB    Travis     3     80\n",
      "RowC  MCKinney     2     90\n",
      "RowD   JHunter     4     89\n",
      "RowE    Dennis     5     79\n",
      "--------------------\n",
      "Is dataframe object is empty = False\n"
     ]
    }
   ],
   "source": [
    "#Attribute Name:  empty ---->Gives True in the case of empty OR False in the Case of Non-Empty\n",
    "#Syntax:    DataFrameObject.empty\n",
    "print(df)\n",
    "print(\"--------------------\")\n",
    "print(\"Is dataframe object is empty =\", df.empty)"
   ]
  },
  {
   "cell_type": "code",
   "execution_count": 28,
   "id": "69e3c882-7ac7-44cc-972b-26a008eb16b3",
   "metadata": {},
   "outputs": [
    {
     "name": "stdout",
     "output_type": "stream",
     "text": [
      "Empty DataFrame\n",
      "Columns: []\n",
      "Index: []\n",
      "-----------------\n",
      "Is Dataframe object is Empty = True\n"
     ]
    }
   ],
   "source": [
    "# creating empty dataframe object\n",
    "df1 = pd.DataFrame()\n",
    "print(df1)\n",
    "print('-----------------')\n",
    "print(\"Is Dataframe object is Empty =\", df1.empty)"
   ]
  },
  {
   "cell_type": "code",
   "execution_count": 30,
   "id": "77e9f570-e96c-4863-90f3-0035731fa294",
   "metadata": {},
   "outputs": [
    {
     "name": "stdout",
     "output_type": "stream",
     "text": [
      "         Names  Rank  Marks\n",
      "RowA    Rossum     1     95\n",
      "RowB    Travis     3     80\n",
      "RowC  MCKinney     2     90\n",
      "RowD   JHunter     4     89\n",
      "RowE    Dennis     5     79\n",
      "---------------------\n",
      "[['Rossum' 1 95]\n",
      " ['Travis' 3 80]\n",
      " ['MCKinney' 2 90]\n",
      " ['JHunter' 4 89]\n",
      " ['Dennis' 5 79]] <class 'numpy.ndarray'>\n"
     ]
    }
   ],
   "source": [
    "#Attribute Name:  values ---->Gives DataSet of DataFrame\n",
    "#Syntax:    DataFrameObject.values\n",
    "print(df)\n",
    "print('---------------------')\n",
    "print(df.values,type(df.values))"
   ]
  },
  {
   "cell_type": "code",
   "execution_count": 32,
   "id": "c37d4796-b5d5-4355-8d9f-21a4f4fe2ef8",
   "metadata": {},
   "outputs": [
    {
     "name": "stdout",
     "output_type": "stream",
     "text": [
      "Original Dataframe \n",
      "         Names  Rank  Marks\n",
      "RowA    Rossum     1     95\n",
      "RowB    Travis     3     80\n",
      "RowC  MCKinney     2     90\n",
      "RowD   JHunter     4     89\n",
      "RowE    Dennis     5     79\n",
      "------------------\n",
      "Transpose Dataframe \n",
      "         RowA    RowB      RowC     RowD    RowE\n",
      "Names  Rossum  Travis  MCKinney  JHunter  Dennis\n",
      "Rank        1       3         2        4       5\n",
      "Marks      95      80        90       89      79\n"
     ]
    }
   ],
   "source": [
    "#Attribute Name:  T ---->Gives Transpose of DataFrame (Row becomes cols and Cols becomes Rows )\n",
    "#Syntax:    DataFrameObject.T\n",
    "print(\"Original Dataframe \")\n",
    "print(df)\n",
    "print('------------------')\n",
    "print(\"Transpose Dataframe \")\n",
    "print(df.T)"
   ]
  },
  {
   "cell_type": "code",
   "execution_count": 33,
   "id": "8e4bb88a-b9bf-4c37-8d7c-0625ccb5bb8f",
   "metadata": {},
   "outputs": [
    {
     "name": "stdout",
     "output_type": "stream",
     "text": [
      "         Names  Rank  Marks\n",
      "RowA    Rossum     1     95\n",
      "RowB    Travis     3     80\n",
      "RowC  MCKinney     2     90\n",
      "RowD   JHunter     4     89\n",
      "RowE    Dennis     5     79\n"
     ]
    }
   ],
   "source": [
    "print(df)"
   ]
  },
  {
   "cell_type": "code",
   "execution_count": null,
   "id": "83866074-7f7c-481a-ba3f-93290136301b",
   "metadata": {},
   "outputs": [],
   "source": []
  }
 ],
 "metadata": {
  "kernelspec": {
   "display_name": "Python 3 (ipykernel)",
   "language": "python",
   "name": "python3"
  },
  "language_info": {
   "codemirror_mode": {
    "name": "ipython",
    "version": 3
   },
   "file_extension": ".py",
   "mimetype": "text/x-python",
   "name": "python",
   "nbconvert_exporter": "python",
   "pygments_lexer": "ipython3",
   "version": "3.12.6"
  }
 },
 "nbformat": 4,
 "nbformat_minor": 5
}
